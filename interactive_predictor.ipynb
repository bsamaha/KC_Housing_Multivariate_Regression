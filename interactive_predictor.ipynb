{
 "cells": [
  {
   "cell_type": "code",
   "execution_count": 1,
   "metadata": {},
   "outputs": [
    {
     "name": "stdout",
     "output_type": "stream",
     "text": [
      "What is your zipcode? 798798\n",
      "What is the total living area of the house? 2000\n",
      "Sorry, couldn't find that zip code. Using only living area\n",
      "Predicted value of house based on living area 2000.0 is 282954.88\n"
     ]
    },
    {
     "name": "stderr",
     "output_type": "stream",
     "text": [
      "C:\\Users\\blake\\flatiron\\Projects\\dsc-mod-2-project-v2-1-onl01-dtsc-ft-041320\\predict_house_price_interactive.py:44: DeprecationWarning: np.asscalar(a) is deprecated since NumPy v1.16, use a.item() instead\n",
      "  final = round(np.asscalar(np.e**prediction),2)\n"
     ]
    }
   ],
   "source": [
    "import predict_house_price_interactive\n",
    "%run predict_house_price_interactive"
   ]
  },
  {
   "cell_type": "markdown",
   "metadata": {},
   "source": [
    "<br>"
   ]
  }
 ],
 "metadata": {
  "kernelspec": {
   "display_name": "Python 3",
   "language": "python",
   "name": "python3"
  },
  "language_info": {
   "codemirror_mode": {
    "name": "ipython",
    "version": 3
   },
   "file_extension": ".py",
   "mimetype": "text/x-python",
   "name": "python",
   "nbconvert_exporter": "python",
   "pygments_lexer": "ipython3",
   "version": "3.7.6"
  }
 },
 "nbformat": 4,
 "nbformat_minor": 2
}
