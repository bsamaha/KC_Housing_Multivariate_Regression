{
 "cells": [
  {
   "cell_type": "markdown",
   "metadata": {},
   "source": [
    "# Import Libraries & Data for Model"
   ]
  },
  {
   "cell_type": "code",
   "execution_count": 1,
   "metadata": {},
   "outputs": [],
   "source": [
    "import pandas as pd\n",
    "import matplotlib.pyplot as plt\n",
    "import numpy as np\n",
    "import statsmodels.api as sm\n",
    "import math\n",
    "import seaborn as sns\n",
    "from my_func import *\n",
    "import pylab\n",
    "\n",
    "import statsmodels.api as sm\n",
    "from statsmodels.stats import diagnostic as diag\n",
    "from statsmodels.stats.outliers_influence import variance_inflation_factor\n",
    "\n",
    "from sklearn.model_selection import train_test_split\n",
    "from sklearn.linear_model import LinearRegression\n",
    "from sklearn.metrics import mean_squared_error, r2_score, mean_absolute_error\n",
    "\n",
    "from scipy import stats\n",
    "from scipy.stats import kurtosis, skew\n",
    "\n",
    "%matplotlib inline"
   ]
  },
  {
   "cell_type": "code",
   "execution_count": 2,
   "metadata": {},
   "outputs": [
    {
     "name": "stdout",
     "output_type": "stream",
     "text": [
      "<class 'pandas.core.frame.DataFrame'>\n",
      "RangeIndex: 21597 entries, 0 to 21596\n",
      "Data columns (total 72 columns):\n",
      " #   Column             Non-Null Count  Dtype  \n",
      "---  ------             --------------  -----  \n",
      " 0   waterfront         21597 non-null  float64\n",
      " 1   log10_price        21597 non-null  float64\n",
      " 2   log10_sqft_living  21597 non-null  float64\n",
      " 3   zipcode_98002      21597 non-null  int64  \n",
      " 4   zipcode_98003      21597 non-null  int64  \n",
      " 5   zipcode_98004      21597 non-null  int64  \n",
      " 6   zipcode_98005      21597 non-null  int64  \n",
      " 7   zipcode_98006      21597 non-null  int64  \n",
      " 8   zipcode_98007      21597 non-null  int64  \n",
      " 9   zipcode_98008      21597 non-null  int64  \n",
      " 10  zipcode_98010      21597 non-null  int64  \n",
      " 11  zipcode_98011      21597 non-null  int64  \n",
      " 12  zipcode_98014      21597 non-null  int64  \n",
      " 13  zipcode_98019      21597 non-null  int64  \n",
      " 14  zipcode_98022      21597 non-null  int64  \n",
      " 15  zipcode_98023      21597 non-null  int64  \n",
      " 16  zipcode_98024      21597 non-null  int64  \n",
      " 17  zipcode_98027      21597 non-null  int64  \n",
      " 18  zipcode_98028      21597 non-null  int64  \n",
      " 19  zipcode_98029      21597 non-null  int64  \n",
      " 20  zipcode_98030      21597 non-null  int64  \n",
      " 21  zipcode_98031      21597 non-null  int64  \n",
      " 22  zipcode_98032      21597 non-null  int64  \n",
      " 23  zipcode_98033      21597 non-null  int64  \n",
      " 24  zipcode_98034      21597 non-null  int64  \n",
      " 25  zipcode_98038      21597 non-null  int64  \n",
      " 26  zipcode_98039      21597 non-null  int64  \n",
      " 27  zipcode_98040      21597 non-null  int64  \n",
      " 28  zipcode_98042      21597 non-null  int64  \n",
      " 29  zipcode_98045      21597 non-null  int64  \n",
      " 30  zipcode_98052      21597 non-null  int64  \n",
      " 31  zipcode_98053      21597 non-null  int64  \n",
      " 32  zipcode_98055      21597 non-null  int64  \n",
      " 33  zipcode_98056      21597 non-null  int64  \n",
      " 34  zipcode_98058      21597 non-null  int64  \n",
      " 35  zipcode_98059      21597 non-null  int64  \n",
      " 36  zipcode_98065      21597 non-null  int64  \n",
      " 37  zipcode_98070      21597 non-null  int64  \n",
      " 38  zipcode_98072      21597 non-null  int64  \n",
      " 39  zipcode_98074      21597 non-null  int64  \n",
      " 40  zipcode_98075      21597 non-null  int64  \n",
      " 41  zipcode_98077      21597 non-null  int64  \n",
      " 42  zipcode_98092      21597 non-null  int64  \n",
      " 43  zipcode_98102      21597 non-null  int64  \n",
      " 44  zipcode_98103      21597 non-null  int64  \n",
      " 45  zipcode_98105      21597 non-null  int64  \n",
      " 46  zipcode_98106      21597 non-null  int64  \n",
      " 47  zipcode_98107      21597 non-null  int64  \n",
      " 48  zipcode_98108      21597 non-null  int64  \n",
      " 49  zipcode_98109      21597 non-null  int64  \n",
      " 50  zipcode_98112      21597 non-null  int64  \n",
      " 51  zipcode_98115      21597 non-null  int64  \n",
      " 52  zipcode_98116      21597 non-null  int64  \n",
      " 53  zipcode_98117      21597 non-null  int64  \n",
      " 54  zipcode_98118      21597 non-null  int64  \n",
      " 55  zipcode_98119      21597 non-null  int64  \n",
      " 56  zipcode_98122      21597 non-null  int64  \n",
      " 57  zipcode_98125      21597 non-null  int64  \n",
      " 58  zipcode_98126      21597 non-null  int64  \n",
      " 59  zipcode_98133      21597 non-null  int64  \n",
      " 60  zipcode_98136      21597 non-null  int64  \n",
      " 61  zipcode_98144      21597 non-null  int64  \n",
      " 62  zipcode_98146      21597 non-null  int64  \n",
      " 63  zipcode_98148      21597 non-null  int64  \n",
      " 64  zipcode_98155      21597 non-null  int64  \n",
      " 65  zipcode_98166      21597 non-null  int64  \n",
      " 66  zipcode_98168      21597 non-null  int64  \n",
      " 67  zipcode_98177      21597 non-null  int64  \n",
      " 68  zipcode_98178      21597 non-null  int64  \n",
      " 69  zipcode_98188      21597 non-null  int64  \n",
      " 70  zipcode_98198      21597 non-null  int64  \n",
      " 71  zipcode_98199      21597 non-null  int64  \n",
      "dtypes: float64(3), int64(69)\n",
      "memory usage: 11.9 MB\n"
     ]
    }
   ],
   "source": [
    "df = pd.read_csv('linreg_ready_data.csv')\n",
    "df.info()"
   ]
  },
  {
   "cell_type": "markdown",
   "metadata": {},
   "source": [
    "# Build The Model"
   ]
  },
  {
   "cell_type": "code",
   "execution_count": 3,
   "metadata": {},
   "outputs": [
    {
     "data": {
      "text/plain": [
       "LinearRegression(copy_X=True, fit_intercept=True, n_jobs=None, normalize=False)"
      ]
     },
     "execution_count": 3,
     "metadata": {},
     "output_type": "execute_result"
    }
   ],
   "source": [
    "# define our input variable (X) & output variable\n",
    "X = df.drop(columns='log10_price')\n",
    "Y = df[['log10_price']]\n",
    "\n",
    "# Split X and y into X_\n",
    "X_train, X_test, y_train, y_test = train_test_split(X, Y, test_size=0.20, random_state=1)\n",
    "\n",
    "# create a Linear Regression model object\n",
    "regression_model = LinearRegression()\n",
    "\n",
    "# pass through the X_train & y_train data set\n",
    "regression_model.fit(X_train, y_train)"
   ]
  },
  {
   "cell_type": "code",
   "execution_count": 12,
   "metadata": {},
   "outputs": [
    {
     "data": {
      "text/plain": [
       "const    448.387606\n",
       "dtype: float64"
      ]
     },
     "metadata": {},
     "output_type": "display_data"
    }
   ],
   "source": [
    "# the VIFdoes expect a constant term in the data, so we need to add one using the add_constant method\n",
    "x_1 = sm.tools.add_constant(df.drop(columns='log10_price'))\n",
    "#X2 = sm.tools.add_constant(df_iter_1)\n",
    "\n",
    "# create the series for both\n",
    "vif_check_df = pd.Series([variance_inflation_factor(x_1.values, i) for i in range(x_1.shape[1])], index=x_1.columns)\n",
    "\n",
    "# display the series\n",
    "display(vif_check_df.loc[vif_check_df > 5])\n"
   ]
  },
  {
   "cell_type": "markdown",
   "metadata": {},
   "source": [
    "#### Make Predictions like this"
   ]
  },
  {
   "cell_type": "code",
   "execution_count": 13,
   "metadata": {},
   "outputs": [
    {
     "data": {
      "text/plain": [
       "array([[5.33644819],\n",
       "       [5.54907074],\n",
       "       [5.52335965],\n",
       "       [5.50779895],\n",
       "       [5.81708809]])"
      ]
     },
     "execution_count": 13,
     "metadata": {},
     "output_type": "execute_result"
    }
   ],
   "source": [
    "# Get multiple predictions\n",
    "y_predict = regression_model.predict(X_test)\n",
    "\n",
    "# Show the first 5 predictions\n",
    "y_predict[:5]"
   ]
  },
  {
   "cell_type": "markdown",
   "metadata": {},
   "source": [
    "# Evaluate the Model"
   ]
  },
  {
   "cell_type": "code",
   "execution_count": 14,
   "metadata": {
    "scrolled": false
   },
   "outputs": [
    {
     "name": "stdout",
     "output_type": "stream",
     "text": [
      "                                 OLS Regression Results                                \n",
      "=======================================================================================\n",
      "Dep. Variable:            log10_price   R-squared (uncentered):                   0.999\n",
      "Model:                            OLS   Adj. R-squared (uncentered):              0.999\n",
      "Method:                 Least Squares   F-statistic:                          3.266e+05\n",
      "Date:                Tue, 02 Jun 2020   Prob (F-statistic):                        0.00\n",
      "Time:                        11:00:06   Log-Likelihood:                          7281.1\n",
      "No. Observations:               21597   AIC:                                 -1.442e+04\n",
      "Df Residuals:                   21526   BIC:                                 -1.385e+04\n",
      "Df Model:                          71                                                  \n",
      "Covariance Type:            nonrobust                                                  \n",
      "=====================================================================================\n",
      "                        coef    std err          t      P>|t|      [0.025      0.975]\n",
      "-------------------------------------------------------------------------------------\n",
      "waterfront            0.1968      0.015     13.434      0.000       0.168       0.226\n",
      "log10_sqft_living     1.5410      0.003    591.832      0.000       1.536       1.546\n",
      "zipcode_98002         0.4450      0.015     30.051      0.000       0.416       0.474\n",
      "zipcode_98003         0.4245      0.013     31.739      0.000       0.398       0.451\n",
      "zipcode_98004         0.8111      0.013     61.531      0.000       0.785       0.837\n",
      "zipcode_98005         0.6493      0.016     40.535      0.000       0.618       0.681\n",
      "zipcode_98006         0.6079      0.012     51.441      0.000       0.585       0.631\n",
      "zipcode_98007         0.6616      0.017     39.068      0.000       0.628       0.695\n",
      "zipcode_98008         0.6747      0.013     50.346      0.000       0.648       0.701\n",
      "zipcode_98010         0.5178      0.019     26.830      0.000       0.480       0.556\n",
      "zipcode_98011         0.5447      0.015     36.016      0.000       0.515       0.574\n",
      "zipcode_98014         0.5606      0.018     31.642      0.000       0.526       0.595\n",
      "zipcode_98019         0.5074      0.015     33.325      0.000       0.478       0.537\n",
      "zipcode_98022         0.4918      0.014     34.833      0.000       0.464       0.519\n",
      "zipcode_98023         0.3925      0.012     34.099      0.000       0.370       0.415\n",
      "zipcode_98024         0.5946      0.021     28.073      0.000       0.553       0.636\n",
      "zipcode_98027         0.5682      0.012     46.488      0.000       0.544       0.592\n",
      "zipcode_98028         0.5545      0.013     41.362      0.000       0.528       0.581\n",
      "zipcode_98029         0.6271      0.013     48.284      0.000       0.602       0.653\n",
      "zipcode_98030         0.4121      0.014     29.924      0.000       0.385       0.439\n",
      "zipcode_98031         0.4311      0.013     31.954      0.000       0.405       0.458\n",
      "zipcode_98032         0.4390      0.018     24.961      0.000       0.404       0.473\n",
      "zipcode_98033         0.7117      0.012     59.152      0.000       0.688       0.735\n",
      "zipcode_98034         0.6414      0.011     56.857      0.000       0.619       0.664\n",
      "zipcode_98038         0.4410      0.011     39.427      0.000       0.419       0.463\n",
      "zipcode_98039         0.8308      0.026     31.784      0.000       0.780       0.882\n",
      "zipcode_98040         0.6944      0.014     50.720      0.000       0.668       0.721\n",
      "zipcode_98042         0.4369      0.011     38.761      0.000       0.415       0.459\n",
      "zipcode_98045         0.5577      0.014     38.587      0.000       0.529       0.586\n",
      "zipcode_98052         0.6265      0.011     55.319      0.000       0.604       0.649\n",
      "zipcode_98053         0.5918      0.012     48.041      0.000       0.568       0.616\n",
      "zipcode_98055         0.4967      0.013     36.805      0.000       0.470       0.523\n",
      "zipcode_98056         0.5462      0.012     45.187      0.000       0.522       0.570\n",
      "zipcode_98058         0.4642      0.012     39.388      0.000       0.441       0.487\n",
      "zipcode_98059         0.4926      0.012     41.618      0.000       0.469       0.516\n",
      "zipcode_98065         0.4877      0.013     36.892      0.000       0.462       0.514\n",
      "zipcode_98070         0.6292      0.018     34.529      0.000       0.593       0.665\n",
      "zipcode_98072         0.5725      0.014     42.029      0.000       0.546       0.599\n",
      "zipcode_98074         0.5743      0.012     47.522      0.000       0.551       0.598\n",
      "zipcode_98075         0.5394      0.013     42.051      0.000       0.514       0.565\n",
      "zipcode_98077         0.5286      0.015     34.807      0.000       0.499       0.558\n",
      "zipcode_98092         0.3884      0.013     30.713      0.000       0.364       0.413\n",
      "zipcode_98102         0.8441      0.019     44.458      0.000       0.807       0.881\n",
      "zipcode_98103         0.8282      0.011     76.033      0.000       0.807       0.850\n",
      "zipcode_98105         0.8118      0.014     56.819      0.000       0.784       0.840\n",
      "zipcode_98106         0.6472      0.012     51.795      0.000       0.623       0.672\n",
      "zipcode_98107         0.8567      0.013     63.723      0.000       0.830       0.883\n",
      "zipcode_98108         0.5971      0.015     39.338      0.000       0.567       0.627\n",
      "zipcode_98109         0.8519      0.019     45.711      0.000       0.815       0.888\n",
      "zipcode_98112         0.8121      0.014     59.287      0.000       0.785       0.839\n",
      "zipcode_98115         0.7874      0.011     71.256      0.000       0.766       0.809\n",
      "zipcode_98116         0.7797      0.013     61.346      0.000       0.755       0.805\n",
      "zipcode_98117         0.8182      0.011     73.687      0.000       0.796       0.840\n",
      "zipcode_98118         0.6651      0.011     58.817      0.000       0.643       0.687\n",
      "zipcode_98119         0.8515      0.015     55.531      0.000       0.821       0.882\n",
      "zipcode_98122         0.8069      0.013     61.261      0.000       0.781       0.833\n",
      "zipcode_98125         0.6928      0.012     57.924      0.000       0.669       0.716\n",
      "zipcode_98126         0.7463      0.012     60.567      0.000       0.722       0.770\n",
      "zipcode_98133         0.6686      0.011     58.776      0.000       0.646       0.691\n",
      "zipcode_98136         0.7772      0.014     57.441      0.000       0.751       0.804\n",
      "zipcode_98144         0.7260      0.013     57.712      0.000       0.701       0.751\n",
      "zipcode_98146         0.6027      0.013     45.937      0.000       0.577       0.628\n",
      "zipcode_98148         0.5338      0.024     21.909      0.000       0.486       0.582\n",
      "zipcode_98155         0.6347      0.012     54.188      0.000       0.612       0.658\n",
      "zipcode_98166         0.5507      0.014     39.869      0.000       0.524       0.578\n",
      "zipcode_98168         0.5282      0.013     39.593      0.000       0.502       0.554\n",
      "zipcode_98177         0.6479      0.014     46.707      0.000       0.621       0.675\n",
      "zipcode_98178         0.5138      0.014     37.902      0.000       0.487       0.540\n",
      "zipcode_98188         0.4731      0.017     27.764      0.000       0.440       0.507\n",
      "zipcode_98198         0.4891      0.013     36.788      0.000       0.463       0.515\n",
      "zipcode_98199         0.7793      0.013     60.124      0.000       0.754       0.805\n",
      "==============================================================================\n",
      "Omnibus:                     1058.049   Durbin-Watson:                   1.993\n",
      "Prob(Omnibus):                  0.000   Jarque-Bera (JB):             1491.750\n",
      "Skew:                           0.462   Prob(JB):                         0.00\n",
      "Kurtosis:                       3.896   Cond. No.                         201.\n",
      "==============================================================================\n",
      "\n",
      "Warnings:\n",
      "[1] Standard Errors assume that the covariance matrix of the errors is correctly specified.\n"
     ]
    }
   ],
   "source": [
    "# define our intput\n",
    "X3 = sm.add_constant(X)\n",
    "\n",
    "# create a OLS model\n",
    "model = sm.OLS(Y, X)\n",
    "\n",
    "# fit the data\n",
    "est = model.fit()\n",
    "\n",
    "# check the data\n",
    "print(est.summary())"
   ]
  },
  {
   "cell_type": "code",
   "execution_count": 16,
   "metadata": {},
   "outputs": [
    {
     "name": "stdout",
     "output_type": "stream",
     "text": [
      "MSE = 0.009 \n",
      "MSE = 1.0209428622318355 \n",
      "MAE = 0.0701\n",
      "RMSE = 0.0949\n"
     ]
    }
   ],
   "source": [
    "# calculate the mean squared error\n",
    "model_mse = mean_squared_error(y_test, y_predict)\n",
    "\n",
    "# calculate the mean absolute error\n",
    "model_mae = mean_absolute_error(y_test, y_predict)\n",
    "\n",
    "# calulcate the root mean squared error\n",
    "model_rmse =  math.sqrt(model_mse)\n",
    "\n",
    "# display the output\n",
    "print(\"MSE = {:.3} \".format(model_mse))\n",
    "print(\"MSE = {} \".format(10**model_mse))\n",
    "\n",
    "print(\"MAE = {:.3}\".format(model_mae))\n",
    "\n",
    "\n",
    "print(\"RMSE = {:.3}\".format(model_rmse))"
   ]
  },
  {
   "cell_type": "code",
   "execution_count": 8,
   "metadata": {
    "scrolled": true
   },
   "outputs": [
    {
     "data": {
      "image/png": "[encoded data removed]",
      "text/plain": [
       "<Figure size 432x288 with 1 Axes>"
      ]
     },
     "metadata": {
      "needs_background": "light"
     },
     "output_type": "display_data"
    },
    {
     "name": "stdout",
     "output_type": "stream",
     "text": [
      "The mean of the residuals is 0.006838\n"
     ]
    }
   ],
   "source": [
    "# check for the normality of the residuals\n",
    "sm.qqplot(est.resid, line='s')\n",
    "pylab.show()\n",
    "\n",
    "# also check that the mean of the residuals is approx. 0.\n",
    "mean_residuals = sum(est.resid)/ len(est.resid)\n",
    "print(\"The mean of the residuals is {:.4}\".format(mean_residuals))"
   ]
  },
  {
   "cell_type": "code",
   "execution_count": 9,
   "metadata": {
    "scrolled": true
   },
   "outputs": [
    {
     "data": {
      "text/plain": [
       "Series([], dtype: float64)"
      ]
     },
     "execution_count": 9,
     "metadata": {},
     "output_type": "execute_result"
    }
   ],
   "source": [
    "est.pvalues.loc[est.pvalues>.05]\n",
    "#first run pvalues > .05 = bedrooms_9,11,33 & zipcode_98023\n",
    "#return to data cleaning notebook and remove these columns"
   ]
  },
  {
   "cell_type": "code",
   "execution_count": null,
   "metadata": {},
   "outputs": [],
   "source": []
  },
  {
   "cell_type": "markdown",
   "metadata": {},
   "source": [
    "# Save for Later Use"
   ]
  },
  {
   "cell_type": "code",
   "execution_count": 10,
   "metadata": {},
   "outputs": [],
   "source": [
    "import pickle\n",
    "\n",
    "# pickle the model.\n",
    "with open('kc_county_multilinreg.sav','wb') as f:\n",
    "     pickle.dump(regression_model,f)\n",
    "\n",
    "# load it back in to see if everything works\n",
    "with open('kc_county_multilinreg.sav', 'rb') as pickle_file:\n",
    "     regression_model_predictor = pickle.load(pickle_file)"
   ]
  },
  {
   "cell_type": "code",
   "execution_count": null,
   "metadata": {},
   "outputs": [],
   "source": []
  }
 ],
 "metadata": {
  "kernelspec": {
   "display_name": "Python 3",
   "language": "python",
   "name": "python3"
  },
  "language_info": {
   "codemirror_mode": {
    "name": "ipython",
    "version": 3
   },
   "file_extension": ".py",
   "mimetype": "text/x-python",
   "name": "python",
   "nbconvert_exporter": "python",
   "pygments_lexer": "ipython3",
   "version": "3.7.6"
  }
 },
 "nbformat": 4,
 "nbformat_minor": 4
}
