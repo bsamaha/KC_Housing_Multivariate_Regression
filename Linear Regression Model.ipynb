{
 "cells": [
  {
   "cell_type": "markdown",
   "metadata": {},
   "source": [
    "# Import Libraries & Data for Model"
   ]
  },
  {
   "cell_type": "code",
   "execution_count": 1,
   "metadata": {},
   "outputs": [],
   "source": [
    "import pandas as pd\n",
    "import matplotlib.pyplot as plt\n",
    "import numpy as np\n",
    "import statsmodels.api as sm\n",
    "import math\n",
    "import seaborn as sns\n",
    "from my_func import *\n",
    "import pylab\n",
    "\n",
    "import statsmodels.api as sm\n",
    "from statsmodels.stats import diagnostic as diag\n",
    "from statsmodels.stats.outliers_influence import variance_inflation_factor\n",
    "\n",
    "from sklearn.model_selection import train_test_split\n",
    "from sklearn.linear_model import LinearRegression\n",
    "from sklearn.metrics import mean_squared_error, r2_score, mean_absolute_error\n",
    "\n",
    "from scipy import stats\n",
    "from scipy.stats import kurtosis, skew\n",
    "\n",
    "%matplotlib inline"
   ]
  },
  {
   "cell_type": "code",
   "execution_count": 16,
   "metadata": {},
   "outputs": [
    {
     "data": {
      "text/plain": [
       "(21597, 71)"
      ]
     },
     "metadata": {},
     "output_type": "display_data"
    },
    {
     "data": {
      "text/plain": [
       "Index(['log10_price', 'log10_sqft_living', 'zipcode_98002', 'zipcode_98003',\n",
       "       'zipcode_98004', 'zipcode_98005', 'zipcode_98006', 'zipcode_98007',\n",
       "       'zipcode_98008', 'zipcode_98010', 'zipcode_98011', 'zipcode_98014',\n",
       "       'zipcode_98019', 'zipcode_98022', 'zipcode_98023', 'zipcode_98024',\n",
       "       'zipcode_98027', 'zipcode_98028', 'zipcode_98029', 'zipcode_98030',\n",
       "       'zipcode_98031', 'zipcode_98032', 'zipcode_98033', 'zipcode_98034',\n",
       "       'zipcode_98038', 'zipcode_98039', 'zipcode_98040', 'zipcode_98042',\n",
       "       'zipcode_98045', 'zipcode_98052', 'zipcode_98053', 'zipcode_98055',\n",
       "       'zipcode_98056', 'zipcode_98058', 'zipcode_98059', 'zipcode_98065',\n",
       "       'zipcode_98070', 'zipcode_98072', 'zipcode_98074', 'zipcode_98075',\n",
       "       'zipcode_98077', 'zipcode_98092', 'zipcode_98102', 'zipcode_98103',\n",
       "       'zipcode_98105', 'zipcode_98106', 'zipcode_98107', 'zipcode_98108',\n",
       "       'zipcode_98109', 'zipcode_98112', 'zipcode_98115', 'zipcode_98116',\n",
       "       'zipcode_98117', 'zipcode_98118', 'zipcode_98119', 'zipcode_98122',\n",
       "       'zipcode_98125', 'zipcode_98126', 'zipcode_98133', 'zipcode_98136',\n",
       "       'zipcode_98144', 'zipcode_98146', 'zipcode_98148', 'zipcode_98155',\n",
       "       'zipcode_98166', 'zipcode_98168', 'zipcode_98177', 'zipcode_98178',\n",
       "       'zipcode_98188', 'zipcode_98198', 'zipcode_98199'],\n",
       "      dtype='object')"
      ]
     },
     "metadata": {},
     "output_type": "display_data"
    }
   ],
   "source": [
    "df = pd.read_csv('linreg_ready_data.csv')\n",
    "display(df.shape)\n",
    "display(df.columns)"
   ]
  },
  {
   "cell_type": "markdown",
   "metadata": {},
   "source": [
    "# Build The Model"
   ]
  },
  {
   "cell_type": "markdown",
   "metadata": {},
   "source": [
    "#### Create Test : Train Split"
   ]
  },
  {
   "cell_type": "code",
   "execution_count": 3,
   "metadata": {},
   "outputs": [
    {
     "data": {
      "text/plain": [
       "LinearRegression(copy_X=True, fit_intercept=True, n_jobs=None, normalize=False)"
      ]
     },
     "execution_count": 3,
     "metadata": {},
     "output_type": "execute_result"
    }
   ],
   "source": [
    "# define our input variable (X) & output variable\n",
    "X = df.drop(columns='log10_price')\n",
    "Y = df[['log10_price']]\n",
    "\n",
    "# Split X and y into X_\n",
    "X_train, X_test, y_train, y_test = train_test_split(X, Y, test_size=0.20, random_state=1)\n",
    "\n",
    "# create a Linear Regression model object\n",
    "regression_model = LinearRegression()\n",
    "\n",
    "# pass through the X_train & y_train data set\n",
    "regression_model.fit(X_train, y_train)"
   ]
  },
  {
   "cell_type": "markdown",
   "metadata": {},
   "source": [
    "#### Another VIF Check"
   ]
  },
  {
   "cell_type": "code",
   "execution_count": 4,
   "metadata": {},
   "outputs": [
    {
     "data": {
      "text/plain": [
       "const    445.65671\n",
       "dtype: float64"
      ]
     },
     "metadata": {},
     "output_type": "display_data"
    }
   ],
   "source": [
    "# the VIFdoes expect a constant term in the data, so we need to add one using the add_constant method\n",
    "x_1 = sm.tools.add_constant(df.drop(columns='log10_price'))\n",
    "#X2 = sm.tools.add_constant(df_iter_1)\n",
    "\n",
    "# create the series for both\n",
    "vif_check_df = pd.Series([variance_inflation_factor(x_1.values, i) for i in range(x_1.shape[1])], index=x_1.columns)\n",
    "\n",
    "# display the series\n",
    "display(vif_check_df.loc[vif_check_df > 5])\n"
   ]
  },
  {
   "cell_type": "markdown",
   "metadata": {},
   "source": [
    "# Evaluate the Model"
   ]
  },
  {
   "cell_type": "code",
   "execution_count": 5,
   "metadata": {
    "scrolled": false
   },
   "outputs": [
    {
     "name": "stdout",
     "output_type": "stream",
     "text": [
      "                                 OLS Regression Results                                \n",
      "=======================================================================================\n",
      "Dep. Variable:            log10_price   R-squared (uncentered):                   0.999\n",
      "Model:                            OLS   Adj. R-squared (uncentered):              0.999\n",
      "Method:                 Least Squares   F-statistic:                          3.285e+05\n",
      "Date:                Tue, 02 Jun 2020   Prob (F-statistic):                        0.00\n",
      "Time:                        11:27:34   Log-Likelihood:                          7191.0\n",
      "No. Observations:               21597   AIC:                                 -1.424e+04\n",
      "Df Residuals:                   21527   BIC:                                 -1.368e+04\n",
      "Df Model:                          70                                                  \n",
      "Covariance Type:            nonrobust                                                  \n",
      "=====================================================================================\n",
      "                        coef    std err          t      P>|t|      [0.025      0.975]\n",
      "-------------------------------------------------------------------------------------\n",
      "log10_sqft_living     1.5420      0.003    590.070      0.000       1.537       1.547\n",
      "zipcode_98002         0.4416      0.015     29.700      0.000       0.412       0.471\n",
      "zipcode_98003         0.4210      0.013     31.353      0.000       0.395       0.447\n",
      "zipcode_98004         0.8080      0.013     61.054      0.000       0.782       0.834\n",
      "zipcode_98005         0.6456      0.016     40.146      0.000       0.614       0.677\n",
      "zipcode_98006         0.6058      0.012     51.056      0.000       0.583       0.629\n",
      "zipcode_98007         0.6580      0.017     38.702      0.000       0.625       0.691\n",
      "zipcode_98008         0.6774      0.013     50.345      0.000       0.651       0.704\n",
      "zipcode_98010         0.5143      0.019     26.539      0.000       0.476       0.552\n",
      "zipcode_98011         0.5411      0.015     35.636      0.000       0.511       0.571\n",
      "zipcode_98014         0.5571      0.018     31.317      0.000       0.522       0.592\n",
      "zipcode_98019         0.5038      0.015     32.959      0.000       0.474       0.534\n",
      "zipcode_98022         0.4883      0.014     34.450      0.000       0.461       0.516\n",
      "zipcode_98023         0.3901      0.012     33.760      0.000       0.367       0.413\n",
      "zipcode_98024         0.5910      0.021     27.791      0.000       0.549       0.633\n",
      "zipcode_98027         0.5656      0.012     46.084      0.000       0.542       0.590\n",
      "zipcode_98028         0.5516      0.013     40.984      0.000       0.525       0.578\n",
      "zipcode_98029         0.6235      0.013     47.820      0.000       0.598       0.649\n",
      "zipcode_98030         0.4085      0.014     29.550      0.000       0.381       0.436\n",
      "zipcode_98031         0.4276      0.014     31.568      0.000       0.401       0.454\n",
      "zipcode_98032         0.4355      0.018     24.665      0.000       0.401       0.470\n",
      "zipcode_98033         0.7095      0.012     58.729      0.000       0.686       0.733\n",
      "zipcode_98034         0.6397      0.011     56.475      0.000       0.618       0.662\n",
      "zipcode_98038         0.4374      0.011     38.958      0.000       0.415       0.459\n",
      "zipcode_98039         0.8310      0.026     31.657      0.000       0.780       0.882\n",
      "zipcode_98040         0.6983      0.014     50.809      0.000       0.671       0.725\n",
      "zipcode_98042         0.4334      0.011     38.300      0.000       0.411       0.456\n",
      "zipcode_98045         0.5542      0.015     38.191      0.000       0.526       0.583\n",
      "zipcode_98052         0.6239      0.011     54.872      0.000       0.602       0.646\n",
      "zipcode_98053         0.5882      0.012     47.560      0.000       0.564       0.612\n",
      "zipcode_98055         0.4932      0.014     36.404      0.000       0.467       0.520\n",
      "zipcode_98056         0.5441      0.012     44.834      0.000       0.520       0.568\n",
      "zipcode_98058         0.4607      0.012     38.936      0.000       0.438       0.484\n",
      "zipcode_98059         0.4890      0.012     41.153      0.000       0.466       0.512\n",
      "zipcode_98065         0.4841      0.013     36.473      0.000       0.458       0.510\n",
      "zipcode_98070         0.6593      0.018     36.311      0.000       0.624       0.695\n",
      "zipcode_98072         0.5689      0.014     41.600      0.000       0.542       0.596\n",
      "zipcode_98074         0.5733      0.012     47.245      0.000       0.550       0.597\n",
      "zipcode_98075         0.5401      0.013     41.929      0.000       0.515       0.565\n",
      "zipcode_98077         0.5249      0.015     34.427      0.000       0.495       0.555\n",
      "zipcode_98092         0.3848      0.013     30.312      0.000       0.360       0.410\n",
      "zipcode_98102         0.8406      0.019     44.094      0.000       0.803       0.878\n",
      "zipcode_98103         0.8248      0.011     75.425      0.000       0.803       0.846\n",
      "zipcode_98105         0.8109      0.014     56.517      0.000       0.783       0.839\n",
      "zipcode_98106         0.6438      0.013     51.322      0.000       0.619       0.668\n",
      "zipcode_98107         0.8533      0.013     63.218      0.000       0.827       0.880\n",
      "zipcode_98108         0.5937      0.015     38.955      0.000       0.564       0.624\n",
      "zipcode_98109         0.8484      0.019     45.338      0.000       0.812       0.885\n",
      "zipcode_98112         0.8085      0.014     58.791      0.000       0.782       0.835\n",
      "zipcode_98115         0.7842      0.011     70.694      0.000       0.762       0.806\n",
      "zipcode_98116         0.7768      0.013     60.876      0.000       0.752       0.802\n",
      "zipcode_98117         0.8148      0.011     73.093      0.000       0.793       0.837\n",
      "zipcode_98118         0.6628      0.011     58.381      0.000       0.641       0.685\n",
      "zipcode_98119         0.8480      0.015     55.081      0.000       0.818       0.878\n",
      "zipcode_98122         0.8035      0.013     60.757      0.000       0.778       0.829\n",
      "zipcode_98125         0.6922      0.012     57.638      0.000       0.669       0.716\n",
      "zipcode_98126         0.7429      0.012     60.055      0.000       0.719       0.767\n",
      "zipcode_98133         0.6652      0.011     58.248      0.000       0.643       0.688\n",
      "zipcode_98136         0.7775      0.014     57.225      0.000       0.751       0.804\n",
      "zipcode_98144         0.7237      0.013     57.294      0.000       0.699       0.748\n",
      "zipcode_98146         0.6034      0.013     45.800      0.000       0.578       0.629\n",
      "zipcode_98148         0.5304      0.024     21.680      0.000       0.482       0.578\n",
      "zipcode_98155         0.6334      0.012     53.859      0.000       0.610       0.656\n",
      "zipcode_98166         0.5580      0.014     40.264      0.000       0.531       0.585\n",
      "zipcode_98168         0.5248      0.013     39.185      0.000       0.499       0.551\n",
      "zipcode_98177         0.6451      0.014     46.318      0.000       0.618       0.672\n",
      "zipcode_98178         0.5171      0.014     37.995      0.000       0.490       0.544\n",
      "zipcode_98188         0.4697      0.017     27.450      0.000       0.436       0.503\n",
      "zipcode_98198         0.4920      0.013     36.856      0.000       0.466       0.518\n",
      "zipcode_98199         0.7764      0.013     59.659      0.000       0.751       0.802\n",
      "==============================================================================\n",
      "Omnibus:                     1057.297   Durbin-Watson:                   1.990\n",
      "Prob(Omnibus):                  0.000   Jarque-Bera (JB):             1484.348\n",
      "Skew:                           0.464   Prob(JB):                         0.00\n",
      "Kurtosis:                       3.889   Cond. No.                         201.\n",
      "==============================================================================\n",
      "\n",
      "Warnings:\n",
      "[1] Standard Errors assume that the covariance matrix of the errors is correctly specified.\n"
     ]
    }
   ],
   "source": [
    "# define our intput\n",
    "X3 = sm.add_constant(X)\n",
    "\n",
    "# create a OLS model\n",
    "model = sm.OLS(Y, X)\n",
    "\n",
    "# fit the data\n",
    "est = model.fit()\n",
    "\n",
    "# check the data\n",
    "print(est.summary())"
   ]
  },
  {
   "cell_type": "markdown",
   "metadata": {},
   "source": [
    "#### Make Predictions to Test the Model"
   ]
  },
  {
   "cell_type": "code",
   "execution_count": 6,
   "metadata": {},
   "outputs": [
    {
     "data": {
      "text/plain": [
       "array([[215822.72],\n",
       "       [353211.36],\n",
       "       [334146.56],\n",
       "       [321198.09],\n",
       "       [657317.44]])"
      ]
     },
     "execution_count": 6,
     "metadata": {},
     "output_type": "execute_result"
    }
   ],
   "source": [
    "# Get multiple predictions\n",
    "y_predict = regression_model.predict(X_test)\n",
    "\n",
    "# Show the first 5 predictions\n",
    "y_dollars = 10**y_predict\n",
    "y_dollars[:5].round(2)"
   ]
  },
  {
   "cell_type": "code",
   "execution_count": 7,
   "metadata": {},
   "outputs": [
    {
     "name": "stdout",
     "output_type": "stream",
     "text": [
      "MSE = 0.00969 \n",
      "MSE = 1.0225633188574896 \n",
      "MAE = 0.0715\n",
      "RMSE = 0.0984\n"
     ]
    }
   ],
   "source": [
    "# calculate the mean squared error\n",
    "model_mse = mean_squared_error(y_test, y_predict)\n",
    "\n",
    "# calculate the mean absolute error\n",
    "model_mae = mean_absolute_error(y_test, y_predict)\n",
    "\n",
    "# calulcate the root mean squared error\n",
    "model_rmse =  math.sqrt(model_mse)\n",
    "\n",
    "# display the output\n",
    "print(\"MSE = {:.3} \".format(model_mse))\n",
    "print(\"MSE = {} \".format(10**model_mse))\n",
    "\n",
    "print(\"MAE = {:.3}\".format(model_mae))\n",
    "\n",
    "\n",
    "print(\"RMSE = {:.3}\".format(model_rmse))"
   ]
  },
  {
   "cell_type": "code",
   "execution_count": 8,
   "metadata": {
    "scrolled": true
   },
   "outputs": [
    {
     "data": {
      "image/png": "[encoded data removed]",
      "text/plain": [
       "<Figure size 432x288 with 1 Axes>"
      ]
     },
     "metadata": {
      "needs_background": "light"
     },
     "output_type": "display_data"
    },
    {
     "name": "stdout",
     "output_type": "stream",
     "text": [
      "The mean of the residuals is 0.00678\n"
     ]
    }
   ],
   "source": [
    "# check for the normality of the residuals\n",
    "sm.qqplot(est.resid, line='s')\n",
    "pylab.show()\n",
    "\n",
    "# also check that the mean of the residuals is approx. 0.\n",
    "mean_residuals = sum(est.resid)/ len(est.resid)\n",
    "print(\"The mean of the residuals is {:.4}\".format(mean_residuals))"
   ]
  },
  {
   "cell_type": "code",
   "execution_count": 9,
   "metadata": {
    "scrolled": true
   },
   "outputs": [
    {
     "data": {
      "text/plain": [
       "Series([], dtype: float64)"
      ]
     },
     "execution_count": 9,
     "metadata": {},
     "output_type": "execute_result"
    }
   ],
   "source": [
    "#return to data cleaning notebook and remove these columns\n",
    "est.pvalues.loc[est.pvalues>.05]\n"
   ]
  },
  {
   "cell_type": "markdown",
   "metadata": {},
   "source": [
    "**if any values are output in the cell above return to the data cleaning notebook and remove that column as it is insignificant**"
   ]
  },
  {
   "cell_type": "markdown",
   "metadata": {},
   "source": [
    "# Save for Later Use"
   ]
  },
  {
   "cell_type": "code",
   "execution_count": 10,
   "metadata": {},
   "outputs": [],
   "source": [
    "import pickle\n",
    "\n",
    "# pickle the model.\n",
    "with open('kc_county_multilinreg.sav','wb') as f:\n",
    "     pickle.dump(regression_model,f)\n",
    "\n",
    "# load it back in to see if everything works\n",
    "with open('kc_county_multilinreg.sav', 'rb') as pickle_file:\n",
    "     kc_county_houseprice_predictor = pickle.load(pickle_file)"
   ]
  },
  {
   "cell_type": "markdown",
   "metadata": {},
   "source": [
    "### Bring back in to see if regression still works"
   ]
  },
  {
   "cell_type": "code",
   "execution_count": 11,
   "metadata": {
    "scrolled": true
   },
   "outputs": [
    {
     "name": "stdout",
     "output_type": "stream",
     "text": [
      "log10_sqft_living    3.075547\n",
      "zipcode_98002        0.000000\n",
      "zipcode_98003        0.000000\n",
      "zipcode_98004        0.000000\n",
      "zipcode_98005        0.000000\n",
      "                       ...   \n",
      "zipcode_98177        0.000000\n",
      "zipcode_98178        0.000000\n",
      "zipcode_98188        0.000000\n",
      "zipcode_98198        0.000000\n",
      "zipcode_98199        0.000000\n",
      "Name: 10996, Length: 70, dtype: float64\n",
      "****************************************************************************************************\n",
      "These are the only data points: log10_sqft_living    3.075547\n",
      "Name: 10996, dtype: float64\n"
     ]
    }
   ],
   "source": [
    "print(X_test.iloc[1])\n",
    "print('*'*100)\n",
    "print('These are the only data points:',X_test.iloc[1].loc[X_test.iloc[1] > 1])\n"
   ]
  },
  {
   "cell_type": "code",
   "execution_count": 12,
   "metadata": {},
   "outputs": [
    {
     "data": {
      "text/plain": [
       "array([[5.33409716]])"
      ]
     },
     "execution_count": 12,
     "metadata": {},
     "output_type": "execute_result"
    }
   ],
   "source": [
    "kc_county_houseprice_predictor.predict(np.array(X_test[:1]))\n"
   ]
  },
  {
   "cell_type": "code",
   "execution_count": 13,
   "metadata": {},
   "outputs": [
    {
     "data": {
      "text/plain": [
       "array([[215822.72]])"
      ]
     },
     "execution_count": 13,
     "metadata": {},
     "output_type": "execute_result"
    }
   ],
   "source": [
    "#function located in my_func.py to convert log output to readable dollars\n",
    "log_to_dollars(kc_county_houseprice_predictor.predict(X_test[:1]))"
   ]
  },
  {
   "cell_type": "code",
   "execution_count": 17,
   "metadata": {},
   "outputs": [
    {
     "name": "stderr",
     "output_type": "stream",
     "text": [
      "C:\\Users\\blake\\Anaconda3\\lib\\site-packages\\ipykernel_launcher.py:2: DeprecationWarning: np.asscalar(a) is deprecated since NumPy v1.16, use a.item() instead\n",
      "  \n"
     ]
    },
    {
     "data": {
      "text/plain": [
       "215822.72"
      ]
     },
     "execution_count": 17,
     "metadata": {},
     "output_type": "execute_result"
    }
   ],
   "source": [
    "#output test was a numpy array so just did this so you can see a dollar value\n",
    "np.asscalar(log_to_dollars(kc_county_houseprice_predictor.predict(X_test[:1])))"
   ]
  },
  {
   "cell_type": "code",
   "execution_count": null,
   "metadata": {},
   "outputs": [],
   "source": []
  }
 ],
 "metadata": {
  "kernelspec": {
   "display_name": "Python 3",
   "language": "python",
   "name": "python3"
  },
  "language_info": {
   "codemirror_mode": {
    "name": "ipython",
    "version": 3
   },
   "file_extension": ".py",
   "mimetype": "text/x-python",
   "name": "python",
   "nbconvert_exporter": "python",
   "pygments_lexer": "ipython3",
   "version": "3.7.6"
  }
 },
 "nbformat": 4,
 "nbformat_minor": 4
}
