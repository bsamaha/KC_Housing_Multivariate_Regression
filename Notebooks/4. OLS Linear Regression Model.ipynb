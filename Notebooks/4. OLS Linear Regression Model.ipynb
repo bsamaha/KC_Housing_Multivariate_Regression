{
 "cells": [
  {
   "cell_type": "markdown",
   "metadata": {},
   "source": [
    "# Import Libraries & Data for Model"
   ]
  },
  {
   "cell_type": "code",
   "execution_count": 1,
   "metadata": {},
   "outputs": [],
   "source": [
    "import pandas as pd\n",
    "import matplotlib.pyplot as plt\n",
    "import numpy as np\n",
    "import statsmodels.api as sm\n",
    "import math\n",
    "import seaborn as sns\n",
    "from my_func import *\n",
    "import pylab\n",
    "\n",
    "import statsmodels.api as sm\n",
    "from statsmodels.stats import diagnostic as diag\n",
    "from statsmodels.stats.outliers_influence import variance_inflation_factor\n",
    "\n",
    "from sklearn.model_selection import train_test_split,cross_val_score\n",
    "from sklearn.linear_model import LinearRegression\n",
    "from sklearn.metrics import mean_squared_error, r2_score, mean_absolute_error\n",
    "\n",
    "from scipy import stats\n",
    "from scipy.stats import kurtosis, skew\n",
    "\n",
    "%matplotlib inline"
   ]
  },
  {
   "cell_type": "code",
   "execution_count": 2,
   "metadata": {},
   "outputs": [
    {
     "data": {
      "text/plain": [
       "(20110, 71)"
      ]
     },
     "metadata": {},
     "output_type": "display_data"
    },
    {
     "data": {
      "text/plain": [
       "Index(['log_price', 'log_sqft_living', 'zipcode_98002', 'zipcode_98003',\n",
       "       'zipcode_98004', 'zipcode_98005', 'zipcode_98006', 'zipcode_98007',\n",
       "       'zipcode_98008', 'zipcode_98010', 'zipcode_98011', 'zipcode_98014',\n",
       "       'zipcode_98019', 'zipcode_98022', 'zipcode_98023', 'zipcode_98024',\n",
       "       'zipcode_98027', 'zipcode_98028', 'zipcode_98029', 'zipcode_98030',\n",
       "       'zipcode_98031', 'zipcode_98032', 'zipcode_98033', 'zipcode_98034',\n",
       "       'zipcode_98038', 'zipcode_98039', 'zipcode_98040', 'zipcode_98042',\n",
       "       'zipcode_98045', 'zipcode_98052', 'zipcode_98053', 'zipcode_98055',\n",
       "       'zipcode_98056', 'zipcode_98058', 'zipcode_98059', 'zipcode_98065',\n",
       "       'zipcode_98070', 'zipcode_98072', 'zipcode_98074', 'zipcode_98075',\n",
       "       'zipcode_98077', 'zipcode_98092', 'zipcode_98102', 'zipcode_98103',\n",
       "       'zipcode_98105', 'zipcode_98106', 'zipcode_98107', 'zipcode_98108',\n",
       "       'zipcode_98109', 'zipcode_98112', 'zipcode_98115', 'zipcode_98116',\n",
       "       'zipcode_98117', 'zipcode_98118', 'zipcode_98119', 'zipcode_98122',\n",
       "       'zipcode_98125', 'zipcode_98126', 'zipcode_98133', 'zipcode_98136',\n",
       "       'zipcode_98144', 'zipcode_98146', 'zipcode_98148', 'zipcode_98155',\n",
       "       'zipcode_98166', 'zipcode_98168', 'zipcode_98177', 'zipcode_98178',\n",
       "       'zipcode_98188', 'zipcode_98198', 'zipcode_98199'],\n",
       "      dtype='object')"
      ]
     },
     "metadata": {},
     "output_type": "display_data"
    }
   ],
   "source": [
    "df = pd.read_csv('../CSV Files/linreg_ready_data.csv')\n",
    "display(df.shape)\n",
    "display(df.columns)"
   ]
  },
  {
   "cell_type": "markdown",
   "metadata": {},
   "source": [
    "***\n",
    "## Assumptions of OLS Model\n",
    "\n",
    "Each assumption if violated means we may have to take extra steps to improve our model or in some cases dump the model altogether. Here is a list of the assumptions of the model:\n",
    "\n",
    "- 1. A linear relationship is assumed between the dependent variable and the independent variables.\n",
    "- 2. Regression residuals must be normally distributed.\n",
    "- 3. The residuals are homoscedastic and approximately rectangular-shaped.\n",
    "- 4. Absence of multicollinearity is expected in the model, meaning that independent variables are not too highly correlated.\n",
    "- 5. No Autocorrelation of the residuals.\n",
    "\n",
    "I will be explaining these assumptions in more detail as we arrive at each of them in the tutorial. At this point, however, we need to have an idea of what they are."
   ]
  },
  {
   "cell_type": "markdown",
   "metadata": {},
   "source": [
    "# Build The Model"
   ]
  },
  {
   "cell_type": "markdown",
   "metadata": {},
   "source": [
    "#### Create Test : Train Split"
   ]
  },
  {
   "cell_type": "code",
   "execution_count": 3,
   "metadata": {},
   "outputs": [],
   "source": [
    "#hprint(values_to_be_dropped)\n",
    "#after running the model delete the hash to see what columns need to be dropped from dataframe\n",
    "\n",
    "df = df.drop(columns=['zipcode_98023','zipcode_98032'], axis=1)"
   ]
  },
  {
   "cell_type": "code",
   "execution_count": 4,
   "metadata": {},
   "outputs": [
    {
     "data": {
      "text/plain": [
       "LinearRegression(copy_X=True, fit_intercept=True, n_jobs=None, normalize=False)"
      ]
     },
     "execution_count": 4,
     "metadata": {},
     "output_type": "execute_result"
    }
   ],
   "source": [
    "# define our input variable (X) & output variable\n",
    "X = df.drop(columns=['log_price'], axis=1)\n",
    "Y = df[['log_price']]\n",
    "\n",
    "# Split X and y into X_\n",
    "X_train, X_test, y_train, y_test = train_test_split(X, Y, test_size=0.20, random_state=1)\n",
    "\n",
    "# create a Linear Regression model object\n",
    "regression_model = LinearRegression()\n",
    "\n",
    "# pass through the X_train & y_train data set\n",
    "regression_model.fit(X_train, y_train)"
   ]
  },
  {
   "cell_type": "markdown",
   "metadata": {},
   "source": [
    "#### Explore The Output"
   ]
  },
  {
   "cell_type": "code",
   "execution_count": 5,
   "metadata": {
    "scrolled": true
   },
   "outputs": [
    {
     "name": "stdout",
     "output_type": "stream",
     "text": [
      "The intercept for our model is 7.432651901502438\n",
      "----------------------------------------------------------------------------------------------------\n",
      "The Coefficient for log_sqft_living is 0.674\n",
      "The Coefficient for zipcode_98002 is -0.0425\n",
      "The Coefficient for zipcode_98003 is 0.0331\n",
      "The Coefficient for zipcode_98004 is 1.18\n",
      "The Coefficient for zipcode_98005 is 0.84\n",
      "The Coefficient for zipcode_98006 is 0.759\n",
      "The Coefficient for zipcode_98007 is 0.711\n",
      "The Coefficient for zipcode_98008 is 0.714\n",
      "The Coefficient for zipcode_98010 is 0.23\n",
      "The Coefficient for zipcode_98011 is 0.469\n",
      "The Coefficient for zipcode_98014 is 0.346\n",
      "The Coefficient for zipcode_98019 is 0.327\n",
      "The Coefficient for zipcode_98022 is 0.0784\n",
      "The Coefficient for zipcode_98024 is 0.462\n",
      "The Coefficient for zipcode_98027 is 0.594\n",
      "The Coefficient for zipcode_98028 is 0.447\n",
      "The Coefficient for zipcode_98029 is 0.663\n",
      "The Coefficient for zipcode_98030 is 0.0515\n",
      "The Coefficient for zipcode_98031 is 0.0862\n",
      "The Coefficient for zipcode_98033 is 0.85\n",
      "The Coefficient for zipcode_98034 is 0.545\n",
      "The Coefficient for zipcode_98038 is 0.177\n",
      "The Coefficient for zipcode_98039 is 1.4\n",
      "The Coefficient for zipcode_98040 is 1.04\n",
      "The Coefficient for zipcode_98042 is 0.0838\n",
      "The Coefficient for zipcode_98045 is 0.38\n",
      "The Coefficient for zipcode_98052 is 0.7\n",
      "The Coefficient for zipcode_98053 is 0.66\n",
      "The Coefficient for zipcode_98055 is 0.126\n",
      "The Coefficient for zipcode_98056 is 0.341\n",
      "The Coefficient for zipcode_98058 is 0.183\n",
      "The Coefficient for zipcode_98059 is 0.367\n",
      "The Coefficient for zipcode_98065 is 0.439\n",
      "The Coefficient for zipcode_98070 is 0.479\n",
      "The Coefficient for zipcode_98072 is 0.559\n",
      "The Coefficient for zipcode_98074 is 0.658\n",
      "The Coefficient for zipcode_98075 is 0.702\n",
      "The Coefficient for zipcode_98077 is 0.582\n",
      "The Coefficient for zipcode_98092 is 0.0435\n",
      "The Coefficient for zipcode_98102 is 1.04\n",
      "The Coefficient for zipcode_98103 is 0.849\n",
      "The Coefficient for zipcode_98105 is 0.988\n",
      "The Coefficient for zipcode_98106 is 0.33\n",
      "The Coefficient for zipcode_98107 is 0.87\n",
      "The Coefficient for zipcode_98108 is 0.35\n",
      "The Coefficient for zipcode_98109 is 1.03\n",
      "The Coefficient for zipcode_98112 is 1.09\n",
      "The Coefficient for zipcode_98115 is 0.833\n",
      "The Coefficient for zipcode_98116 is 0.817\n",
      "The Coefficient for zipcode_98117 is 0.834\n",
      "The Coefficient for zipcode_98118 is 0.471\n",
      "The Coefficient for zipcode_98119 is 1.02\n",
      "The Coefficient for zipcode_98122 is 0.844\n",
      "The Coefficient for zipcode_98125 is 0.557\n",
      "The Coefficient for zipcode_98126 is 0.574\n",
      "The Coefficient for zipcode_98133 is 0.462\n",
      "The Coefficient for zipcode_98136 is 0.729\n",
      "The Coefficient for zipcode_98144 is 0.688\n",
      "The Coefficient for zipcode_98146 is 0.282\n",
      "The Coefficient for zipcode_98148 is 0.155\n",
      "The Coefficient for zipcode_98155 is 0.444\n",
      "The Coefficient for zipcode_98166 is 0.358\n",
      "The Coefficient for zipcode_98168 is 0.0582\n",
      "The Coefficient for zipcode_98177 is 0.669\n",
      "The Coefficient for zipcode_98178 is 0.14\n",
      "The Coefficient for zipcode_98188 is 0.0746\n",
      "The Coefficient for zipcode_98198 is 0.0996\n",
      "The Coefficient for zipcode_98199 is 0.922\n"
     ]
    }
   ],
   "source": [
    "# let's grab the coefficient of our model and the intercept\n",
    "intercept = regression_model.intercept_[0]\n",
    "coefficent = float(regression_model.coef_[0][0])\n",
    "\n",
    "print(\"The intercept for our model is {:}\".format(intercept))\n",
    "print('-'*100)\n",
    "\n",
    "# loop through the dictionary and print the data\n",
    "for coef in zip(X.columns, regression_model.coef_[0]):\n",
    "    print(\"The Coefficient for {} is {:.3}\".format(coef[0],coef[1]))"
   ]
  },
  {
   "cell_type": "markdown",
   "metadata": {},
   "source": [
    "# Evaluate the Model"
   ]
  },
  {
   "cell_type": "code",
   "execution_count": 6,
   "metadata": {
    "scrolled": false
   },
   "outputs": [
    {
     "name": "stdout",
     "output_type": "stream",
     "text": [
      "                            OLS Regression Results                            \n",
      "==============================================================================\n",
      "Dep. Variable:              log_price   R-squared:                       0.816\n",
      "Model:                            OLS   Adj. R-squared:                  0.815\n",
      "Method:                 Least Squares   F-statistic:                     1306.\n",
      "Date:                Thu, 18 Jun 2020   Prob (F-statistic):               0.00\n",
      "Time:                        15:05:21   Log-Likelihood:                 3668.8\n",
      "No. Observations:               20110   AIC:                            -7200.\n",
      "Df Residuals:                   20041   BIC:                            -6654.\n",
      "Df Model:                          68                                         \n",
      "Covariance Type:            nonrobust                                         \n",
      "===================================================================================\n",
      "                      coef    std err          t      P>|t|      [0.025      0.975]\n",
      "-----------------------------------------------------------------------------------\n",
      "const               7.4397      0.031    241.929      0.000       7.379       7.500\n",
      "log_sqft_living     0.6728      0.004    167.719      0.000       0.665       0.681\n",
      "zipcode_98002      -0.0407      0.016     -2.569      0.010      -0.072      -0.010\n",
      "zipcode_98003       0.0498      0.014      3.604      0.000       0.023       0.077\n",
      "zipcode_98004       1.1755      0.015     77.846      0.000       1.146       1.205\n",
      "zipcode_98005       0.8418      0.018     47.003      0.000       0.807       0.877\n",
      "zipcode_98006       0.7639      0.012     63.896      0.000       0.740       0.787\n",
      "zipcode_98007       0.7093      0.019     38.218      0.000       0.673       0.746\n",
      "zipcode_98008       0.6942      0.014     49.939      0.000       0.667       0.721\n",
      "zipcode_98010       0.2670      0.023     11.363      0.000       0.221       0.313\n",
      "zipcode_98011       0.4751      0.016     29.690      0.000       0.444       0.507\n",
      "zipcode_98014       0.3341      0.023     14.782      0.000       0.290       0.378\n",
      "zipcode_98019       0.3264      0.017     19.183      0.000       0.293       0.360\n",
      "zipcode_98022       0.0790      0.016      4.843      0.000       0.047       0.111\n",
      "zipcode_98024       0.4516      0.030     14.971      0.000       0.393       0.511\n",
      "zipcode_98027       0.5943      0.013     47.379      0.000       0.570       0.619\n",
      "zipcode_98028       0.4408      0.014     31.971      0.000       0.414       0.468\n",
      "zipcode_98029       0.6629      0.013     50.302      0.000       0.637       0.689\n",
      "zipcode_98030       0.0505      0.014      3.531      0.000       0.022       0.079\n",
      "zipcode_98031       0.0830      0.014      5.957      0.000       0.056       0.110\n",
      "zipcode_98033       0.8450      0.012     70.382      0.000       0.821       0.869\n",
      "zipcode_98034       0.5477      0.011     49.947      0.000       0.526       0.569\n",
      "zipcode_98038       0.1697      0.011     15.635      0.000       0.148       0.191\n",
      "zipcode_98039       1.3774      0.049     27.872      0.000       1.281       1.474\n",
      "zipcode_98040       1.0360      0.015     67.997      0.000       1.006       1.066\n",
      "zipcode_98042       0.0850      0.011      7.758      0.000       0.063       0.106\n",
      "zipcode_98045       0.3727      0.016     23.309      0.000       0.341       0.404\n",
      "zipcode_98052       0.7004      0.011     65.060      0.000       0.679       0.722\n",
      "zipcode_98053       0.6618      0.013     51.762      0.000       0.637       0.687\n",
      "zipcode_98055       0.1438      0.014     10.238      0.000       0.116       0.171\n",
      "zipcode_98056       0.3458      0.012     28.761      0.000       0.322       0.369\n",
      "zipcode_98058       0.1833      0.012     15.736      0.000       0.160       0.206\n",
      "zipcode_98059       0.3707      0.012     31.710      0.000       0.348       0.394\n",
      "zipcode_98065       0.4356      0.014     31.739      0.000       0.409       0.463\n",
      "zipcode_98070       0.4844      0.027     18.027      0.000       0.432       0.537\n",
      "zipcode_98072       0.5607      0.014     39.519      0.000       0.533       0.589\n",
      "zipcode_98074       0.6564      0.012     54.846      0.000       0.633       0.680\n",
      "zipcode_98075       0.7019      0.013     53.239      0.000       0.676       0.728\n",
      "zipcode_98077       0.5983      0.017     34.795      0.000       0.565       0.632\n",
      "zipcode_98092       0.0489      0.013      3.676      0.000       0.023       0.075\n",
      "zipcode_98102       1.0270      0.022     47.522      0.000       0.985       1.069\n",
      "zipcode_98103       0.8429      0.011     79.861      0.000       0.822       0.864\n",
      "zipcode_98105       0.9876      0.015     63.731      0.000       0.957       1.018\n",
      "zipcode_98106       0.3295      0.013     25.487      0.000       0.304       0.355\n",
      "zipcode_98107       0.8682      0.014     61.630      0.000       0.841       0.896\n",
      "zipcode_98108       0.3354      0.016     20.686      0.000       0.304       0.367\n",
      "zipcode_98109       1.0424      0.021     49.584      0.000       1.001       1.084\n",
      "zipcode_98112       1.0722      0.015     71.311      0.000       1.043       1.102\n",
      "zipcode_98115       0.8292      0.011     78.144      0.000       0.808       0.850\n",
      "zipcode_98116       0.8185      0.013     62.618      0.000       0.793       0.844\n",
      "zipcode_98117       0.8316      0.011     76.877      0.000       0.810       0.853\n",
      "zipcode_98118       0.4618      0.011     41.186      0.000       0.440       0.484\n",
      "zipcode_98119       1.0277      0.017     61.804      0.000       0.995       1.060\n",
      "zipcode_98122       0.8465      0.014     61.491      0.000       0.820       0.874\n",
      "zipcode_98125       0.5681      0.012     47.215      0.000       0.545       0.592\n",
      "zipcode_98126       0.5758      0.013     45.678      0.000       0.551       0.601\n",
      "zipcode_98133       0.4652      0.011     41.446      0.000       0.443       0.487\n",
      "zipcode_98136       0.7348      0.014     51.655      0.000       0.707       0.763\n",
      "zipcode_98144       0.6781      0.013     52.421      0.000       0.653       0.703\n",
      "zipcode_98146       0.2772      0.014     20.143      0.000       0.250       0.304\n",
      "zipcode_98148       0.1435      0.028      5.125      0.000       0.089       0.198\n",
      "zipcode_98155       0.4437      0.012     37.889      0.000       0.421       0.467\n",
      "zipcode_98166       0.3590      0.015     24.444      0.000       0.330       0.388\n",
      "zipcode_98168       0.0503      0.014      3.587      0.000       0.023       0.078\n",
      "zipcode_98177       0.6657      0.015     45.312      0.000       0.637       0.695\n",
      "zipcode_98178       0.1250      0.014      8.731      0.000       0.097       0.153\n",
      "zipcode_98188       0.0850      0.019      4.565      0.000       0.049       0.121\n",
      "zipcode_98198       0.0956      0.014      6.844      0.000       0.068       0.123\n",
      "zipcode_98199       0.9174      0.013     68.475      0.000       0.891       0.944\n",
      "==============================================================================\n",
      "Omnibus:                      842.307   Durbin-Watson:                   1.994\n",
      "Prob(Omnibus):                  0.000   Jarque-Bera (JB):             2752.096\n",
      "Skew:                          -0.057   Prob(JB):                         0.00\n",
      "Kurtosis:                       4.809   Cond. No.                         301.\n",
      "==============================================================================\n",
      "\n",
      "Warnings:\n",
      "[1] Standard Errors assume that the covariance matrix of the errors is correctly specified.\n"
     ]
    }
   ],
   "source": [
    "# define our intput\n",
    "X2 = sm.add_constant(X)\n",
    "\n",
    "# create a OLS model\n",
    "model = sm.OLS(Y, X2,hasconst=True)\n",
    "\n",
    "# fit the data\n",
    "est = model.fit()\n",
    "\n",
    "# check the data\n",
    "print(est.summary())"
   ]
  },
  {
   "cell_type": "code",
   "execution_count": 7,
   "metadata": {},
   "outputs": [
    {
     "data": {
      "text/plain": [
       "25"
      ]
     },
     "execution_count": 7,
     "metadata": {},
     "output_type": "execute_result"
    }
   ],
   "source": [
    "(abs(df.corr().log_price).sort_values(ascending=False) > .1).sum()"
   ]
  },
  {
   "cell_type": "markdown",
   "metadata": {},
   "source": [
    "## Hypothesis Testing\n",
    "\n",
    "With hypothesis testing, we are trying to determine the statistical significance of the coefficient estimates. This test is outlined as the following.\n",
    "\n",
    "- **Null Hypothesis:** There is no relationship between the exploratory variables and the dependent variable.\n",
    "- **Alternative Hypothesis:** There is a relationship between the exploratory variables and the dependent variable.\n",
    "***\n",
    "- If we **reject the null**, we are saying there is a relationship, and the coefficients do not equal 0.\n",
    "- If we **fail to reject the null**, we are saying there is no relationship, and the coefficients do equal 0\n",
    "***"
   ]
  },
  {
   "cell_type": "markdown",
   "metadata": {},
   "source": [
    "## Assumption 1\n",
    "- A linear relationship is assumed between the dependent variable and the independent variables."
   ]
  },
  {
   "cell_type": "code",
   "execution_count": 8,
   "metadata": {
    "scrolled": true
   },
   "outputs": [
    {
     "data": {
      "text/plain": [
       "Series([], dtype: float64)"
      ]
     },
     "execution_count": 8,
     "metadata": {},
     "output_type": "execute_result"
    }
   ],
   "source": [
    "#return to top of notebook and remove these columns\n",
    "values_to_be_dropped = est.pvalues.loc[est.pvalues>.05]\n",
    "est.pvalues.loc[est.pvalues>=.05]"
   ]
  },
  {
   "cell_type": "code",
   "execution_count": 9,
   "metadata": {},
   "outputs": [
    {
     "data": {
      "text/plain": [
       "Text(0.5, 1.0, 'Parameter Pvalue Distribution')"
      ]
     },
     "execution_count": 9,
     "metadata": {},
     "output_type": "execute_result"
    },
    {
     "data": {
      "image/png": "[encoded data removed]",
      "text/plain": [
       "<Figure size 432x288 with 1 Axes>"
      ]
     },
     "metadata": {
      "needs_background": "light"
     },
     "output_type": "display_data"
    }
   ],
   "source": [
    "sns.distplot(est.pvalues)\n",
    "plt.title(\"Parameter Pvalue Distribution\")"
   ]
  },
  {
   "cell_type": "markdown",
   "metadata": {},
   "source": [
    "**If there are no values present in the output above we reject the null hypothesis and all varaiables in our model are significant.**\n",
    "\n"
   ]
  },
  {
   "cell_type": "markdown",
   "metadata": {},
   "source": [
    "## Assumption 2\n",
    "### Normally Distributed Residuals\n",
    "- Regression residuals must be normally distributed."
   ]
  },
  {
   "cell_type": "code",
   "execution_count": 10,
   "metadata": {
    "scrolled": false
   },
   "outputs": [
    {
     "data": {
      "image/png": "[encoded data removed]",
      "text/plain": [
       "<Figure size 432x288 with 1 Axes>"
      ]
     },
     "metadata": {
      "needs_background": "light"
     },
     "output_type": "display_data"
    },
    {
     "name": "stdout",
     "output_type": "stream",
     "text": [
      "The mean of the residuals is 1.253e-14\n"
     ]
    }
   ],
   "source": [
    "# check for the normality of the residuals\n",
    "sm.qqplot(est.resid, line='s')\n",
    "pylab.show()\n",
    "\n",
    "# also check that the mean of the residuals is approx. 0.\n",
    "mean_residuals = sum(est.resid)/ len(est.resid)\n",
    "print(\"The mean of the residuals is {:.4}\".format(mean_residuals))"
   ]
  },
  {
   "cell_type": "markdown",
   "metadata": {},
   "source": [
    "**This is not an airtight test as we can see the residuals on the tails break away from the line, but to me this does not look terrible as it is not until 2 deviations where it begins to take off. The mean of the residuals is still near 0.**"
   ]
  },
  {
   "cell_type": "markdown",
   "metadata": {},
   "source": [
    "## Assumption 3\n",
    "- The residuals are homoscedastic and approximately rectangular-shaped.\n",
    "\n",
    "### White's Test for heteroscedasticity"
   ]
  },
  {
   "cell_type": "code",
   "execution_count": 11,
   "metadata": {
    "scrolled": true
   },
   "outputs": [
    {
     "name": "stdout",
     "output_type": "stream",
     "text": [
      "Pval: 5.203411872121607e-266 ************ F_pval: 7.825766394899378e-280\n",
      "----------------------------------------------------------------------------------------------------\n",
      "For the White's Test\n",
      "The p-value was 5.203e-266\n",
      "We reject the null hypthoesis, so there is heterosecdasticity. \n",
      "\n"
     ]
    }
   ],
   "source": [
    "# Run the White's test\n",
    "_, pval, __, f_pval = diag.het_white(est.resid, est.model.exog)\n",
    "print(\"Pval:\",pval,\"************ F_pval:\", f_pval)\n",
    "print('-'*100)\n",
    "\n",
    "# print the results of the test\n",
    "if pval > 0.05:\n",
    "    print(\"For the White's Test\")\n",
    "    print(\"The p-value was {:.4}\".format(pval))\n",
    "    print(\"We fail to reject the null hypthoesis, so there is no heterosecdasticity. \\n\")\n",
    "    \n",
    "else:\n",
    "    print(\"For the White's Test\")\n",
    "    print(\"The p-value was {:.4}\".format(pval))\n",
    "    print(\"We reject the null hypthoesis, so there is heterosecdasticity. \\n\")\n",
    "\n"
   ]
  },
  {
   "cell_type": "markdown",
   "metadata": {},
   "source": [
    "### Breusch-Pagan's Test for Homoscedasticity"
   ]
  },
  {
   "cell_type": "code",
   "execution_count": 12,
   "metadata": {},
   "outputs": [
    {
     "name": "stdout",
     "output_type": "stream",
     "text": [
      "Pval: 4.144787067358851e-198 ************ F_pval: 8.676129540258215e-205\n",
      "----------------------------------------------------------------------------------------------------\n",
      "For the Breusch-Pagan's Test\n",
      "The p-value was 4.145e-198\n",
      "We reject the null hypthoesis, so there is no Homoskedasticity.\n"
     ]
    }
   ],
   "source": [
    "# Run the Breusch-Pagan test\n",
    "_, pval, __, f_pval = diag.het_breuschpagan(est.resid, est.model.exog)\n",
    "print(\"Pval:\",pval,\"************ F_pval:\", f_pval)\n",
    "print('-'*100)\n",
    "\n",
    "# print the results of the test\n",
    "if pval > 0.05:\n",
    "    print(\"For the Breusch-Pagan's Test\")\n",
    "    print(\"The p-value was {:.4}\".format(pval))\n",
    "    print(\"We fail to reject the null hypthoesis, so there is Homoskedasticity.\")\n",
    "\n",
    "else:\n",
    "    print(\"For the Breusch-Pagan's Test\")\n",
    "    print(\"The p-value was {:.4}\".format(pval))\n",
    "    print(\"We reject the null hypthoesis, so there is no Homoskedasticity.\")"
   ]
  },
  {
   "cell_type": "markdown",
   "metadata": {},
   "source": [
    "## Assumption 4\n",
    "### Multicolinearality"
   ]
  },
  {
   "cell_type": "code",
   "execution_count": 13,
   "metadata": {
    "scrolled": true
   },
   "outputs": [
    {
     "data": {
      "text/plain": [
       "const    466.215579\n",
       "dtype: float64"
      ]
     },
     "metadata": {},
     "output_type": "display_data"
    }
   ],
   "source": [
    "# the VIF does expect a constant term in the data, so we need to add one using the add_constant method\n",
    "X3 = sm.tools.add_constant(X)\n",
    "\n",
    "# create the series for both\n",
    "vif = pd.Series([variance_inflation_factor(X3.values, i) for i in range(X3.shape[1])], index=X3.columns)\n",
    "\n",
    "#checking for values greater than 3\n",
    "display(vif.loc[vif >= 3])\n",
    "\n"
   ]
  },
  {
   "cell_type": "markdown",
   "metadata": {},
   "source": [
    "A general recommendation is that if any of our variables come back with a value of 5 or higher, then they should be removed from the model. I decided to show you how the VFI comes out before we drop the highly correlated variables and after we remove the highly correlated variables.\n",
    "\n",
    "**If no values (besides constant) greater than 5 there is no multicolinearality present**\n"
   ]
  },
  {
   "cell_type": "markdown",
   "metadata": {},
   "source": [
    "## Assumption 5 \n",
    "### Autocorrelation\n"
   ]
  },
  {
   "cell_type": "markdown",
   "metadata": {},
   "source": [
    "### Durbin-Watson Test for Autocorrelation\n",
    "***\n",
    "### How to test for autocorrelation?\n",
    "We will go to the statsmodels.stats.diagnostic module, and use the Ljung-Box test for no autocorrelation of residuals. Here:\n",
    "\n",
    "- **H0: The data are random.**\n",
    "- **Ha: The data are not random.**\n",
    "\n",
    "That means we want to fail to reject the null hypothesis, have a large p-value because then it means we have no autocorrelation. To use the Ljung-Box test, we will call the `acorr_ljungbox` function, pass through the `est.resid` and then define the lags. \n",
    "\n",
    "The lags can either be calculated by the function itself, or we can calculate them. If the function handles it the max lag will be `min((num_obs // 2 - 2), 40)`, however, there is a rule of thumb that for non-seasonal time series the lag is ` min(10, (num_obs // 5))`.\n",
    "\n",
    "We also can visually check for autocorrelation by using the `statsmodels.graphics` module to plot a graph of the autocorrelation factor."
   ]
  },
  {
   "cell_type": "code",
   "execution_count": 14,
   "metadata": {
    "scrolled": false
   },
   "outputs": [
    {
     "name": "stdout",
     "output_type": "stream",
     "text": [
      "The number of lags will be 10\n",
      "----------------------------------------------------------------------------------------------------\n",
      "The lowest p-value found was 0.4288\n",
      "We fail to reject the null hypthoesis, so there is no autocorrelation.\n",
      "----------------------------------------------------------------------------------------------------\n"
     ]
    },
    {
     "name": "stderr",
     "output_type": "stream",
     "text": [
      "C:\\Users\\blake\\Anaconda3\\lib\\site-packages\\statsmodels\\stats\\diagnostic.py:524: FutureWarning: The value returned will change to a single DataFrame after 0.12 is released.  Set return_df to True to use to return a DataFrame now.  Set return_df to False to silence this warning.\n",
      "  warnings.warn(msg, FutureWarning)\n"
     ]
    },
    {
     "data": {
      "image/png": "[encoded data removed]",
      "text/plain": [
       "<Figure size 432x288 with 1 Axes>"
      ]
     },
     "metadata": {
      "needs_background": "light"
     },
     "output_type": "display_data"
    }
   ],
   "source": [
    "# calculate the lag, optional\n",
    "lag = min(10, (len(X)//5))\n",
    "#lag2 = min((len(X) // 2 - 2),40)\n",
    "print('The number of lags will be {}'.format(lag))\n",
    "print('-'*100)\n",
    "\n",
    "# run the Ljung-Box test for no autocorrelation of residuals\n",
    "test_results = diag.acorr_ljungbox(est.resid, lags = lag)\n",
    "\n",
    "# grab the p-values and the test statistics\n",
    "ibvalue, p_val = test_results\n",
    "\n",
    "# print the results of the test\n",
    "if min(p_val) > 0.05:\n",
    "    print(\"The lowest p-value found was {:.4}\".format(min(p_val)))\n",
    "    print(\"We fail to reject the null hypthoesis, so there is no autocorrelation.\")\n",
    "    print('-'*100)\n",
    "else:\n",
    "    print(\"The lowest p-value found was {:.4}\".format(min(p_val)))\n",
    "    print(\"We reject the null hypthoesis, so there is autocorrelation.\")\n",
    "    print('-'*100)\n",
    "\n",
    "# plot autocorrelation\n",
    "sm.graphics.tsa.plot_pacf(est.resid,lags=lag)\n",
    "plt.show()"
   ]
  },
  {
   "cell_type": "markdown",
   "metadata": {},
   "source": [
    "### Model Accuracy Test"
   ]
  },
  {
   "cell_type": "code",
   "execution_count": 25,
   "metadata": {
    "scrolled": true
   },
   "outputs": [
    {
     "name": "stdout",
     "output_type": "stream",
     "text": [
      "Accuracy: 0.817 (+/- 0.03)\n"
     ]
    }
   ],
   "source": [
    "\n",
    "cv_results  = cross_val_score(regression_model, X_test, y_test, cv=5)\n",
    "print(\"Accuracy: %0.3f (+/- %0.2f)\" %  (cv_results.mean(), cv_results.std() * 2))"
   ]
  },
  {
   "cell_type": "markdown",
   "metadata": {},
   "source": [
    "### Make Predictions to Test the Model"
   ]
  },
  {
   "cell_type": "code",
   "execution_count": 16,
   "metadata": {},
   "outputs": [
    {
     "data": {
      "text/plain": [
       "array([[383836.44],\n",
       "       [312834.87],\n",
       "       [640324.52],\n",
       "       [289162.23],\n",
       "       [600954.6 ]])"
      ]
     },
     "execution_count": 16,
     "metadata": {},
     "output_type": "execute_result"
    }
   ],
   "source": [
    "# Get multiple predictions\n",
    "y_predict = regression_model.predict(X_test)\n",
    "\n",
    "# Show the first 5 predictions\n",
    "y_dollars = np.e**y_predict\n",
    "y_dollars[:5].round(2)"
   ]
  },
  {
   "cell_type": "code",
   "execution_count": 17,
   "metadata": {},
   "outputs": [
    {
     "name": "stdout",
     "output_type": "stream",
     "text": [
      "MSE = $11715575217.32 \n",
      "MAE = $73233.34\n",
      "RMSE = $108238.51\n"
     ]
    }
   ],
   "source": [
    "# calculate the mean squared error\n",
    "model_mse = mean_squared_error(np.e**y_test, np.e**y_predict)\n",
    "\n",
    "# calculate the mean absolute error\n",
    "model_mae = mean_absolute_error(np.e**y_test, np.e**y_predict)\n",
    "\n",
    "# calulcate the root mean squared error\n",
    "model_rmse =  math.sqrt(model_mse)\n",
    "\n",
    "# display the output\n",
    "print(f\"MSE = ${round(model_mse,2)} \")\n",
    "\n",
    "print(f\"MAE = ${round(model_mae,2)}\")\n",
    "\n",
    "print(f\"RMSE = ${round(model_rmse,2)}\")"
   ]
  },
  {
   "cell_type": "markdown",
   "metadata": {},
   "source": [
    "# Save for Later Use"
   ]
  },
  {
   "cell_type": "code",
   "execution_count": 18,
   "metadata": {},
   "outputs": [],
   "source": [
    "import pickle\n",
    "\n",
    "# pickle the model.\n",
    "with open('kc_county_multilinreg.sav','wb') as f:\n",
    "     pickle.dump(regression_model,f)\n",
    "\n",
    "# load it back in to see if everything works\n",
    "with open('kc_county_multilinreg.sav', 'rb') as pickle_file:\n",
    "     kc_county_houseprice_predictor = pickle.load(pickle_file)"
   ]
  },
  {
   "cell_type": "markdown",
   "metadata": {},
   "source": [
    "### Bring back in to see if regression still works"
   ]
  },
  {
   "cell_type": "code",
   "execution_count": 19,
   "metadata": {
    "scrolled": true
   },
   "outputs": [
    {
     "name": "stdout",
     "output_type": "stream",
     "text": [
      "log_sqft_living    7.700748\n",
      "zipcode_98002      0.000000\n",
      "zipcode_98003      1.000000\n",
      "zipcode_98004      0.000000\n",
      "zipcode_98005      0.000000\n",
      "                     ...   \n",
      "zipcode_98177      0.000000\n",
      "zipcode_98178      0.000000\n",
      "zipcode_98188      0.000000\n",
      "zipcode_98198      0.000000\n",
      "zipcode_98199      0.000000\n",
      "Name: 9515, Length: 68, dtype: float64\n",
      "****************************************************************************************************\n",
      "****************************************************************************************************\n",
      "These are the data points: log_sqft_living    7.700748\n",
      "Name: 9515, dtype: float64\n"
     ]
    }
   ],
   "source": [
    "print(X_test.iloc[1])\n",
    "print('*'*100)\n",
    "print('*'*100)\n",
    "print('These are the data points:',X_test.iloc[1].loc[X_test.iloc[1] > 1])\n"
   ]
  },
  {
   "cell_type": "code",
   "execution_count": 20,
   "metadata": {},
   "outputs": [
    {
     "data": {
      "text/plain": [
       "array([[12.8579718]])"
      ]
     },
     "execution_count": 20,
     "metadata": {},
     "output_type": "execute_result"
    }
   ],
   "source": [
    "kc_county_houseprice_predictor.predict(np.array(X_test[:1]))\n"
   ]
  },
  {
   "cell_type": "code",
   "execution_count": 21,
   "metadata": {},
   "outputs": [
    {
     "data": {
      "text/plain": [
       "array([[383836.44]])"
      ]
     },
     "execution_count": 21,
     "metadata": {},
     "output_type": "execute_result"
    }
   ],
   "source": [
    "#function located in my_func.py to convert log output to readable dollars\n",
    "log_to_dollars(kc_county_houseprice_predictor.predict(X_test[:1]))"
   ]
  },
  {
   "cell_type": "code",
   "execution_count": 22,
   "metadata": {
    "scrolled": true
   },
   "outputs": [
    {
     "data": {
      "text/plain": [
       "array([[12.55640263]])"
      ]
     },
     "execution_count": 22,
     "metadata": {},
     "output_type": "execute_result"
    }
   ],
   "source": [
    "kc_county_houseprice_predictor.predict(np.array(X_test[46:47]))"
   ]
  },
  {
   "cell_type": "code",
   "execution_count": 23,
   "metadata": {},
   "outputs": [
    {
     "name": "stderr",
     "output_type": "stream",
     "text": [
      "C:\\Users\\blake\\Anaconda3\\lib\\site-packages\\ipykernel_launcher.py:4: DeprecationWarning: np.asscalar(a) is deprecated since NumPy v1.16, use a.item() instead\n",
      "  after removing the cwd from sys.path.\n"
     ]
    },
    {
     "data": {
      "text/plain": [
       "283907.18"
      ]
     },
     "execution_count": 23,
     "metadata": {},
     "output_type": "execute_result"
    }
   ],
   "source": [
    "from my_func import *\n",
    "\n",
    "#output test was a numpy array so just did this so you can see a dollar value\n",
    "np.asscalar(log_to_dollars(kc_county_houseprice_predictor.predict(X_test[46:47])))"
   ]
  },
  {
   "cell_type": "code",
   "execution_count": null,
   "metadata": {},
   "outputs": [],
   "source": []
  }
 ],
 "metadata": {
  "kernelspec": {
   "display_name": "Python 3",
   "language": "python",
   "name": "python3"
  },
  "language_info": {
   "codemirror_mode": {
    "name": "ipython",
    "version": 3
   },
   "file_extension": ".py",
   "mimetype": "text/x-python",
   "name": "python",
   "nbconvert_exporter": "python",
   "pygments_lexer": "ipython3",
   "version": "3.7.6"
  }
 },
 "nbformat": 4,
 "nbformat_minor": 4
}
