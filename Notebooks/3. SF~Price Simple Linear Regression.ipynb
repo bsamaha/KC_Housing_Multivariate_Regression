{
 "cells": [
  {
   "cell_type": "markdown",
   "metadata": {},
   "source": [
    "# Step 1 Import Data"
   ]
  },
  {
   "cell_type": "code",
   "execution_count": 1,
   "metadata": {},
   "outputs": [],
   "source": [
    "import pandas as pd\n",
    "import matplotlib.pyplot as plt\n",
    "import numpy as np\n",
    "import statsmodels.api as sm\n",
    "import math\n",
    "import seaborn as sns\n",
    "from my_func import *\n",
    "\n",
    "from sklearn.model_selection import train_test_split\n",
    "from sklearn.linear_model import LinearRegression\n",
    "from sklearn.metrics import mean_squared_error, r2_score, mean_absolute_error\n",
    "\n",
    "from scipy import stats\n",
    "from scipy.stats import kurtosis, skew\n",
    "\n",
    "%matplotlib inline"
   ]
  },
  {
   "cell_type": "markdown",
   "metadata": {},
   "source": [
    "### Load Data into Pandas"
   ]
  },
  {
   "cell_type": "code",
   "execution_count": 2,
   "metadata": {},
   "outputs": [],
   "source": [
    "df = pd.read_csv('../CSV Files/kc_house_data.csv')\n",
    "df.head()\n",
    "df.drop(columns= ['id', 'bedrooms', 'bathrooms',\n",
    "       'sqft_lot', 'floors', 'waterfront', 'view', 'condition', 'grade',\n",
    "       'sqft_above', 'sqft_basement', 'yr_built', 'yr_renovated', 'zipcode',\n",
    "       'lat', 'long', 'sqft_living15', 'sqft_lot15'], inplace=True)"
   ]
  },
  {
   "cell_type": "markdown",
   "metadata": {},
   "source": [
    "# Step 2 Clean the data\n",
    "Check the data types, to make sure they are correct. For example, it usually does not make sense for a number to be a string.\n",
    "Make sure the column names are correct. Having the correct column names makes the process of selecting data easier.\n",
    "Check for and drop/fill missing values. Dropping errors helps to control for errors when running."
   ]
  },
  {
   "cell_type": "code",
   "execution_count": 3,
   "metadata": {
    "scrolled": true
   },
   "outputs": [
    {
     "name": "stdout",
     "output_type": "stream",
     "text": [
      "<class 'pandas.core.frame.DataFrame'>\n",
      "RangeIndex: 21597 entries, 0 to 21596\n",
      "Data columns (total 3 columns):\n",
      " #   Column       Non-Null Count  Dtype  \n",
      "---  ------       --------------  -----  \n",
      " 0   date         21597 non-null  object \n",
      " 1   price        21597 non-null  float64\n",
      " 2   sqft_living  21597 non-null  int64  \n",
      "dtypes: float64(1), int64(1), object(1)\n",
      "memory usage: 506.3+ KB\n"
     ]
    }
   ],
   "source": [
    "df.info()"
   ]
  },
  {
   "cell_type": "markdown",
   "metadata": {},
   "source": [
    "### This is only a simple regression looking to see if the living sf can predict the price\n",
    "\n",
    "We need to make date column the index and a datetime type\n",
    "\n",
    "All other data types are good."
   ]
  },
  {
   "cell_type": "code",
   "execution_count": 4,
   "metadata": {},
   "outputs": [
    {
     "name": "stdout",
     "output_type": "stream",
     "text": [
      "<class 'pandas.core.frame.DataFrame'>\n",
      "DatetimeIndex: 21597 entries, 2014-10-13 to 2014-10-15\n",
      "Data columns (total 2 columns):\n",
      " #   Column       Non-Null Count  Dtype  \n",
      "---  ------       --------------  -----  \n",
      " 0   price        21597 non-null  float64\n",
      " 1   sqft_living  21597 non-null  int64  \n",
      "dtypes: float64(1), int64(1)\n",
      "memory usage: 506.2 KB\n"
     ]
    },
    {
     "data": {
      "text/html": [
       "<div>\n",
       "<style scoped>\n",
       "    .dataframe tbody tr th:only-of-type {\n",
       "        vertical-align: middle;\n",
       "    }\n",
       "\n",
       "    .dataframe tbody tr th {\n",
       "        vertical-align: top;\n",
       "    }\n",
       "\n",
       "    .dataframe thead th {\n",
       "        text-align: right;\n",
       "    }\n",
       "</style>\n",
       "<table border=\"1\" class=\"dataframe\">\n",
       "  <thead>\n",
       "    <tr style=\"text-align: right;\">\n",
       "      <th></th>\n",
       "      <th>price</th>\n",
       "      <th>sqft_living</th>\n",
       "    </tr>\n",
       "    <tr>\n",
       "      <th>date</th>\n",
       "      <th></th>\n",
       "      <th></th>\n",
       "    </tr>\n",
       "  </thead>\n",
       "  <tbody>\n",
       "    <tr>\n",
       "      <th>2014-10-13</th>\n",
       "      <td>221900.0</td>\n",
       "      <td>1180</td>\n",
       "    </tr>\n",
       "    <tr>\n",
       "      <th>2014-12-09</th>\n",
       "      <td>538000.0</td>\n",
       "      <td>2570</td>\n",
       "    </tr>\n",
       "    <tr>\n",
       "      <th>2015-02-25</th>\n",
       "      <td>180000.0</td>\n",
       "      <td>770</td>\n",
       "    </tr>\n",
       "    <tr>\n",
       "      <th>2014-12-09</th>\n",
       "      <td>604000.0</td>\n",
       "      <td>1960</td>\n",
       "    </tr>\n",
       "    <tr>\n",
       "      <th>2015-02-18</th>\n",
       "      <td>510000.0</td>\n",
       "      <td>1680</td>\n",
       "    </tr>\n",
       "  </tbody>\n",
       "</table>\n",
       "</div>"
      ],
      "text/plain": [
       "               price  sqft_living\n",
       "date                             \n",
       "2014-10-13  221900.0         1180\n",
       "2014-12-09  538000.0         2570\n",
       "2015-02-25  180000.0          770\n",
       "2014-12-09  604000.0         1960\n",
       "2015-02-18  510000.0         1680"
      ]
     },
     "execution_count": 4,
     "metadata": {},
     "output_type": "execute_result"
    }
   ],
   "source": [
    "# set the index equal to the date column & then drop the old date column\n",
    "df.index = pd.to_datetime(df['date'])\n",
    "df = df.drop(['date'], axis = 1)\n",
    "\n",
    "# print the first five rows\n",
    "df.info()\n",
    "df.head()"
   ]
  },
  {
   "cell_type": "markdown",
   "metadata": {},
   "source": [
    "### Check for Null Values"
   ]
  },
  {
   "cell_type": "code",
   "execution_count": 5,
   "metadata": {
    "scrolled": true
   },
   "outputs": [
    {
     "data": {
      "text/plain": [
       "price          0\n",
       "sqft_living    0\n",
       "dtype: int64"
      ]
     },
     "execution_count": 5,
     "metadata": {},
     "output_type": "execute_result"
    }
   ],
   "source": [
    "df.isnull().sum() #no null values present"
   ]
  },
  {
   "cell_type": "code",
   "execution_count": 6,
   "metadata": {},
   "outputs": [
    {
     "data": {
      "text/plain": [
       "date\n",
       "2015-02-25    770\n",
       "2015-03-25    990\n",
       "2014-06-02    960\n",
       "2014-06-23    880\n",
       "2015-04-06    770\n",
       "             ... \n",
       "2015-01-20    980\n",
       "2014-05-09    998\n",
       "2014-10-15    980\n",
       "2014-06-23    940\n",
       "2014-06-10    710\n",
       "Name: sqft_living, Length: 1414, dtype: int64"
      ]
     },
     "execution_count": 6,
     "metadata": {},
     "output_type": "execute_result"
    }
   ],
   "source": [
    "df.sqft_living.loc[df.sqft_living < 1000]"
   ]
  },
  {
   "cell_type": "markdown",
   "metadata": {},
   "source": [
    "# Step 4: Explore the Data\n",
    "Okay, now that we have a clean dataset let us explore it a little. Again, this is a critical step as it helps us understand some of the following questions:\n",
    "\n",
    "How is the data distributed?\n",
    "\n",
    "Does there appear to be a relationship between the two variables?\n",
    "\n",
    "Are there any outliers?\n",
    "\n",
    "Is the data skewed?\n",
    "\n",
    "By better understanding the answers to these questions we can validate whether we need to do further transformations or if we need to change the model we picked."
   ]
  },
  {
   "cell_type": "markdown",
   "metadata": {},
   "source": [
    "Here we can see the max data points for both columns price and sqft_living are well over 3 standard devatiations from the mean. This will skew our data to the right with all these outliers."
   ]
  },
  {
   "cell_type": "code",
   "execution_count": 7,
   "metadata": {
    "scrolled": false
   },
   "outputs": [
    {
     "data": {
      "text/plain": [
       "<matplotlib.axes._subplots.AxesSubplot at 0x20b5de32788>"
      ]
     },
     "execution_count": 7,
     "metadata": {},
     "output_type": "execute_result"
    },
    {
     "data": {
      "image/png": "[encoded data removed]",
      "text/plain": [
       "<Figure size 432x288 with 1 Axes>"
      ]
     },
     "metadata": {
      "needs_background": "light"
     },
     "output_type": "display_data"
    }
   ],
   "source": [
    "sns.distplot(df.price)"
   ]
  },
  {
   "cell_type": "code",
   "execution_count": 8,
   "metadata": {
    "scrolled": true
   },
   "outputs": [
    {
     "data": {
      "text/plain": [
       "<matplotlib.axes._subplots.AxesSubplot at 0x20b5dddbf08>"
      ]
     },
     "execution_count": 8,
     "metadata": {},
     "output_type": "execute_result"
    },
    {
     "data": {
      "image/png": "[encoded data removed]",
      "text/plain": [
       "<Figure size 432x288 with 1 Axes>"
      ]
     },
     "metadata": {
      "needs_background": "light"
     },
     "output_type": "display_data"
    }
   ],
   "source": [
    "sns.distplot(df.sqft_living)"
   ]
  },
  {
   "cell_type": "markdown",
   "metadata": {},
   "source": [
    "Here we can see a good visualization of the distributions. The two data points are definitely skewed to the right and have a good bit of outliers."
   ]
  },
  {
   "cell_type": "code",
   "execution_count": 9,
   "metadata": {},
   "outputs": [
    {
     "data": {
      "image/png": "[encoded data removed]",
      "text/plain": [
       "<Figure size 432x288 with 1 Axes>"
      ]
     },
     "metadata": {
      "needs_background": "light"
     },
     "output_type": "display_data"
    }
   ],
   "source": [
    "# define the x & y data.\n",
    "x = df['sqft_living']\n",
    "y = df['price']\n",
    "\n",
    "# create the scatter plot.\n",
    "plt.plot(x, y, 'o', color ='cadetblue', label = 'House Price at Sqft')\n",
    "\n",
    "# make sure it's formatted.\n",
    "plt.title(\"Living Area Vs. Price\")\n",
    "plt.xlabel(\"Living SF\")\n",
    "plt.ylabel(\"Price\")\n",
    "plt.legend()\n",
    "\n",
    "plt.show()"
   ]
  },
  {
   "cell_type": "markdown",
   "metadata": {},
   "source": [
    "This scatter plot shows there is definitely a strong linear correlation between these two variables."
   ]
  },
  {
   "cell_type": "code",
   "execution_count": 10,
   "metadata": {
    "scrolled": false
   },
   "outputs": [
    {
     "data": {
      "text/html": [
       "<div>\n",
       "<style scoped>\n",
       "    .dataframe tbody tr th:only-of-type {\n",
       "        vertical-align: middle;\n",
       "    }\n",
       "\n",
       "    .dataframe tbody tr th {\n",
       "        vertical-align: top;\n",
       "    }\n",
       "\n",
       "    .dataframe thead th {\n",
       "        text-align: right;\n",
       "    }\n",
       "</style>\n",
       "<table border=\"1\" class=\"dataframe\">\n",
       "  <thead>\n",
       "    <tr style=\"text-align: right;\">\n",
       "      <th></th>\n",
       "      <th>price</th>\n",
       "      <th>sqft_living</th>\n",
       "    </tr>\n",
       "  </thead>\n",
       "  <tbody>\n",
       "    <tr>\n",
       "      <th>price</th>\n",
       "      <td>1.000000</td>\n",
       "      <td>0.701917</td>\n",
       "    </tr>\n",
       "    <tr>\n",
       "      <th>sqft_living</th>\n",
       "      <td>0.701917</td>\n",
       "      <td>1.000000</td>\n",
       "    </tr>\n",
       "  </tbody>\n",
       "</table>\n",
       "</div>"
      ],
      "text/plain": [
       "                price  sqft_living\n",
       "price        1.000000     0.701917\n",
       "sqft_living  0.701917     1.000000"
      ]
     },
     "execution_count": 10,
     "metadata": {},
     "output_type": "execute_result"
    }
   ],
   "source": [
    "df.corr()"
   ]
  },
  {
   "cell_type": "markdown",
   "metadata": {},
   "source": [
    "There is a correlation (0.7) and a strong one at that. Generally speaking, this is how we measure the strength of correlations.\n",
    "\n",
    " - Very strong relationship **(|r| > 0.8 =>)**\n",
    " - Strong relationship **(0.6 ≤ |r|)**\n",
    " - Moderate relationship **(0.4 ≤ |r|)**\n",
    " - Weak relationship **(0.2 ≤ |r|)**\n",
    " - Very weak relationship **(|r|)** \n"
   ]
  },
  {
   "cell_type": "markdown",
   "metadata": {},
   "source": [
    "### 4.1 Describe the Data"
   ]
  },
  {
   "cell_type": "code",
   "execution_count": 11,
   "metadata": {},
   "outputs": [
    {
     "data": {
      "text/html": [
       "<div>\n",
       "<style scoped>\n",
       "    .dataframe tbody tr th:only-of-type {\n",
       "        vertical-align: middle;\n",
       "    }\n",
       "\n",
       "    .dataframe tbody tr th {\n",
       "        vertical-align: top;\n",
       "    }\n",
       "\n",
       "    .dataframe thead th {\n",
       "        text-align: right;\n",
       "    }\n",
       "</style>\n",
       "<table border=\"1\" class=\"dataframe\">\n",
       "  <thead>\n",
       "    <tr style=\"text-align: right;\">\n",
       "      <th></th>\n",
       "      <th>price</th>\n",
       "      <th>sqft_living</th>\n",
       "    </tr>\n",
       "  </thead>\n",
       "  <tbody>\n",
       "    <tr>\n",
       "      <th>count</th>\n",
       "      <td>2.159700e+04</td>\n",
       "      <td>21597.000000</td>\n",
       "    </tr>\n",
       "    <tr>\n",
       "      <th>mean</th>\n",
       "      <td>5.402966e+05</td>\n",
       "      <td>2080.321850</td>\n",
       "    </tr>\n",
       "    <tr>\n",
       "      <th>std</th>\n",
       "      <td>3.673681e+05</td>\n",
       "      <td>918.106125</td>\n",
       "    </tr>\n",
       "    <tr>\n",
       "      <th>min</th>\n",
       "      <td>7.800000e+04</td>\n",
       "      <td>370.000000</td>\n",
       "    </tr>\n",
       "    <tr>\n",
       "      <th>25%</th>\n",
       "      <td>3.220000e+05</td>\n",
       "      <td>1430.000000</td>\n",
       "    </tr>\n",
       "    <tr>\n",
       "      <th>50%</th>\n",
       "      <td>4.500000e+05</td>\n",
       "      <td>1910.000000</td>\n",
       "    </tr>\n",
       "    <tr>\n",
       "      <th>75%</th>\n",
       "      <td>6.450000e+05</td>\n",
       "      <td>2550.000000</td>\n",
       "    </tr>\n",
       "    <tr>\n",
       "      <th>max</th>\n",
       "      <td>7.700000e+06</td>\n",
       "      <td>13540.000000</td>\n",
       "    </tr>\n",
       "    <tr>\n",
       "      <th>+3_std</th>\n",
       "      <td>1.642401e+06</td>\n",
       "      <td>4834.640225</td>\n",
       "    </tr>\n",
       "    <tr>\n",
       "      <th>-3_std</th>\n",
       "      <td>-5.618078e+05</td>\n",
       "      <td>-673.996525</td>\n",
       "    </tr>\n",
       "  </tbody>\n",
       "</table>\n",
       "</div>"
      ],
      "text/plain": [
       "               price   sqft_living\n",
       "count   2.159700e+04  21597.000000\n",
       "mean    5.402966e+05   2080.321850\n",
       "std     3.673681e+05    918.106125\n",
       "min     7.800000e+04    370.000000\n",
       "25%     3.220000e+05   1430.000000\n",
       "50%     4.500000e+05   1910.000000\n",
       "75%     6.450000e+05   2550.000000\n",
       "max     7.700000e+06  13540.000000\n",
       "+3_std  1.642401e+06   4834.640225\n",
       "-3_std -5.618078e+05   -673.996525"
      ]
     },
     "execution_count": 11,
     "metadata": {},
     "output_type": "execute_result"
    }
   ],
   "source": [
    "# get the summary\n",
    "desc_df = df.describe()\n",
    "\n",
    "# add the standard deviation metric\n",
    "desc_df.loc['+3_std'] = desc_df.loc['mean'] + (desc_df.loc['std'] * 3)\n",
    "desc_df.loc['-3_std'] = desc_df.loc['mean'] - (desc_df.loc['std'] * 3)\n",
    "\n",
    "# display it\n",
    "desc_df"
   ]
  },
  {
   "cell_type": "markdown",
   "metadata": {},
   "source": [
    "Here we can see that our max value in both columns is well outside 3 standard devations and will really effect our model."
   ]
  },
  {
   "cell_type": "markdown",
   "metadata": {},
   "source": [
    "# Step 5 Remove Outliers"
   ]
  },
  {
   "cell_type": "code",
   "execution_count": 12,
   "metadata": {},
   "outputs": [
    {
     "name": "stdout",
     "output_type": "stream",
     "text": [
      "The amount of outliers that have been filtered: -525\n"
     ]
    }
   ],
   "source": [
    "# filter the data frame to remove the values exceeding 3 standard deviations\n",
    "filtered_df = df[(np.abs(stats.zscore(df)) < 3).all(axis=1)]\n",
    "print(\"The amount of outliers that have been filtered:\", filtered_df.shape[0] - df.shape[0])"
   ]
  },
  {
   "cell_type": "code",
   "execution_count": 13,
   "metadata": {},
   "outputs": [
    {
     "data": {
      "text/plain": [
       "<matplotlib.axes._subplots.AxesSubplot at 0x20b5e0a0908>"
      ]
     },
     "execution_count": 13,
     "metadata": {},
     "output_type": "execute_result"
    },
    {
     "data": {
      "image/png": "[encoded data removed]",
      "text/plain": [
       "<Figure size 432x288 with 1 Axes>"
      ]
     },
     "metadata": {
      "needs_background": "light"
     },
     "output_type": "display_data"
    }
   ],
   "source": [
    "sns.distplot(filtered_df.price)"
   ]
  },
  {
   "cell_type": "code",
   "execution_count": 14,
   "metadata": {},
   "outputs": [
    {
     "data": {
      "text/plain": [
       "<matplotlib.axes._subplots.AxesSubplot at 0x20b5e2ebfc8>"
      ]
     },
     "execution_count": 14,
     "metadata": {},
     "output_type": "execute_result"
    },
    {
     "data": {
      "image/png": "[encoded data removed]",
      "text/plain": [
       "<Figure size 432x288 with 1 Axes>"
      ]
     },
     "metadata": {
      "needs_background": "light"
     },
     "output_type": "display_data"
    }
   ],
   "source": [
    "sns.distplot(filtered_df.sqft_living)"
   ]
  },
  {
   "cell_type": "markdown",
   "metadata": {},
   "source": [
    "These are still skewed, but in reality the data is skewed also so we will leave this as is."
   ]
  },
  {
   "cell_type": "markdown",
   "metadata": {},
   "source": [
    "# Step 6 Skewness and Kurtosis Check"
   ]
  },
  {
   "cell_type": "code",
   "execution_count": 15,
   "metadata": {},
   "outputs": [
    {
     "data": {
      "text/plain": [
       "'SQFT Living Excess Kurtosis: 0.73'"
      ]
     },
     "metadata": {},
     "output_type": "display_data"
    },
    {
     "data": {
      "text/plain": [
       "'Price Excess Kurtosis: 1.4'"
      ]
     },
     "metadata": {},
     "output_type": "display_data"
    },
    {
     "data": {
      "text/plain": [
       "'SQFT Living Skew: 0.73'"
      ]
     },
     "metadata": {},
     "output_type": "display_data"
    },
    {
     "data": {
      "text/plain": [
       "'Price Skew: 1.4'"
      ]
     },
     "metadata": {},
     "output_type": "display_data"
    }
   ],
   "source": [
    "# calculate the excess kurtosis using the fisher method. The alternative is Pearson which calculates regular kurtosis.\n",
    "sqft_living_kurtosis = kurtosis(filtered_df['sqft_living'], fisher = True)\n",
    "price_kurtosis = kurtosis(filtered_df['price'], fisher = True)\n",
    "\n",
    "# calculate the skewness\n",
    "sqft_living_skew = skew(filtered_df['sqft_living'])\n",
    "price_skew = skew(filtered_df['price'])\n",
    "\n",
    "display(\"SQFT Living Excess Kurtosis: {:.2}\".format(sqft_living_skew))  # this looks fine\n",
    "display(\"Price Excess Kurtosis: {:.2}\".format(price_skew))      # this looks fine\n",
    "\n",
    "display(\"SQFT Living Skew: {:.2}\".format(sqft_living_skew))          # moderately skewed\n",
    "display(\"Price Skew: {:.2}\".format(price_skew))              # moderately skewed, it's a little high but we will accept it."
   ]
  },
  {
   "cell_type": "markdown",
   "metadata": {},
   "source": [
    "**Kurtosis**\n",
    "- Any distribution with **kurtosis ≈3 (excess ≈0)** is called mesokurtic. This is a normal distribution\n",
    "- Any distribution with **kurtosis <3 (excess kurtosis <0)** is called platykurtic. Tails are shorter and thinner, and often its central peak is lower and broader.\n",
    "- Any distribution with **kurtosis >3 (excess kurtosis >0)** is called leptokurtic. Tails are longer and fatter, and often its central peak is higher and sharper.\n",
    "\n",
    "***\n",
    "\n",
    "**Skewness**\n",
    "- If skewness is **less than −1 or greater than +1**, the distribution is highly skewed.\n",
    "- If skewness is **between −1 and −½ or between +½ and +1**, the distribution is moderately skewed.\n",
    "- If skewness is **between −½ and +½**, the distribution is approximately symmetric.\n",
    "\n",
    "**Conclusion**\n",
    "\n",
    "Kurtosis - both data sets have more thab 0.5 excess kurtosis.\n",
    "\n",
    "Skew - Price has a skewness > 1 so this is considered highly skewed and may need to be transformed.\n",
    "\n",
    "The larger the dataset the higher the more skewed and kurtosis your data set will become. This is a relatively large data set so it is not surprising we see skew and kurtosis. We may come back and do a log transformation on the data later to try to make it more normal."
   ]
  },
  {
   "cell_type": "markdown",
   "metadata": {},
   "source": [
    "# Step 7 Build the Model"
   ]
  },
  {
   "cell_type": "markdown",
   "metadata": {},
   "source": [
    "### 7.1 Split the Data"
   ]
  },
  {
   "cell_type": "code",
   "execution_count": 16,
   "metadata": {},
   "outputs": [],
   "source": [
    "# define our input variable (X) & output variable.\n",
    "Y = filtered_df[['price']]\n",
    "X = filtered_df[['sqft_living']]\n",
    "\n",
    "# Split X and y into X_\n",
    "X_train, X_test, y_train, y_test = train_test_split(X, Y, test_size=0.20, random_state=1)"
   ]
  },
  {
   "cell_type": "markdown",
   "metadata": {},
   "source": [
    "Typical training:test splits are 80:20."
   ]
  },
  {
   "cell_type": "markdown",
   "metadata": {},
   "source": [
    "### 7.2 Create and Fit Model"
   ]
  },
  {
   "cell_type": "code",
   "execution_count": 17,
   "metadata": {},
   "outputs": [
    {
     "data": {
      "text/plain": [
       "LinearRegression(copy_X=True, fit_intercept=True, n_jobs=None, normalize=False)"
      ]
     },
     "execution_count": 17,
     "metadata": {},
     "output_type": "execute_result"
    }
   ],
   "source": [
    "# create a Linear Regression model object.\n",
    "regression_model = LinearRegression()\n",
    "\n",
    "# pass through the X_train & y_train data set.\n",
    "regression_model.fit(X_train, y_train)"
   ]
  },
  {
   "cell_type": "markdown",
   "metadata": {},
   "source": [
    "### 7.3 Explore the Output"
   ]
  },
  {
   "cell_type": "code",
   "execution_count": 18,
   "metadata": {
    "scrolled": true
   },
   "outputs": [
    {
     "name": "stdout",
     "output_type": "stream",
     "text": [
      "The Coefficient for our model is 209.3\n",
      "The intercept for our model is 82510.5\n"
     ]
    }
   ],
   "source": [
    "# let's grab the coefficient of our model and the intercept.\n",
    "intercept = regression_model.intercept_[0]\n",
    "coefficient = regression_model.coef_[0][0]\n",
    "\n",
    "print(\"The Coefficient for our model is {:.4}\".format(coefficient))\n",
    "print(\"The intercept for our model is {:.6}\".format(intercept))"
   ]
  },
  {
   "cell_type": "markdown",
   "metadata": {},
   "source": [
    "Interpreting the coefficient, we would say that for every sf increase in area **is associated with a 209.3** increase in the price. **We are NOT CLAIMING CAUSATION, just association.**"
   ]
  },
  {
   "cell_type": "markdown",
   "metadata": {},
   "source": [
    "### 7.4 Test by Making a Prediction"
   ]
  },
  {
   "cell_type": "code",
   "execution_count": 19,
   "metadata": {},
   "outputs": [
    {
     "name": "stdout",
     "output_type": "stream",
     "text": [
      "The predicted value is 333655.41 dollars.\n"
     ]
    }
   ],
   "source": [
    "# let's test a prediction\n",
    "prediction = regression_model.predict([[1200]])\n",
    "predicted_value = prediction[0][0]\n",
    "print(\"The predicted value is {:.8}\".format(predicted_value),\"dollars.\")"
   ]
  },
  {
   "cell_type": "markdown",
   "metadata": {},
   "source": [
    "### 7.4.1 Make Multiple Predicitions"
   ]
  },
  {
   "cell_type": "code",
   "execution_count": 20,
   "metadata": {},
   "outputs": [
    {
     "data": {
      "text/plain": [
       "array([[434113.36279054],\n",
       "       [450856.35555287],\n",
       "       [526199.82298337],\n",
       "       [850595.3077536 ],\n",
       "       [383884.38450353]])"
      ]
     },
     "execution_count": 20,
     "metadata": {},
     "output_type": "execute_result"
    }
   ],
   "source": [
    "# Get multiple predictions.\n",
    "y_predict = regression_model.predict(X_test)\n",
    "\n",
    "# Show the first 5 predictions\n",
    "y_predict[:5]"
   ]
  },
  {
   "cell_type": "markdown",
   "metadata": {},
   "source": [
    "# Step 8 Evaluate the Model"
   ]
  },
  {
   "cell_type": "markdown",
   "metadata": {},
   "source": [
    "To make this process easier on ourselves, we are going to recreate our same model using the statsmodel.api library. The reason why is that they have numerous built-in functions that make calculating metrics like confidence intervals and p-values a breeze. The output from the statsmodel.api will not be identical to our sklearn library but it will be very close."
   ]
  },
  {
   "cell_type": "code",
   "execution_count": 21,
   "metadata": {},
   "outputs": [],
   "source": [
    "# define our intput\n",
    "X2 = sm.add_constant(X)\n",
    "\n",
    "# create a OLS model.\n",
    "model = sm.OLS(Y, X)\n",
    "\n",
    "# fit the data\n",
    "est = model.fit()"
   ]
  },
  {
   "cell_type": "markdown",
   "metadata": {},
   "source": [
    "### 8.1 Model Summary"
   ]
  },
  {
   "cell_type": "code",
   "execution_count": 22,
   "metadata": {},
   "outputs": [
    {
     "name": "stdout",
     "output_type": "stream",
     "text": [
      "                                 OLS Regression Results                                \n",
      "=======================================================================================\n",
      "Dep. Variable:                  price   R-squared (uncentered):                   0.880\n",
      "Model:                            OLS   Adj. R-squared (uncentered):              0.880\n",
      "Method:                 Least Squares   F-statistic:                          1.540e+05\n",
      "Date:                Tue, 16 Jun 2020   Prob (F-statistic):                        0.00\n",
      "Time:                        08:07:20   Log-Likelihood:                     -2.8663e+05\n",
      "No. Observations:               21072   AIC:                                  5.733e+05\n",
      "Df Residuals:                   21071   BIC:                                  5.733e+05\n",
      "Df Model:                           1                                                  \n",
      "Covariance Type:            nonrobust                                                  \n",
      "===============================================================================\n",
      "                  coef    std err          t      P>|t|      [0.025      0.975]\n",
      "-------------------------------------------------------------------------------\n",
      "sqft_living   244.3091      0.622    392.465      0.000     243.089     245.529\n",
      "==============================================================================\n",
      "Omnibus:                     2432.330   Durbin-Watson:                   1.962\n",
      "Prob(Omnibus):                  0.000   Jarque-Bera (JB):             4676.780\n",
      "Skew:                           0.752   Prob(JB):                         0.00\n",
      "Kurtosis:                       4.750   Cond. No.                         1.00\n",
      "==============================================================================\n",
      "\n",
      "Warnings:\n",
      "[1] Standard Errors assume that the covariance matrix of the errors is correctly specified.\n"
     ]
    }
   ],
   "source": [
    "print(est.summary())"
   ]
  },
  {
   "cell_type": "markdown",
   "metadata": {},
   "source": [
    "### 8.2 Confidence Interval"
   ]
  },
  {
   "cell_type": "code",
   "execution_count": 23,
   "metadata": {},
   "outputs": [
    {
     "data": {
      "text/html": [
       "<div>\n",
       "<style scoped>\n",
       "    .dataframe tbody tr th:only-of-type {\n",
       "        vertical-align: middle;\n",
       "    }\n",
       "\n",
       "    .dataframe tbody tr th {\n",
       "        vertical-align: top;\n",
       "    }\n",
       "\n",
       "    .dataframe thead th {\n",
       "        text-align: right;\n",
       "    }\n",
       "</style>\n",
       "<table border=\"1\" class=\"dataframe\">\n",
       "  <thead>\n",
       "    <tr style=\"text-align: right;\">\n",
       "      <th></th>\n",
       "      <th>0</th>\n",
       "      <th>1</th>\n",
       "    </tr>\n",
       "  </thead>\n",
       "  <tbody>\n",
       "    <tr>\n",
       "      <th>sqft_living</th>\n",
       "      <td>243.088957</td>\n",
       "      <td>245.529251</td>\n",
       "    </tr>\n",
       "  </tbody>\n",
       "</table>\n",
       "</div>"
      ],
      "text/plain": [
       "                      0           1\n",
       "sqft_living  243.088957  245.529251"
      ]
     },
     "execution_count": 23,
     "metadata": {},
     "output_type": "execute_result"
    }
   ],
   "source": [
    "est.conf_int()"
   ]
  },
  {
   "cell_type": "markdown",
   "metadata": {},
   "source": [
    "Interpreting the output above, we would say that with 95% confidence the sqft_living coefficient exists between 204.6 & 211.15"
   ]
  },
  {
   "cell_type": "markdown",
   "metadata": {},
   "source": [
    "### 8.3 Hypothesis Testing\n",
    "\n",
    "- **Null Hypothesis:** There is no relationship between the sqft_living and the price.\n",
    "    - The coefficient equals 0.\n",
    "- **Alternative Hypothesis:** There is a relationship between the sqft_living and the price.\n",
    "    - The coefficient does not equal to 0.\n",
    "    \n",
    "- If we reject the null, we are saying there is a relationship, and the coefficient does not equal 0.\n",
    "- If we fail to reject the null, we are saying there is no relationship, and the coefficient does equal 0."
   ]
  },
  {
   "cell_type": "code",
   "execution_count": 24,
   "metadata": {
    "scrolled": true
   },
   "outputs": [
    {
     "data": {
      "text/plain": [
       "sqft_living    0.0\n",
       "dtype: float64"
      ]
     },
     "execution_count": 24,
     "metadata": {},
     "output_type": "execute_result"
    }
   ],
   "source": [
    "est.pvalues"
   ]
  },
  {
   "cell_type": "markdown",
   "metadata": {},
   "source": [
    "The p-value represents the probability that the coefficient equals 0. We want a p-value that is less than 0.05 if it is we can reject the null hypothesis. In this case, the p-value for the sqft_living coefficient is much lower than 0.05, so we can reject the null hypothesis and say that there is a relationship and that we believe it to be between the sqft_living and the price."
   ]
  },
  {
   "cell_type": "markdown",
   "metadata": {},
   "source": [
    "### 8.4 Model Fit"
   ]
  },
  {
   "cell_type": "markdown",
   "metadata": {},
   "source": [
    "We will take `y_predictions` and compare them to our `y_actuals` these will be our residuals. From here we can calculate a few metrics to help quantify how well our model fits the data. Here are a few popular metrics:\n",
    "\n",
    "- **Mean Absolute Error (MAE):** Is the mean of the absolute value of the errors. This metric gives an idea of magnitude but no idea of direction (too high or too low).\n",
    "\n",
    "- **Mean Squared Error (MSE):** Is the mean of the squared errors.MSE is more popular than MAE because MSE \"punishes\" more significant errors.\n",
    "\n",
    "- **Root Mean Squared Error (RMSE):** Is the square root of the mean of the squared errors. RMSE is even more favored because it allows us to interpret the output in y-units."
   ]
  },
  {
   "cell_type": "code",
   "execution_count": 25,
   "metadata": {
    "scrolled": true
   },
   "outputs": [
    {
     "name": "stdout",
     "output_type": "stream",
     "text": [
      "MSE 36924809884.67193\n",
      "MAE 145382.38907042964\n",
      "RMSE 192158.29382223377\n"
     ]
    }
   ],
   "source": [
    "# calculate the mean squared error.\n",
    "model_mse = mean_squared_error(y_test, y_predict)\n",
    "\n",
    "# calculate the mean absolute error.\n",
    "model_mae = mean_absolute_error(y_test, y_predict)\n",
    "\n",
    "# calulcate the root mean squared error\n",
    "model_rmse =  math.sqrt(model_mse)\n",
    "\n",
    "# display the output\n",
    "print(\"MSE {:}\".format(model_mse))\n",
    "print(\"MAE {:}\".format(model_mae))\n",
    "print(\"RMSE {:}\".format(model_rmse))"
   ]
  },
  {
   "cell_type": "markdown",
   "metadata": {},
   "source": [
    "### 8.4.1 R-Squared\n",
    "The R-Squared metric provides us a way to measure the goodness of fit or how well our data fits the model. The higher the R-Squared metric, the better the data fit our model. However, we have to know the limitations of R-Square. One limitation is that R-Square increases as the number of feature increases in our model, so it does not pay to select the model with the highest R-Square. A more popular metric is the adjusted R-Square which penalizes more complex models. Let us calculate both."
   ]
  },
  {
   "cell_type": "code",
   "execution_count": 26,
   "metadata": {},
   "outputs": [
    {
     "name": "stdout",
     "output_type": "stream",
     "text": [
      "R2: 0.41\n"
     ]
    }
   ],
   "source": [
    "model_r2 = r2_score(y_test, y_predict)\n",
    "print(\"R2: {:.2}\".format(model_r2))"
   ]
  },
  {
   "cell_type": "markdown",
   "metadata": {},
   "source": [
    "With R-Square & adjusted R-Square, we have to be careful when interpreting the output because it depends on what our the goal is. The R-squared is generally of secondary importance unless the main concern is using the regression equation to make accurate predictions. It boils down to the domain-specific problem"
   ]
  },
  {
   "cell_type": "markdown",
   "metadata": {},
   "source": [
    "### Step 9 Visualize the Model"
   ]
  },
  {
   "cell_type": "markdown",
   "metadata": {},
   "source": [
    "### 9.1 Plot the Residuals"
   ]
  },
  {
   "cell_type": "code",
   "execution_count": 27,
   "metadata": {},
   "outputs": [
    {
     "data": {
      "image/png": "[encoded data removed]",
      "text/plain": [
       "<Figure size 432x288 with 1 Axes>"
      ]
     },
     "metadata": {
      "needs_background": "light"
     },
     "output_type": "display_data"
    }
   ],
   "source": [
    "# Grab the residuals & then call the hist() method\n",
    "(y_test - y_predict).hist(grid = False, color = 'royalblue')\n",
    "plt.title(\"Model Residuals\")\n",
    "plt.show()"
   ]
  },
  {
   "cell_type": "markdown",
   "metadata": {},
   "source": [
    "### 9.2 Plot the line"
   ]
  },
  {
   "cell_type": "code",
   "execution_count": 28,
   "metadata": {},
   "outputs": [
    {
     "data": {
      "image/png": "[encoded data removed]",
      "text/plain": [
       "<Figure size 432x288 with 1 Axes>"
      ]
     },
     "metadata": {
      "needs_background": "light"
     },
     "output_type": "display_data"
    },
    {
     "name": "stdout",
     "output_type": "stream",
     "text": [
      "sqft_living coefficient:\u001b[1m209.28740952917812\u001b[0m\n",
      "Mean squared error: \u001b[1m36924809884.67193\u001b[0m\n",
      "Root Mean squared error: \u001b[1m192158.3\u001b[0m\n",
      "R2 score: \u001b[1m0.41\u001b[0m\n"
     ]
    }
   ],
   "source": [
    "# Plot outputs\n",
    "plt.scatter(X_test, y_test,  color='gainsboro', label = 'Price')\n",
    "plt.plot(X_test, y_predict, color='royalblue', linewidth = 3, linestyle= '-',label ='Regression Line')\n",
    "\n",
    "plt.title(\"Linear Regression Living Area Vs. Price\")\n",
    "plt.xlabel(\"Living Square Feet\")\n",
    "plt.ylabel(\"Price\")\n",
    "plt.legend()\n",
    "plt.show()\n",
    "\n",
    "# The coefficients\n",
    "print('sqft_living coefficient:' + '\\033[1m' + '{:}''\\033[0m'.format(regression_model.coef_[0][0]))\n",
    "\n",
    "# The mean squared error\n",
    "print('Mean squared error: ' + '\\033[1m' + '{:}''\\033[0m'.format(model_mse))\n",
    "\n",
    "# The mean squared error\n",
    "print('Root Mean squared error: ' + '\\033[1m' + '{:.7}''\\033[0m'.format(math.sqrt(model_mse)))\n",
    "\n",
    "# Explained variance score: 1 is perfect prediction\n",
    "print('R2 score: '+ '\\033[1m' + '{:.2}''\\033[0m'.format(r2_score(y_test,y_predict)))"
   ]
  },
  {
   "cell_type": "markdown",
   "metadata": {},
   "source": [
    "### Step 10 Save the Model for later use"
   ]
  },
  {
   "cell_type": "code",
   "execution_count": 29,
   "metadata": {},
   "outputs": [
    {
     "data": {
      "text/plain": [
       "array([[291797.92431069]])"
      ]
     },
     "execution_count": 29,
     "metadata": {},
     "output_type": "execute_result"
    }
   ],
   "source": [
    "import pickle\n",
    "\n",
    "# pickle the model.\n",
    "with open('sgft_price_linreg.sav','wb') as f:\n",
    "     pickle.dump(regression_model,f)\n",
    "\n",
    "# load it back in to see if everything works\n",
    "with open('sgft_price_linreg.sav', 'rb') as pickle_file:\n",
    "     regression_model_2 = pickle.load(pickle_file)\n",
    "\n",
    "# make a new prediction to verify\n",
    "regression_model_2.predict([[1000]])"
   ]
  },
  {
   "cell_type": "code",
   "execution_count": null,
   "metadata": {},
   "outputs": [],
   "source": []
  }
 ],
 "metadata": {
  "kernelspec": {
   "display_name": "Python 3",
   "language": "python",
   "name": "python3"
  },
  "language_info": {
   "codemirror_mode": {
    "name": "ipython",
    "version": 3
   },
   "file_extension": ".py",
   "mimetype": "text/x-python",
   "name": "python",
   "nbconvert_exporter": "python",
   "pygments_lexer": "ipython3",
   "version": "3.7.6"
  }
 },
 "nbformat": 4,
 "nbformat_minor": 4
}
