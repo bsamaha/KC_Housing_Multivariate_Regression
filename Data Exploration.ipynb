{
 "cells": [
  {
   "cell_type": "markdown",
   "metadata": {},
   "source": [
    "# Step 1 Import the Libraries and Read in Data"
   ]
  },
  {
   "cell_type": "code",
   "execution_count": 1,
   "metadata": {},
   "outputs": [],
   "source": [
    "import pandas as pd\n",
    "import matplotlib.pyplot as plt\n",
    "import numpy as np\n",
    "import statsmodels.api as sm\n",
    "import math\n",
    "import seaborn as sns\n",
    "from my_func import *\n",
    "\n",
    "import statsmodels.api as sm\n",
    "from statsmodels.stats import diagnostic as diag\n",
    "from statsmodels.stats.outliers_influence import variance_inflation_factor\n",
    "\n",
    "from sklearn.model_selection import train_test_split\n",
    "from sklearn.linear_model import LinearRegression\n",
    "from sklearn.metrics import mean_squared_error, r2_score, mean_absolute_error\n",
    "\n",
    "from scipy import stats\n",
    "from scipy.stats import kurtosis, skew\n",
    "\n",
    "%matplotlib inline"
   ]
  },
  {
   "cell_type": "code",
   "execution_count": 2,
   "metadata": {
    "scrolled": true
   },
   "outputs": [
    {
     "data": {
      "text/html": [
       "<div>\n",
       "<style scoped>\n",
       "    .dataframe tbody tr th:only-of-type {\n",
       "        vertical-align: middle;\n",
       "    }\n",
       "\n",
       "    .dataframe tbody tr th {\n",
       "        vertical-align: top;\n",
       "    }\n",
       "\n",
       "    .dataframe thead th {\n",
       "        text-align: right;\n",
       "    }\n",
       "</style>\n",
       "<table border=\"1\" class=\"dataframe\">\n",
       "  <thead>\n",
       "    <tr style=\"text-align: right;\">\n",
       "      <th></th>\n",
       "      <th>price</th>\n",
       "      <th>bedrooms</th>\n",
       "      <th>bathrooms</th>\n",
       "      <th>sqft_living</th>\n",
       "      <th>sqft_lot</th>\n",
       "      <th>floors</th>\n",
       "      <th>waterfront</th>\n",
       "      <th>condition</th>\n",
       "      <th>grade</th>\n",
       "      <th>sqft_above</th>\n",
       "      <th>sqft_basement</th>\n",
       "      <th>yr_built</th>\n",
       "      <th>zipcode</th>\n",
       "      <th>sqft_living15</th>\n",
       "      <th>sqft_lot15</th>\n",
       "    </tr>\n",
       "  </thead>\n",
       "  <tbody>\n",
       "    <tr>\n",
       "      <th>0</th>\n",
       "      <td>221900.0</td>\n",
       "      <td>3</td>\n",
       "      <td>1.00</td>\n",
       "      <td>1180</td>\n",
       "      <td>5650</td>\n",
       "      <td>1.0</td>\n",
       "      <td>0.0</td>\n",
       "      <td>3</td>\n",
       "      <td>7</td>\n",
       "      <td>1180</td>\n",
       "      <td>0.0</td>\n",
       "      <td>1955</td>\n",
       "      <td>98178</td>\n",
       "      <td>1340</td>\n",
       "      <td>5650</td>\n",
       "    </tr>\n",
       "    <tr>\n",
       "      <th>1</th>\n",
       "      <td>538000.0</td>\n",
       "      <td>3</td>\n",
       "      <td>2.25</td>\n",
       "      <td>2570</td>\n",
       "      <td>7242</td>\n",
       "      <td>2.0</td>\n",
       "      <td>0.0</td>\n",
       "      <td>3</td>\n",
       "      <td>7</td>\n",
       "      <td>2170</td>\n",
       "      <td>400.0</td>\n",
       "      <td>1951</td>\n",
       "      <td>98125</td>\n",
       "      <td>1690</td>\n",
       "      <td>7639</td>\n",
       "    </tr>\n",
       "    <tr>\n",
       "      <th>2</th>\n",
       "      <td>180000.0</td>\n",
       "      <td>2</td>\n",
       "      <td>1.00</td>\n",
       "      <td>770</td>\n",
       "      <td>10000</td>\n",
       "      <td>1.0</td>\n",
       "      <td>0.0</td>\n",
       "      <td>3</td>\n",
       "      <td>6</td>\n",
       "      <td>770</td>\n",
       "      <td>0.0</td>\n",
       "      <td>1933</td>\n",
       "      <td>98028</td>\n",
       "      <td>2720</td>\n",
       "      <td>8062</td>\n",
       "    </tr>\n",
       "    <tr>\n",
       "      <th>3</th>\n",
       "      <td>604000.0</td>\n",
       "      <td>4</td>\n",
       "      <td>3.00</td>\n",
       "      <td>1960</td>\n",
       "      <td>5000</td>\n",
       "      <td>1.0</td>\n",
       "      <td>0.0</td>\n",
       "      <td>5</td>\n",
       "      <td>7</td>\n",
       "      <td>1050</td>\n",
       "      <td>910.0</td>\n",
       "      <td>1965</td>\n",
       "      <td>98136</td>\n",
       "      <td>1360</td>\n",
       "      <td>5000</td>\n",
       "    </tr>\n",
       "    <tr>\n",
       "      <th>4</th>\n",
       "      <td>510000.0</td>\n",
       "      <td>3</td>\n",
       "      <td>2.00</td>\n",
       "      <td>1680</td>\n",
       "      <td>8080</td>\n",
       "      <td>1.0</td>\n",
       "      <td>0.0</td>\n",
       "      <td>3</td>\n",
       "      <td>8</td>\n",
       "      <td>1680</td>\n",
       "      <td>0.0</td>\n",
       "      <td>1987</td>\n",
       "      <td>98074</td>\n",
       "      <td>1800</td>\n",
       "      <td>7503</td>\n",
       "    </tr>\n",
       "  </tbody>\n",
       "</table>\n",
       "</div>"
      ],
      "text/plain": [
       "      price  bedrooms  bathrooms  sqft_living  sqft_lot  floors  waterfront  \\\n",
       "0  221900.0         3       1.00         1180      5650     1.0         0.0   \n",
       "1  538000.0         3       2.25         2570      7242     2.0         0.0   \n",
       "2  180000.0         2       1.00          770     10000     1.0         0.0   \n",
       "3  604000.0         4       3.00         1960      5000     1.0         0.0   \n",
       "4  510000.0         3       2.00         1680      8080     1.0         0.0   \n",
       "\n",
       "   condition  grade  sqft_above  sqft_basement  yr_built  zipcode  \\\n",
       "0          3      7        1180            0.0      1955    98178   \n",
       "1          3      7        2170          400.0      1951    98125   \n",
       "2          3      6         770            0.0      1933    98028   \n",
       "3          5      7        1050          910.0      1965    98136   \n",
       "4          3      8        1680            0.0      1987    98074   \n",
       "\n",
       "   sqft_living15  sqft_lot15  \n",
       "0           1340        5650  \n",
       "1           1690        7639  \n",
       "2           2720        8062  \n",
       "3           1360        5000  \n",
       "4           1800        7503  "
      ]
     },
     "execution_count": 2,
     "metadata": {},
     "output_type": "execute_result"
    }
   ],
   "source": [
    "df = pd.read_csv('kc_house_data_cleaned.csv')\n",
    "df.head()"
   ]
  },
  {
   "cell_type": "markdown",
   "metadata": {},
   "source": [
    "# Step 2 Explore the Data"
   ]
  },
  {
   "cell_type": "markdown",
   "metadata": {},
   "source": [
    "### Step 2.1 Descibe the Data"
   ]
  },
  {
   "cell_type": "code",
   "execution_count": 3,
   "metadata": {},
   "outputs": [
    {
     "data": {
      "text/html": [
       "<div>\n",
       "<style scoped>\n",
       "    .dataframe tbody tr th:only-of-type {\n",
       "        vertical-align: middle;\n",
       "    }\n",
       "\n",
       "    .dataframe tbody tr th {\n",
       "        vertical-align: top;\n",
       "    }\n",
       "\n",
       "    .dataframe thead th {\n",
       "        text-align: right;\n",
       "    }\n",
       "</style>\n",
       "<table border=\"1\" class=\"dataframe\">\n",
       "  <thead>\n",
       "    <tr style=\"text-align: right;\">\n",
       "      <th></th>\n",
       "      <th>price</th>\n",
       "      <th>bedrooms</th>\n",
       "      <th>bathrooms</th>\n",
       "      <th>sqft_living</th>\n",
       "      <th>sqft_lot</th>\n",
       "      <th>floors</th>\n",
       "      <th>waterfront</th>\n",
       "      <th>condition</th>\n",
       "      <th>grade</th>\n",
       "      <th>sqft_above</th>\n",
       "      <th>sqft_basement</th>\n",
       "      <th>yr_built</th>\n",
       "      <th>zipcode</th>\n",
       "      <th>sqft_living15</th>\n",
       "      <th>sqft_lot15</th>\n",
       "    </tr>\n",
       "  </thead>\n",
       "  <tbody>\n",
       "    <tr>\n",
       "      <th>count</th>\n",
       "      <td>21597.00</td>\n",
       "      <td>21597.00</td>\n",
       "      <td>21597.00</td>\n",
       "      <td>21597.00</td>\n",
       "      <td>21597.00</td>\n",
       "      <td>21597.00</td>\n",
       "      <td>21597.00</td>\n",
       "      <td>21597.00</td>\n",
       "      <td>21597.00</td>\n",
       "      <td>21597.00</td>\n",
       "      <td>21597.00</td>\n",
       "      <td>21597.00</td>\n",
       "      <td>21597.00</td>\n",
       "      <td>21597.00</td>\n",
       "      <td>21597.00</td>\n",
       "    </tr>\n",
       "    <tr>\n",
       "      <th>mean</th>\n",
       "      <td>540296.57</td>\n",
       "      <td>3.37</td>\n",
       "      <td>2.12</td>\n",
       "      <td>2080.32</td>\n",
       "      <td>15099.41</td>\n",
       "      <td>1.49</td>\n",
       "      <td>0.01</td>\n",
       "      <td>3.41</td>\n",
       "      <td>7.66</td>\n",
       "      <td>1788.60</td>\n",
       "      <td>285.72</td>\n",
       "      <td>1971.00</td>\n",
       "      <td>98077.95</td>\n",
       "      <td>1986.62</td>\n",
       "      <td>12758.28</td>\n",
       "    </tr>\n",
       "    <tr>\n",
       "      <th>std</th>\n",
       "      <td>367368.14</td>\n",
       "      <td>0.93</td>\n",
       "      <td>0.77</td>\n",
       "      <td>918.11</td>\n",
       "      <td>41412.64</td>\n",
       "      <td>0.54</td>\n",
       "      <td>0.08</td>\n",
       "      <td>0.65</td>\n",
       "      <td>1.17</td>\n",
       "      <td>827.76</td>\n",
       "      <td>439.82</td>\n",
       "      <td>29.38</td>\n",
       "      <td>53.51</td>\n",
       "      <td>685.23</td>\n",
       "      <td>27274.44</td>\n",
       "    </tr>\n",
       "    <tr>\n",
       "      <th>min</th>\n",
       "      <td>78000.00</td>\n",
       "      <td>1.00</td>\n",
       "      <td>0.50</td>\n",
       "      <td>370.00</td>\n",
       "      <td>520.00</td>\n",
       "      <td>1.00</td>\n",
       "      <td>0.00</td>\n",
       "      <td>1.00</td>\n",
       "      <td>3.00</td>\n",
       "      <td>370.00</td>\n",
       "      <td>0.00</td>\n",
       "      <td>1900.00</td>\n",
       "      <td>98001.00</td>\n",
       "      <td>399.00</td>\n",
       "      <td>651.00</td>\n",
       "    </tr>\n",
       "    <tr>\n",
       "      <th>25%</th>\n",
       "      <td>322000.00</td>\n",
       "      <td>3.00</td>\n",
       "      <td>1.75</td>\n",
       "      <td>1430.00</td>\n",
       "      <td>5040.00</td>\n",
       "      <td>1.00</td>\n",
       "      <td>0.00</td>\n",
       "      <td>3.00</td>\n",
       "      <td>7.00</td>\n",
       "      <td>1190.00</td>\n",
       "      <td>0.00</td>\n",
       "      <td>1951.00</td>\n",
       "      <td>98033.00</td>\n",
       "      <td>1490.00</td>\n",
       "      <td>5100.00</td>\n",
       "    </tr>\n",
       "    <tr>\n",
       "      <th>50%</th>\n",
       "      <td>450000.00</td>\n",
       "      <td>3.00</td>\n",
       "      <td>2.25</td>\n",
       "      <td>1910.00</td>\n",
       "      <td>7618.00</td>\n",
       "      <td>1.50</td>\n",
       "      <td>0.00</td>\n",
       "      <td>3.00</td>\n",
       "      <td>7.00</td>\n",
       "      <td>1560.00</td>\n",
       "      <td>0.00</td>\n",
       "      <td>1975.00</td>\n",
       "      <td>98065.00</td>\n",
       "      <td>1840.00</td>\n",
       "      <td>7620.00</td>\n",
       "    </tr>\n",
       "    <tr>\n",
       "      <th>75%</th>\n",
       "      <td>645000.00</td>\n",
       "      <td>4.00</td>\n",
       "      <td>2.50</td>\n",
       "      <td>2550.00</td>\n",
       "      <td>10685.00</td>\n",
       "      <td>2.00</td>\n",
       "      <td>0.00</td>\n",
       "      <td>4.00</td>\n",
       "      <td>8.00</td>\n",
       "      <td>2210.00</td>\n",
       "      <td>550.00</td>\n",
       "      <td>1997.00</td>\n",
       "      <td>98118.00</td>\n",
       "      <td>2360.00</td>\n",
       "      <td>10083.00</td>\n",
       "    </tr>\n",
       "    <tr>\n",
       "      <th>max</th>\n",
       "      <td>7700000.00</td>\n",
       "      <td>33.00</td>\n",
       "      <td>8.00</td>\n",
       "      <td>13540.00</td>\n",
       "      <td>1651359.00</td>\n",
       "      <td>3.50</td>\n",
       "      <td>1.00</td>\n",
       "      <td>5.00</td>\n",
       "      <td>13.00</td>\n",
       "      <td>9410.00</td>\n",
       "      <td>4820.00</td>\n",
       "      <td>2015.00</td>\n",
       "      <td>98199.00</td>\n",
       "      <td>6210.00</td>\n",
       "      <td>871200.00</td>\n",
       "    </tr>\n",
       "    <tr>\n",
       "      <th>+3_std</th>\n",
       "      <td>1642400.99</td>\n",
       "      <td>6.15</td>\n",
       "      <td>4.42</td>\n",
       "      <td>4834.64</td>\n",
       "      <td>139337.32</td>\n",
       "      <td>3.11</td>\n",
       "      <td>0.25</td>\n",
       "      <td>5.36</td>\n",
       "      <td>11.18</td>\n",
       "      <td>4271.88</td>\n",
       "      <td>1605.18</td>\n",
       "      <td>2059.13</td>\n",
       "      <td>98238.49</td>\n",
       "      <td>4042.31</td>\n",
       "      <td>94581.61</td>\n",
       "    </tr>\n",
       "    <tr>\n",
       "      <th>-3_std</th>\n",
       "      <td>-561807.85</td>\n",
       "      <td>0.59</td>\n",
       "      <td>-0.19</td>\n",
       "      <td>-674.00</td>\n",
       "      <td>-109138.50</td>\n",
       "      <td>-0.12</td>\n",
       "      <td>-0.24</td>\n",
       "      <td>1.46</td>\n",
       "      <td>4.14</td>\n",
       "      <td>-694.68</td>\n",
       "      <td>-1033.74</td>\n",
       "      <td>1882.87</td>\n",
       "      <td>97917.41</td>\n",
       "      <td>-69.07</td>\n",
       "      <td>-69065.04</td>\n",
       "    </tr>\n",
       "  </tbody>\n",
       "</table>\n",
       "</div>"
      ],
      "text/plain": [
       "             price  bedrooms  bathrooms  sqft_living    sqft_lot    floors  \\\n",
       "count     21597.00  21597.00   21597.00     21597.00    21597.00  21597.00   \n",
       "mean     540296.57      3.37       2.12      2080.32    15099.41      1.49   \n",
       "std      367368.14      0.93       0.77       918.11    41412.64      0.54   \n",
       "min       78000.00      1.00       0.50       370.00      520.00      1.00   \n",
       "25%      322000.00      3.00       1.75      1430.00     5040.00      1.00   \n",
       "50%      450000.00      3.00       2.25      1910.00     7618.00      1.50   \n",
       "75%      645000.00      4.00       2.50      2550.00    10685.00      2.00   \n",
       "max     7700000.00     33.00       8.00     13540.00  1651359.00      3.50   \n",
       "+3_std  1642400.99      6.15       4.42      4834.64   139337.32      3.11   \n",
       "-3_std  -561807.85      0.59      -0.19      -674.00  -109138.50     -0.12   \n",
       "\n",
       "        waterfront  condition     grade  sqft_above  sqft_basement  yr_built  \\\n",
       "count     21597.00   21597.00  21597.00    21597.00       21597.00  21597.00   \n",
       "mean          0.01       3.41      7.66     1788.60         285.72   1971.00   \n",
       "std           0.08       0.65      1.17      827.76         439.82     29.38   \n",
       "min           0.00       1.00      3.00      370.00           0.00   1900.00   \n",
       "25%           0.00       3.00      7.00     1190.00           0.00   1951.00   \n",
       "50%           0.00       3.00      7.00     1560.00           0.00   1975.00   \n",
       "75%           0.00       4.00      8.00     2210.00         550.00   1997.00   \n",
       "max           1.00       5.00     13.00     9410.00        4820.00   2015.00   \n",
       "+3_std        0.25       5.36     11.18     4271.88        1605.18   2059.13   \n",
       "-3_std       -0.24       1.46      4.14     -694.68       -1033.74   1882.87   \n",
       "\n",
       "         zipcode  sqft_living15  sqft_lot15  \n",
       "count   21597.00       21597.00    21597.00  \n",
       "mean    98077.95        1986.62    12758.28  \n",
       "std        53.51         685.23    27274.44  \n",
       "min     98001.00         399.00      651.00  \n",
       "25%     98033.00        1490.00     5100.00  \n",
       "50%     98065.00        1840.00     7620.00  \n",
       "75%     98118.00        2360.00    10083.00  \n",
       "max     98199.00        6210.00   871200.00  \n",
       "+3_std  98238.49        4042.31    94581.61  \n",
       "-3_std  97917.41         -69.07   -69065.04  "
      ]
     },
     "execution_count": 3,
     "metadata": {},
     "output_type": "execute_result"
    }
   ],
   "source": [
    "# get the summary\n",
    "desc_df = df.describe()\n",
    "\n",
    "# add the standard deviation metric\n",
    "desc_df.loc['+3_std'] = desc_df.loc['mean'] + (desc_df.loc['std'] * 3)\n",
    "desc_df.loc['-3_std'] = desc_df.loc['mean'] - (desc_df.loc['std'] * 3)\n",
    "\n",
    "# display it\n",
    "desc_df.round(2)\n",
    "#desc_df"
   ]
  },
  {
   "cell_type": "markdown",
   "metadata": {},
   "source": [
    "#### Analysis\n",
    "\n",
    "There are a considerable number of outliers in the data that will have an effect on the output of our linear regression models. The extremity of the outliers can be seen by looking at the max value and comparing it to the + or - 3 standard devation value. "
   ]
  },
  {
   "cell_type": "markdown",
   "metadata": {},
   "source": [
    "### Step 2.2 Visualize the Data"
   ]
  },
  {
   "cell_type": "code",
   "execution_count": 4,
   "metadata": {
    "scrolled": true
   },
   "outputs": [
    {
     "data": {
      "text/html": [
       "<div>\n",
       "<style scoped>\n",
       "    .dataframe tbody tr th:only-of-type {\n",
       "        vertical-align: middle;\n",
       "    }\n",
       "\n",
       "    .dataframe tbody tr th {\n",
       "        vertical-align: top;\n",
       "    }\n",
       "\n",
       "    .dataframe thead th {\n",
       "        text-align: right;\n",
       "    }\n",
       "</style>\n",
       "<table border=\"1\" class=\"dataframe\">\n",
       "  <thead>\n",
       "    <tr style=\"text-align: right;\">\n",
       "      <th></th>\n",
       "      <th>price</th>\n",
       "      <th>bedrooms</th>\n",
       "      <th>bathrooms</th>\n",
       "      <th>sqft_living</th>\n",
       "      <th>sqft_lot</th>\n",
       "      <th>floors</th>\n",
       "      <th>waterfront</th>\n",
       "      <th>condition</th>\n",
       "      <th>grade</th>\n",
       "      <th>sqft_above</th>\n",
       "      <th>sqft_basement</th>\n",
       "      <th>yr_built</th>\n",
       "      <th>zipcode</th>\n",
       "      <th>sqft_living15</th>\n",
       "      <th>sqft_lot15</th>\n",
       "    </tr>\n",
       "  </thead>\n",
       "  <tbody>\n",
       "    <tr>\n",
       "      <th>price</th>\n",
       "      <td>True</td>\n",
       "      <td>False</td>\n",
       "      <td>True</td>\n",
       "      <td>True</td>\n",
       "      <td>False</td>\n",
       "      <td>False</td>\n",
       "      <td>False</td>\n",
       "      <td>False</td>\n",
       "      <td>True</td>\n",
       "      <td>True</td>\n",
       "      <td>False</td>\n",
       "      <td>False</td>\n",
       "      <td>False</td>\n",
       "      <td>True</td>\n",
       "      <td>False</td>\n",
       "    </tr>\n",
       "    <tr>\n",
       "      <th>bedrooms</th>\n",
       "      <td>False</td>\n",
       "      <td>True</td>\n",
       "      <td>True</td>\n",
       "      <td>True</td>\n",
       "      <td>False</td>\n",
       "      <td>False</td>\n",
       "      <td>False</td>\n",
       "      <td>False</td>\n",
       "      <td>False</td>\n",
       "      <td>True</td>\n",
       "      <td>False</td>\n",
       "      <td>False</td>\n",
       "      <td>False</td>\n",
       "      <td>False</td>\n",
       "      <td>False</td>\n",
       "    </tr>\n",
       "    <tr>\n",
       "      <th>bathrooms</th>\n",
       "      <td>True</td>\n",
       "      <td>True</td>\n",
       "      <td>True</td>\n",
       "      <td>True</td>\n",
       "      <td>False</td>\n",
       "      <td>True</td>\n",
       "      <td>False</td>\n",
       "      <td>False</td>\n",
       "      <td>True</td>\n",
       "      <td>True</td>\n",
       "      <td>False</td>\n",
       "      <td>True</td>\n",
       "      <td>False</td>\n",
       "      <td>True</td>\n",
       "      <td>False</td>\n",
       "    </tr>\n",
       "    <tr>\n",
       "      <th>sqft_living</th>\n",
       "      <td>True</td>\n",
       "      <td>True</td>\n",
       "      <td>True</td>\n",
       "      <td>True</td>\n",
       "      <td>False</td>\n",
       "      <td>False</td>\n",
       "      <td>False</td>\n",
       "      <td>False</td>\n",
       "      <td>True</td>\n",
       "      <td>True</td>\n",
       "      <td>True</td>\n",
       "      <td>False</td>\n",
       "      <td>False</td>\n",
       "      <td>True</td>\n",
       "      <td>False</td>\n",
       "    </tr>\n",
       "    <tr>\n",
       "      <th>sqft_lot</th>\n",
       "      <td>False</td>\n",
       "      <td>False</td>\n",
       "      <td>False</td>\n",
       "      <td>False</td>\n",
       "      <td>True</td>\n",
       "      <td>False</td>\n",
       "      <td>False</td>\n",
       "      <td>False</td>\n",
       "      <td>False</td>\n",
       "      <td>False</td>\n",
       "      <td>False</td>\n",
       "      <td>False</td>\n",
       "      <td>False</td>\n",
       "      <td>False</td>\n",
       "      <td>True</td>\n",
       "    </tr>\n",
       "    <tr>\n",
       "      <th>floors</th>\n",
       "      <td>False</td>\n",
       "      <td>False</td>\n",
       "      <td>True</td>\n",
       "      <td>False</td>\n",
       "      <td>False</td>\n",
       "      <td>True</td>\n",
       "      <td>False</td>\n",
       "      <td>False</td>\n",
       "      <td>True</td>\n",
       "      <td>True</td>\n",
       "      <td>False</td>\n",
       "      <td>True</td>\n",
       "      <td>False</td>\n",
       "      <td>False</td>\n",
       "      <td>False</td>\n",
       "    </tr>\n",
       "    <tr>\n",
       "      <th>waterfront</th>\n",
       "      <td>False</td>\n",
       "      <td>False</td>\n",
       "      <td>False</td>\n",
       "      <td>False</td>\n",
       "      <td>False</td>\n",
       "      <td>False</td>\n",
       "      <td>True</td>\n",
       "      <td>False</td>\n",
       "      <td>False</td>\n",
       "      <td>False</td>\n",
       "      <td>False</td>\n",
       "      <td>False</td>\n",
       "      <td>False</td>\n",
       "      <td>False</td>\n",
       "      <td>False</td>\n",
       "    </tr>\n",
       "    <tr>\n",
       "      <th>condition</th>\n",
       "      <td>False</td>\n",
       "      <td>False</td>\n",
       "      <td>False</td>\n",
       "      <td>False</td>\n",
       "      <td>False</td>\n",
       "      <td>False</td>\n",
       "      <td>False</td>\n",
       "      <td>True</td>\n",
       "      <td>False</td>\n",
       "      <td>False</td>\n",
       "      <td>False</td>\n",
       "      <td>False</td>\n",
       "      <td>False</td>\n",
       "      <td>False</td>\n",
       "      <td>False</td>\n",
       "    </tr>\n",
       "    <tr>\n",
       "      <th>grade</th>\n",
       "      <td>True</td>\n",
       "      <td>False</td>\n",
       "      <td>True</td>\n",
       "      <td>True</td>\n",
       "      <td>False</td>\n",
       "      <td>True</td>\n",
       "      <td>False</td>\n",
       "      <td>False</td>\n",
       "      <td>True</td>\n",
       "      <td>True</td>\n",
       "      <td>False</td>\n",
       "      <td>True</td>\n",
       "      <td>False</td>\n",
       "      <td>True</td>\n",
       "      <td>False</td>\n",
       "    </tr>\n",
       "    <tr>\n",
       "      <th>sqft_above</th>\n",
       "      <td>True</td>\n",
       "      <td>True</td>\n",
       "      <td>True</td>\n",
       "      <td>True</td>\n",
       "      <td>False</td>\n",
       "      <td>True</td>\n",
       "      <td>False</td>\n",
       "      <td>False</td>\n",
       "      <td>True</td>\n",
       "      <td>True</td>\n",
       "      <td>False</td>\n",
       "      <td>True</td>\n",
       "      <td>False</td>\n",
       "      <td>True</td>\n",
       "      <td>False</td>\n",
       "    </tr>\n",
       "    <tr>\n",
       "      <th>sqft_basement</th>\n",
       "      <td>False</td>\n",
       "      <td>False</td>\n",
       "      <td>False</td>\n",
       "      <td>True</td>\n",
       "      <td>False</td>\n",
       "      <td>False</td>\n",
       "      <td>False</td>\n",
       "      <td>False</td>\n",
       "      <td>False</td>\n",
       "      <td>False</td>\n",
       "      <td>True</td>\n",
       "      <td>False</td>\n",
       "      <td>False</td>\n",
       "      <td>False</td>\n",
       "      <td>False</td>\n",
       "    </tr>\n",
       "    <tr>\n",
       "      <th>yr_built</th>\n",
       "      <td>False</td>\n",
       "      <td>False</td>\n",
       "      <td>True</td>\n",
       "      <td>False</td>\n",
       "      <td>False</td>\n",
       "      <td>True</td>\n",
       "      <td>False</td>\n",
       "      <td>False</td>\n",
       "      <td>True</td>\n",
       "      <td>True</td>\n",
       "      <td>False</td>\n",
       "      <td>True</td>\n",
       "      <td>False</td>\n",
       "      <td>False</td>\n",
       "      <td>False</td>\n",
       "    </tr>\n",
       "    <tr>\n",
       "      <th>zipcode</th>\n",
       "      <td>False</td>\n",
       "      <td>False</td>\n",
       "      <td>False</td>\n",
       "      <td>False</td>\n",
       "      <td>False</td>\n",
       "      <td>False</td>\n",
       "      <td>False</td>\n",
       "      <td>False</td>\n",
       "      <td>False</td>\n",
       "      <td>False</td>\n",
       "      <td>False</td>\n",
       "      <td>False</td>\n",
       "      <td>True</td>\n",
       "      <td>False</td>\n",
       "      <td>False</td>\n",
       "    </tr>\n",
       "    <tr>\n",
       "      <th>sqft_living15</th>\n",
       "      <td>True</td>\n",
       "      <td>False</td>\n",
       "      <td>True</td>\n",
       "      <td>True</td>\n",
       "      <td>False</td>\n",
       "      <td>False</td>\n",
       "      <td>False</td>\n",
       "      <td>False</td>\n",
       "      <td>True</td>\n",
       "      <td>True</td>\n",
       "      <td>False</td>\n",
       "      <td>False</td>\n",
       "      <td>False</td>\n",
       "      <td>True</td>\n",
       "      <td>False</td>\n",
       "    </tr>\n",
       "    <tr>\n",
       "      <th>sqft_lot15</th>\n",
       "      <td>False</td>\n",
       "      <td>False</td>\n",
       "      <td>False</td>\n",
       "      <td>False</td>\n",
       "      <td>True</td>\n",
       "      <td>False</td>\n",
       "      <td>False</td>\n",
       "      <td>False</td>\n",
       "      <td>False</td>\n",
       "      <td>False</td>\n",
       "      <td>False</td>\n",
       "      <td>False</td>\n",
       "      <td>False</td>\n",
       "      <td>False</td>\n",
       "      <td>True</td>\n",
       "    </tr>\n",
       "  </tbody>\n",
       "</table>\n",
       "</div>"
      ],
      "text/plain": [
       "               price  bedrooms  bathrooms  sqft_living  sqft_lot  floors  \\\n",
       "price           True     False       True         True     False   False   \n",
       "bedrooms       False      True       True         True     False   False   \n",
       "bathrooms       True      True       True         True     False    True   \n",
       "sqft_living     True      True       True         True     False   False   \n",
       "sqft_lot       False     False      False        False      True   False   \n",
       "floors         False     False       True        False     False    True   \n",
       "waterfront     False     False      False        False     False   False   \n",
       "condition      False     False      False        False     False   False   \n",
       "grade           True     False       True         True     False    True   \n",
       "sqft_above      True      True       True         True     False    True   \n",
       "sqft_basement  False     False      False         True     False   False   \n",
       "yr_built       False     False       True        False     False    True   \n",
       "zipcode        False     False      False        False     False   False   \n",
       "sqft_living15   True     False       True         True     False   False   \n",
       "sqft_lot15     False     False      False        False      True   False   \n",
       "\n",
       "               waterfront  condition  grade  sqft_above  sqft_basement  \\\n",
       "price               False      False   True        True          False   \n",
       "bedrooms            False      False  False        True          False   \n",
       "bathrooms           False      False   True        True          False   \n",
       "sqft_living         False      False   True        True           True   \n",
       "sqft_lot            False      False  False       False          False   \n",
       "floors              False      False   True        True          False   \n",
       "waterfront           True      False  False       False          False   \n",
       "condition           False       True  False       False          False   \n",
       "grade               False      False   True        True          False   \n",
       "sqft_above          False      False   True        True          False   \n",
       "sqft_basement       False      False  False       False           True   \n",
       "yr_built            False      False   True        True          False   \n",
       "zipcode             False      False  False       False          False   \n",
       "sqft_living15       False      False   True        True          False   \n",
       "sqft_lot15          False      False  False       False          False   \n",
       "\n",
       "               yr_built  zipcode  sqft_living15  sqft_lot15  \n",
       "price             False    False           True       False  \n",
       "bedrooms          False    False          False       False  \n",
       "bathrooms          True    False           True       False  \n",
       "sqft_living       False    False           True       False  \n",
       "sqft_lot          False    False          False        True  \n",
       "floors             True    False          False       False  \n",
       "waterfront        False    False          False       False  \n",
       "condition         False    False          False       False  \n",
       "grade              True    False           True       False  \n",
       "sqft_above         True    False           True       False  \n",
       "sqft_basement     False    False          False       False  \n",
       "yr_built           True    False          False       False  \n",
       "zipcode           False     True          False       False  \n",
       "sqft_living15     False    False           True       False  \n",
       "sqft_lot15        False    False          False        True  "
      ]
     },
     "metadata": {},
     "output_type": "display_data"
    },
    {
     "data": {
      "text/plain": [
       "<matplotlib.axes._subplots.AxesSubplot at 0x21f65fe5ac8>"
      ]
     },
     "execution_count": 4,
     "metadata": {},
     "output_type": "execute_result"
    },
    {
     "data": {
      "image/png": "[encoded data removed]",
      "text/plain": [
       "<Figure size 1440x1440 with 2 Axes>"
      ]
     },
     "metadata": {
      "needs_background": "light"
     },
     "output_type": "display_data"
    }
   ],
   "source": [
    "# calculate the correlation matrix\n",
    "corr = df.corr().round(2)\n",
    "\n",
    "# display the correlation matrix\n",
    "plt.figure(figsize=(20,20))\n",
    "display(corr > .4)\n",
    "\n",
    "# plot the correlation heatmap\n",
    "sns.heatmap(corr, xticklabels=corr.columns, yticklabels=corr.columns, cmap='RdBu')\n"
   ]
  },
  {
   "cell_type": "code",
   "execution_count": 5,
   "metadata": {},
   "outputs": [
    {
     "data": {
      "text/plain": [
       "sqft_living      0.70\n",
       "grade            0.67\n",
       "sqft_above       0.61\n",
       "sqft_living15    0.59\n",
       "bathrooms        0.53\n",
       "sqft_basement    0.32\n",
       "bedrooms         0.31\n",
       "waterfront       0.26\n",
       "floors           0.26\n",
       "sqft_lot         0.09\n",
       "sqft_lot15       0.08\n",
       "yr_built         0.05\n",
       "condition        0.04\n",
       "zipcode         -0.05\n",
       "Name: price, dtype: float64"
      ]
     },
     "execution_count": 5,
     "metadata": {},
     "output_type": "execute_result"
    }
   ],
   "source": [
    "corr.price.sort_values(ascending=False)[1:]"
   ]
  },
  {
   "cell_type": "markdown",
   "metadata": {},
   "source": [
    "### Scatter Matrix"
   ]
  },
  {
   "cell_type": "code",
   "execution_count": 6,
   "metadata": {
    "scrolled": false
   },
   "outputs": [],
   "source": [
    "# define the plot\n",
    "#pd.plotting.scatter_matrix(df, alpha = 1, figsize = (30, 20))\n",
    "\n",
    "# show the plot\n",
    "plt.show()"
   ]
  },
  {
   "cell_type": "markdown",
   "metadata": {},
   "source": [
    "### Temmporary/Testing"
   ]
  },
  {
   "cell_type": "code",
   "execution_count": 7,
   "metadata": {},
   "outputs": [
    {
     "data": {
      "text/html": [
       "<div>\n",
       "<style scoped>\n",
       "    .dataframe tbody tr th:only-of-type {\n",
       "        vertical-align: middle;\n",
       "    }\n",
       "\n",
       "    .dataframe tbody tr th {\n",
       "        vertical-align: top;\n",
       "    }\n",
       "\n",
       "    .dataframe thead th {\n",
       "        text-align: right;\n",
       "    }\n",
       "</style>\n",
       "<table border=\"1\" class=\"dataframe\">\n",
       "  <thead>\n",
       "    <tr style=\"text-align: right;\">\n",
       "      <th></th>\n",
       "      <th>price</th>\n",
       "      <th>bedrooms</th>\n",
       "      <th>bathrooms</th>\n",
       "      <th>sqft_living</th>\n",
       "      <th>sqft_lot</th>\n",
       "      <th>floors</th>\n",
       "      <th>waterfront</th>\n",
       "      <th>condition</th>\n",
       "      <th>grade</th>\n",
       "      <th>sqft_above</th>\n",
       "      <th>sqft_basement</th>\n",
       "      <th>yr_built</th>\n",
       "      <th>sqft_living15</th>\n",
       "      <th>sqft_lot15</th>\n",
       "    </tr>\n",
       "    <tr>\n",
       "      <th>zipcode</th>\n",
       "      <th></th>\n",
       "      <th></th>\n",
       "      <th></th>\n",
       "      <th></th>\n",
       "      <th></th>\n",
       "      <th></th>\n",
       "      <th></th>\n",
       "      <th></th>\n",
       "      <th></th>\n",
       "      <th></th>\n",
       "      <th></th>\n",
       "      <th></th>\n",
       "      <th></th>\n",
       "      <th></th>\n",
       "    </tr>\n",
       "  </thead>\n",
       "  <tbody>\n",
       "    <tr>\n",
       "      <th>98039</th>\n",
       "      <td>1.166904e+06</td>\n",
       "      <td>0.890081</td>\n",
       "      <td>1.366509</td>\n",
       "      <td>1764.502500</td>\n",
       "      <td>6655.224175</td>\n",
       "      <td>0.501427</td>\n",
       "      <td>0.141421</td>\n",
       "      <td>0.579937</td>\n",
       "      <td>1.655664</td>\n",
       "      <td>1595.431517</td>\n",
       "      <td>714.842640</td>\n",
       "      <td>25.557650</td>\n",
       "      <td>701.535604</td>\n",
       "      <td>5957.568571</td>\n",
       "    </tr>\n",
       "    <tr>\n",
       "      <th>98102</th>\n",
       "      <td>7.903814e+05</td>\n",
       "      <td>1.146967</td>\n",
       "      <td>0.936100</td>\n",
       "      <td>1416.956148</td>\n",
       "      <td>3738.541805</td>\n",
       "      <td>0.535084</td>\n",
       "      <td>0.000000</td>\n",
       "      <td>0.641411</td>\n",
       "      <td>1.283804</td>\n",
       "      <td>1034.478508</td>\n",
       "      <td>496.459644</td>\n",
       "      <td>43.927591</td>\n",
       "      <td>592.328447</td>\n",
       "      <td>1875.940893</td>\n",
       "    </tr>\n",
       "    <tr>\n",
       "      <th>98004</th>\n",
       "      <td>7.460941e+05</td>\n",
       "      <td>0.976504</td>\n",
       "      <td>0.950634</td>\n",
       "      <td>1308.368630</td>\n",
       "      <td>6441.120122</td>\n",
       "      <td>0.516475</td>\n",
       "      <td>0.056166</td>\n",
       "      <td>0.619419</td>\n",
       "      <td>1.460538</td>\n",
       "      <td>1140.285874</td>\n",
       "      <td>633.315534</td>\n",
       "      <td>23.533908</td>\n",
       "      <td>743.307049</td>\n",
       "      <td>5294.473819</td>\n",
       "    </tr>\n",
       "    <tr>\n",
       "      <th>98040</th>\n",
       "      <td>6.077676e+05</td>\n",
       "      <td>0.859887</td>\n",
       "      <td>0.891947</td>\n",
       "      <td>1183.141017</td>\n",
       "      <td>7197.254905</td>\n",
       "      <td>0.522593</td>\n",
       "      <td>0.193956</td>\n",
       "      <td>0.698840</td>\n",
       "      <td>1.299563</td>\n",
       "      <td>953.751227</td>\n",
       "      <td>710.641063</td>\n",
       "      <td>17.577512</td>\n",
       "      <td>649.553780</td>\n",
       "      <td>3881.485489</td>\n",
       "    </tr>\n",
       "    <tr>\n",
       "      <th>98112</th>\n",
       "      <td>5.942232e+05</td>\n",
       "      <td>1.128377</td>\n",
       "      <td>0.907735</td>\n",
       "      <td>1118.442413</td>\n",
       "      <td>3129.238251</td>\n",
       "      <td>0.521722</td>\n",
       "      <td>0.000000</td>\n",
       "      <td>0.765815</td>\n",
       "      <td>1.203783</td>\n",
       "      <td>906.652855</td>\n",
       "      <td>479.411446</td>\n",
       "      <td>37.965448</td>\n",
       "      <td>789.077587</td>\n",
       "      <td>2085.339018</td>\n",
       "    </tr>\n",
       "    <tr>\n",
       "      <th>98105</th>\n",
       "      <td>4.778332e+05</td>\n",
       "      <td>1.363296</td>\n",
       "      <td>0.795222</td>\n",
       "      <td>954.336464</td>\n",
       "      <td>3311.876473</td>\n",
       "      <td>0.528048</td>\n",
       "      <td>0.113954</td>\n",
       "      <td>0.765053</td>\n",
       "      <td>1.106246</td>\n",
       "      <td>735.559880</td>\n",
       "      <td>433.979437</td>\n",
       "      <td>30.118715</td>\n",
       "      <td>655.124950</td>\n",
       "      <td>2695.410967</td>\n",
       "    </tr>\n",
       "    <tr>\n",
       "      <th>98033</th>\n",
       "      <td>4.628349e+05</td>\n",
       "      <td>0.829328</td>\n",
       "      <td>0.811419</td>\n",
       "      <td>1025.765907</td>\n",
       "      <td>7916.056192</td>\n",
       "      <td>0.492978</td>\n",
       "      <td>0.083140</td>\n",
       "      <td>0.681061</td>\n",
       "      <td>1.343955</td>\n",
       "      <td>917.855218</td>\n",
       "      <td>492.492947</td>\n",
       "      <td>23.145064</td>\n",
       "      <td>625.415000</td>\n",
       "      <td>5995.938413</td>\n",
       "    </tr>\n",
       "    <tr>\n",
       "      <th>98109</th>\n",
       "      <td>4.557008e+05</td>\n",
       "      <td>0.957205</td>\n",
       "      <td>0.850967</td>\n",
       "      <td>906.908825</td>\n",
       "      <td>1692.662740</td>\n",
       "      <td>0.621870</td>\n",
       "      <td>0.000000</td>\n",
       "      <td>0.740324</td>\n",
       "      <td>1.122016</td>\n",
       "      <td>683.522161</td>\n",
       "      <td>423.619964</td>\n",
       "      <td>39.750252</td>\n",
       "      <td>568.800743</td>\n",
       "      <td>1276.037972</td>\n",
       "    </tr>\n",
       "    <tr>\n",
       "      <th>98006</th>\n",
       "      <td>4.462724e+05</td>\n",
       "      <td>0.863370</td>\n",
       "      <td>0.806651</td>\n",
       "      <td>1170.730518</td>\n",
       "      <td>8772.702828</td>\n",
       "      <td>0.499893</td>\n",
       "      <td>0.089351</td>\n",
       "      <td>0.720451</td>\n",
       "      <td>1.362850</td>\n",
       "      <td>1036.450856</td>\n",
       "      <td>636.470466</td>\n",
       "      <td>16.944946</td>\n",
       "      <td>891.372362</td>\n",
       "      <td>6117.941375</td>\n",
       "    </tr>\n",
       "    <tr>\n",
       "      <th>98177</th>\n",
       "      <td>4.363797e+05</td>\n",
       "      <td>0.880667</td>\n",
       "      <td>0.826660</td>\n",
       "      <td>1067.258366</td>\n",
       "      <td>10361.708784</td>\n",
       "      <td>0.470629</td>\n",
       "      <td>0.062622</td>\n",
       "      <td>0.651289</td>\n",
       "      <td>1.222909</td>\n",
       "      <td>880.006483</td>\n",
       "      <td>528.565805</td>\n",
       "      <td>18.863969</td>\n",
       "      <td>613.174296</td>\n",
       "      <td>11577.153783</td>\n",
       "    </tr>\n",
       "  </tbody>\n",
       "</table>\n",
       "</div>"
      ],
      "text/plain": [
       "                price  bedrooms  bathrooms  sqft_living      sqft_lot  \\\n",
       "zipcode                                                                 \n",
       "98039    1.166904e+06  0.890081   1.366509  1764.502500   6655.224175   \n",
       "98102    7.903814e+05  1.146967   0.936100  1416.956148   3738.541805   \n",
       "98004    7.460941e+05  0.976504   0.950634  1308.368630   6441.120122   \n",
       "98040    6.077676e+05  0.859887   0.891947  1183.141017   7197.254905   \n",
       "98112    5.942232e+05  1.128377   0.907735  1118.442413   3129.238251   \n",
       "98105    4.778332e+05  1.363296   0.795222   954.336464   3311.876473   \n",
       "98033    4.628349e+05  0.829328   0.811419  1025.765907   7916.056192   \n",
       "98109    4.557008e+05  0.957205   0.850967   906.908825   1692.662740   \n",
       "98006    4.462724e+05  0.863370   0.806651  1170.730518   8772.702828   \n",
       "98177    4.363797e+05  0.880667   0.826660  1067.258366  10361.708784   \n",
       "\n",
       "           floors  waterfront  condition     grade   sqft_above  \\\n",
       "zipcode                                                           \n",
       "98039    0.501427    0.141421   0.579937  1.655664  1595.431517   \n",
       "98102    0.535084    0.000000   0.641411  1.283804  1034.478508   \n",
       "98004    0.516475    0.056166   0.619419  1.460538  1140.285874   \n",
       "98040    0.522593    0.193956   0.698840  1.299563   953.751227   \n",
       "98112    0.521722    0.000000   0.765815  1.203783   906.652855   \n",
       "98105    0.528048    0.113954   0.765053  1.106246   735.559880   \n",
       "98033    0.492978    0.083140   0.681061  1.343955   917.855218   \n",
       "98109    0.621870    0.000000   0.740324  1.122016   683.522161   \n",
       "98006    0.499893    0.089351   0.720451  1.362850  1036.450856   \n",
       "98177    0.470629    0.062622   0.651289  1.222909   880.006483   \n",
       "\n",
       "         sqft_basement   yr_built  sqft_living15    sqft_lot15  \n",
       "zipcode                                                         \n",
       "98039       714.842640  25.557650     701.535604   5957.568571  \n",
       "98102       496.459644  43.927591     592.328447   1875.940893  \n",
       "98004       633.315534  23.533908     743.307049   5294.473819  \n",
       "98040       710.641063  17.577512     649.553780   3881.485489  \n",
       "98112       479.411446  37.965448     789.077587   2085.339018  \n",
       "98105       433.979437  30.118715     655.124950   2695.410967  \n",
       "98033       492.492947  23.145064     625.415000   5995.938413  \n",
       "98109       423.619964  39.750252     568.800743   1276.037972  \n",
       "98006       636.470466  16.944946     891.372362   6117.941375  \n",
       "98177       528.565805  18.863969     613.174296  11577.153783  "
      ]
     },
     "execution_count": 7,
     "metadata": {},
     "output_type": "execute_result"
    }
   ],
   "source": [
    "zipcode_df = df.groupby(['zipcode'])\n",
    "zipcode_df.std().sort_values(['price'],ascending=False)[:10]"
   ]
  },
  {
   "cell_type": "markdown",
   "metadata": {},
   "source": [
    "## 2.3 Numerical Data"
   ]
  },
  {
   "cell_type": "markdown",
   "metadata": {},
   "source": [
    "### 2.3.1 Removing Extreme Outliers"
   ]
  },
  {
   "cell_type": "code",
   "execution_count": 8,
   "metadata": {},
   "outputs": [],
   "source": [
    "# filter the data frame to remove the values exceeding 3 standard deviations\n",
    "# Remove the extreme 0.03% of data\n",
    "#df = df[(np.abs(stats.zscore(df)) < 3).all(axis=1)]\n",
    "\n",
    "\n",
    "#preserve original df\n",
    "transformed_df = df"
   ]
  },
  {
   "cell_type": "markdown",
   "metadata": {},
   "source": [
    "### 2.3.2 Address Positive Skew - Price"
   ]
  },
  {
   "cell_type": "code",
   "execution_count": 9,
   "metadata": {
    "scrolled": true
   },
   "outputs": [
    {
     "data": {
      "text/plain": [
       "<matplotlib.axes._subplots.AxesSubplot at 0x21f66f45cc8>"
      ]
     },
     "execution_count": 9,
     "metadata": {},
     "output_type": "execute_result"
    },
    {
     "data": {
      "image/png": "[encoded data removed]",
      "text/plain": [
       "<Figure size 432x288 with 1 Axes>"
      ]
     },
     "metadata": {
      "needs_background": "light"
     },
     "output_type": "display_data"
    }
   ],
   "source": [
    "#view distribution of prices\n",
    "sns.distplot(df.price)"
   ]
  },
  {
   "cell_type": "code",
   "execution_count": 10,
   "metadata": {},
   "outputs": [
    {
     "data": {
      "text/plain": [
       "<matplotlib.axes._subplots.AxesSubplot at 0x21f66142788>"
      ]
     },
     "execution_count": 10,
     "metadata": {},
     "output_type": "execute_result"
    },
    {
     "data": {
      "image/png": "[encoded data removed]",
      "text/plain": [
       "<Figure size 432x288 with 1 Axes>"
      ]
     },
     "metadata": {
      "needs_background": "light"
     },
     "output_type": "display_data"
    }
   ],
   "source": [
    "#create new column with log distributed values\n",
    "transformed_df['log10_price'] = np.log10(df.price)\n",
    "\n",
    "#check distribution of values\n",
    "sns.distplot(transformed_df.log10_price)"
   ]
  },
  {
   "cell_type": "markdown",
   "metadata": {},
   "source": [
    "### 2.3.3 Confirming Skewness and Kurtosis Values for Price"
   ]
  },
  {
   "cell_type": "code",
   "execution_count": 11,
   "metadata": {
    "scrolled": true
   },
   "outputs": [
    {
     "name": "stdout",
     "output_type": "stream",
     "text": [
      "Before Log Transform Skewness:  4.023085207745834\n",
      "After Log Transform Skewness:  0.43097424174908605\n"
     ]
    }
   ],
   "source": [
    "#scipy.stats.skew\n",
    "print('Before Log Transform Skewness: ',skew(transformed_df.price)) \n",
    "print('After Log Transform Skewness: ',skew(transformed_df.log10_price)) "
   ]
  },
  {
   "cell_type": "code",
   "execution_count": 12,
   "metadata": {
    "scrolled": true
   },
   "outputs": [
    {
     "name": "stdout",
     "output_type": "stream",
     "text": [
      "Before Log Transform Kurtosis:  34.53308449607733\n",
      "After Log Transform Kurtosis:  0.6906107356267661\n"
     ]
    }
   ],
   "source": [
    "#scipy.stats.kurtosis\n",
    "print('Before Log Transform Kurtosis: ',kurtosis(transformed_df['price'], fisher = True))\n",
    "print('After Log Transform Kurtosis: ',kurtosis(transformed_df['log10_price'], fisher = True))"
   ]
  },
  {
   "cell_type": "markdown",
   "metadata": {},
   "source": [
    "**Kurtosis**\n",
    "- Any distribution with **kurtosis ≈3 (excess ≈0)** is called mesokurtic. This is a normal distribution\n",
    "- Any distribution with **kurtosis <3 (excess kurtosis <0)** is called platykurtic. Tails are shorter and thinner, and often its central peak is lower and broader.\n",
    "- Any distribution with **kurtosis >3 (excess kurtosis >0)** is called leptokurtic. Tails are longer and fatter, and often its central peak is higher and sharper.\n",
    "\n",
    "***\n",
    "\n",
    "**Skewness**\n",
    "- If skewness is **less than −1 or greater than +1**, the distribution is highly skewed.\n",
    "- If skewness is **between −1 and −½ or between +½ and +1**, the distribution is moderately skewed.\n",
    "- If skewness is **between −½ and +½**, the distribution is approximately symmetric."
   ]
  },
  {
   "cell_type": "markdown",
   "metadata": {},
   "source": [
    "### 2.3.4 Address Positive Skew - Sqft_Living"
   ]
  },
  {
   "cell_type": "code",
   "execution_count": 13,
   "metadata": {
    "scrolled": false
   },
   "outputs": [
    {
     "data": {
      "text/plain": [
       "<matplotlib.axes._subplots.AxesSubplot at 0x21f665809c8>"
      ]
     },
     "execution_count": 13,
     "metadata": {},
     "output_type": "execute_result"
    },
    {
     "data": {
      "image/png": "[encoded data removed]",
      "text/plain": [
       "<Figure size 432x288 with 1 Axes>"
      ]
     },
     "metadata": {
      "needs_background": "light"
     },
     "output_type": "display_data"
    }
   ],
   "source": [
    "sns.distplot(transformed_df.sqft_living)\n"
   ]
  },
  {
   "cell_type": "code",
   "execution_count": 14,
   "metadata": {
    "scrolled": false
   },
   "outputs": [
    {
     "data": {
      "text/plain": [
       "<matplotlib.axes._subplots.AxesSubplot at 0x21f6666ec48>"
      ]
     },
     "execution_count": 14,
     "metadata": {},
     "output_type": "execute_result"
    },
    {
     "data": {
      "image/png": "[encoded data removed]",
      "text/plain": [
       "<Figure size 432x288 with 1 Axes>"
      ]
     },
     "metadata": {
      "needs_background": "light"
     },
     "output_type": "display_data"
    }
   ],
   "source": [
    "#create new column with log distributed values\n",
    "transformed_df['log10_sqft_living'] = np.log10(df.sqft_living)\n",
    "\n",
    "#check distribution of values\n",
    "sns.distplot(transformed_df.log10_sqft_living)\n"
   ]
  },
  {
   "cell_type": "markdown",
   "metadata": {},
   "source": [
    "### 2.3.5 Confirming Skewness and Kurtosis Values for Sqft_Living"
   ]
  },
  {
   "cell_type": "code",
   "execution_count": 15,
   "metadata": {},
   "outputs": [
    {
     "name": "stdout",
     "output_type": "stream",
     "text": [
      "Before Log Transform Skewness:  1.4731131326116373\n",
      "After Log Transform Skewness:  -0.0273600693394441\n"
     ]
    }
   ],
   "source": [
    "#scipy.stats.skew\n",
    "print('Before Log Transform Skewness: ',skew(transformed_df.sqft_living))\n",
    "print('After Log Transform Skewness: ',skew(transformed_df.log10_sqft_living))"
   ]
  },
  {
   "cell_type": "code",
   "execution_count": 16,
   "metadata": {},
   "outputs": [
    {
     "name": "stdout",
     "output_type": "stream",
     "text": [
      "Before Log Transform Kurtosis:  34.53308449607733\n",
      "After Log Transform Kurtosis:  0.6906107356267661\n"
     ]
    }
   ],
   "source": [
    "#scipy.stats.kurtosis\n",
    "print('Before Log Transform Kurtosis: ',kurtosis(transformed_df['price'], fisher = True))\n",
    "print('After Log Transform Kurtosis: ',kurtosis(transformed_df['log10_price'], fisher = True))"
   ]
  },
  {
   "cell_type": "markdown",
   "metadata": {},
   "source": [
    "**Kurtosis**\n",
    "- Any distribution with **kurtosis ≈3 (excess ≈0)** is called mesokurtic. This is a normal distribution\n",
    "- Any distribution with **kurtosis <3 (excess kurtosis <0)** is called platykurtic. Tails are shorter and thinner, and often its central peak is lower and broader.\n",
    "- Any distribution with **kurtosis >3 (excess kurtosis >0)** is called leptokurtic. Tails are longer and fatter, and often its central peak is higher and sharper.\n",
    "\n",
    "***\n",
    "\n",
    "**Skewness**\n",
    "- If skewness is **less than −1 or greater than +1**, the distribution is highly skewed.\n",
    "- If skewness is **between −1 and −½ or between +½ and +1**, the distribution is moderately skewed.\n",
    "- If skewness is **between −½ and +½**, the distribution is approximately symmetric."
   ]
  },
  {
   "cell_type": "markdown",
   "metadata": {},
   "source": [
    "## 2.4 Categorical Data"
   ]
  },
  {
   "cell_type": "code",
   "execution_count": 17,
   "metadata": {
    "scrolled": false
   },
   "outputs": [
    {
     "data": {
      "text/plain": [
       "<matplotlib.axes._subplots.AxesSubplot at 0x21f66771488>"
      ]
     },
     "execution_count": 17,
     "metadata": {},
     "output_type": "execute_result"
    },
    {
     "data": {
      "image/png": "[encoded data removed]",
      "text/plain": [
       "<Figure size 432x288 with 1 Axes>"
      ]
     },
     "metadata": {
      "needs_background": "light"
     },
     "output_type": "display_data"
    }
   ],
   "source": [
    "transformed_df['bedrooms'] = df['bedrooms']  \n",
    "\n",
    "sns.distplot(transformed_df['bedrooms'])"
   ]
  },
  {
   "cell_type": "code",
   "execution_count": 18,
   "metadata": {},
   "outputs": [
    {
     "name": "stdout",
     "output_type": "stream",
     "text": [
      "Number of zipcodes in total:  70\n",
      "----------------------------------------------------------------------------------------------------\n",
      "98103    602\n",
      "98038    589\n",
      "98115    583\n",
      "98052    574\n",
      "98117    553\n",
      "98042    547\n",
      "98034    545\n",
      "98118    507\n",
      "98023    499\n",
      "98006    498\n",
      "Name: zipcode, dtype: int64\n"
     ]
    },
    {
     "data": {
      "text/plain": [
       "<matplotlib.axes._subplots.AxesSubplot at 0x21f66855b48>"
      ]
     },
     "execution_count": 18,
     "metadata": {},
     "output_type": "execute_result"
    },
    {
     "data": {
      "image/png": "[encoded data removed]",
      "text/plain": [
       "<Figure size 432x288 with 1 Axes>"
      ]
     },
     "metadata": {
      "needs_background": "light"
     },
     "output_type": "display_data"
    }
   ],
   "source": [
    "transformed_df['zipcode'] = df.zipcode\n",
    "\n",
    "print('Number of zipcodes in total: ',len(transformed_df.zipcode.unique()))\n",
    "print('-'*100)\n",
    "print(transformed_df.zipcode.value_counts().sort_values(ascending=False)[:10])\n",
    "sns.distplot(transformed_df.zipcode)"
   ]
  },
  {
   "cell_type": "code",
   "execution_count": 19,
   "metadata": {
    "scrolled": true
   },
   "outputs": [
    {
     "data": {
      "text/plain": [
       "<matplotlib.axes._subplots.AxesSubplot at 0x21f66855e08>"
      ]
     },
     "execution_count": 19,
     "metadata": {},
     "output_type": "execute_result"
    },
    {
     "data": {
      "image/png": "[encoded data removed]",
      "text/plain": [
       "<Figure size 432x288 with 1 Axes>"
      ]
     },
     "metadata": {
      "needs_background": "light"
     },
     "output_type": "display_data"
    }
   ],
   "source": [
    "sns.distplot(df.grade)"
   ]
  },
  {
   "cell_type": "code",
   "execution_count": 20,
   "metadata": {},
   "outputs": [
    {
     "data": {
      "text/plain": [
       "0.0    21451\n",
       "1.0      146\n",
       "Name: waterfront, dtype: int64"
      ]
     },
     "execution_count": 20,
     "metadata": {},
     "output_type": "execute_result"
    }
   ],
   "source": [
    "df.waterfront.value_counts()\n",
    "#transformed_df.waterfront.value_counts()"
   ]
  },
  {
   "cell_type": "code",
   "execution_count": 21,
   "metadata": {
    "scrolled": false
   },
   "outputs": [],
   "source": [
    "transformed_df = pd.get_dummies(transformed_df, columns=['zipcode'], drop_first=True)"
   ]
  },
  {
   "cell_type": "code",
   "execution_count": 22,
   "metadata": {},
   "outputs": [
    {
     "data": {
      "text/plain": [
       "Index(['price', 'bedrooms', 'bathrooms', 'sqft_living', 'sqft_lot', 'floors',\n",
       "       'waterfront', 'condition', 'grade', 'sqft_above', 'sqft_basement',\n",
       "       'yr_built', 'sqft_living15', 'sqft_lot15', 'log10_price',\n",
       "       'log10_sqft_living', 'zipcode_98002', 'zipcode_98003', 'zipcode_98004',\n",
       "       'zipcode_98005', 'zipcode_98006', 'zipcode_98007', 'zipcode_98008',\n",
       "       'zipcode_98010', 'zipcode_98011', 'zipcode_98014', 'zipcode_98019',\n",
       "       'zipcode_98022', 'zipcode_98023', 'zipcode_98024', 'zipcode_98027',\n",
       "       'zipcode_98028', 'zipcode_98029', 'zipcode_98030', 'zipcode_98031',\n",
       "       'zipcode_98032', 'zipcode_98033', 'zipcode_98034', 'zipcode_98038',\n",
       "       'zipcode_98039', 'zipcode_98040', 'zipcode_98042', 'zipcode_98045',\n",
       "       'zipcode_98052', 'zipcode_98053', 'zipcode_98055', 'zipcode_98056',\n",
       "       'zipcode_98058', 'zipcode_98059', 'zipcode_98065', 'zipcode_98070',\n",
       "       'zipcode_98072', 'zipcode_98074', 'zipcode_98075', 'zipcode_98077',\n",
       "       'zipcode_98092', 'zipcode_98102', 'zipcode_98103', 'zipcode_98105',\n",
       "       'zipcode_98106', 'zipcode_98107', 'zipcode_98108', 'zipcode_98109',\n",
       "       'zipcode_98112', 'zipcode_98115', 'zipcode_98116', 'zipcode_98117',\n",
       "       'zipcode_98118', 'zipcode_98119', 'zipcode_98122', 'zipcode_98125',\n",
       "       'zipcode_98126', 'zipcode_98133', 'zipcode_98136', 'zipcode_98144',\n",
       "       'zipcode_98146', 'zipcode_98148', 'zipcode_98155', 'zipcode_98166',\n",
       "       'zipcode_98168', 'zipcode_98177', 'zipcode_98178', 'zipcode_98188',\n",
       "       'zipcode_98198', 'zipcode_98199'],\n",
       "      dtype='object')"
      ]
     },
     "execution_count": 22,
     "metadata": {},
     "output_type": "execute_result"
    }
   ],
   "source": [
    "transformed_df.columns"
   ]
  },
  {
   "cell_type": "code",
   "execution_count": 23,
   "metadata": {},
   "outputs": [],
   "source": [
    "columns_to_be_dropped = ['price','sqft_living','bathrooms','bedrooms','sqft_lot','floors','condition','grade','sqft_living15','sqft_lot15','sqft_above',\n",
    "                         'sqft_basement','yr_built']\n",
    "final_df = transformed_df.drop(columns=columns_to_be_dropped)"
   ]
  },
  {
   "cell_type": "code",
   "execution_count": 24,
   "metadata": {},
   "outputs": [
    {
     "data": {
      "text/plain": [
       "{'log10_price',\n",
       " 'log10_sqft_living',\n",
       " 'waterfront',\n",
       " 'zipcode_98002',\n",
       " 'zipcode_98003',\n",
       " 'zipcode_98004',\n",
       " 'zipcode_98005',\n",
       " 'zipcode_98006',\n",
       " 'zipcode_98007',\n",
       " 'zipcode_98008',\n",
       " 'zipcode_98010',\n",
       " 'zipcode_98011',\n",
       " 'zipcode_98014',\n",
       " 'zipcode_98019',\n",
       " 'zipcode_98022',\n",
       " 'zipcode_98023',\n",
       " 'zipcode_98024',\n",
       " 'zipcode_98027',\n",
       " 'zipcode_98028',\n",
       " 'zipcode_98029',\n",
       " 'zipcode_98030',\n",
       " 'zipcode_98031',\n",
       " 'zipcode_98032',\n",
       " 'zipcode_98033',\n",
       " 'zipcode_98034',\n",
       " 'zipcode_98038',\n",
       " 'zipcode_98039',\n",
       " 'zipcode_98040',\n",
       " 'zipcode_98042',\n",
       " 'zipcode_98045',\n",
       " 'zipcode_98052',\n",
       " 'zipcode_98053',\n",
       " 'zipcode_98055',\n",
       " 'zipcode_98056',\n",
       " 'zipcode_98058',\n",
       " 'zipcode_98059',\n",
       " 'zipcode_98065',\n",
       " 'zipcode_98070',\n",
       " 'zipcode_98072',\n",
       " 'zipcode_98074',\n",
       " 'zipcode_98075',\n",
       " 'zipcode_98077',\n",
       " 'zipcode_98092',\n",
       " 'zipcode_98102',\n",
       " 'zipcode_98103',\n",
       " 'zipcode_98105',\n",
       " 'zipcode_98106',\n",
       " 'zipcode_98107',\n",
       " 'zipcode_98108',\n",
       " 'zipcode_98109',\n",
       " 'zipcode_98112',\n",
       " 'zipcode_98115',\n",
       " 'zipcode_98116',\n",
       " 'zipcode_98117',\n",
       " 'zipcode_98118',\n",
       " 'zipcode_98119',\n",
       " 'zipcode_98122',\n",
       " 'zipcode_98125',\n",
       " 'zipcode_98126',\n",
       " 'zipcode_98133',\n",
       " 'zipcode_98136',\n",
       " 'zipcode_98144',\n",
       " 'zipcode_98146',\n",
       " 'zipcode_98148',\n",
       " 'zipcode_98155',\n",
       " 'zipcode_98166',\n",
       " 'zipcode_98168',\n",
       " 'zipcode_98177',\n",
       " 'zipcode_98178',\n",
       " 'zipcode_98188',\n",
       " 'zipcode_98198',\n",
       " 'zipcode_98199'}"
      ]
     },
     "execution_count": 24,
     "metadata": {},
     "output_type": "execute_result"
    }
   ],
   "source": [
    "#columns that remain\n",
    "set(final_df.columns)"
   ]
  },
  {
   "cell_type": "code",
   "execution_count": 25,
   "metadata": {},
   "outputs": [
    {
     "data": {
      "text/plain": [
       "const    448.39\n",
       "dtype: float64"
      ]
     },
     "metadata": {},
     "output_type": "display_data"
    }
   ],
   "source": [
    "# the VIFdoes expect a constant term in the data, so we need to add one using the add_constant method\n",
    "x_1 = sm.tools.add_constant(final_df.drop(columns='log10_price'))\n",
    "#X2 = sm.tools.add_constant(df_iter_1)\n",
    "\n",
    "# create the series for both\n",
    "vif_check_df = pd.Series([variance_inflation_factor(x_1.values, i) for i in range(x_1.shape[1])], index=x_1.columns)\n",
    "\n",
    "# display the series to find vaues greater than 5\n",
    "display(vif_check_df.round(2).loc[vif_check_df > 5])"
   ]
  },
  {
   "cell_type": "code",
   "execution_count": 26,
   "metadata": {},
   "outputs": [],
   "source": [
    "final_df.to_csv('linreg_ready_data.csv',index=False)"
   ]
  },
  {
   "cell_type": "code",
   "execution_count": 27,
   "metadata": {},
   "outputs": [
    {
     "data": {
      "text/plain": [
       "(21597, 72)"
      ]
     },
     "execution_count": 27,
     "metadata": {},
     "output_type": "execute_result"
    }
   ],
   "source": [
    "final_df.shape"
   ]
  },
  {
   "cell_type": "code",
   "execution_count": null,
   "metadata": {},
   "outputs": [],
   "source": []
  }
 ],
 "metadata": {
  "kernelspec": {
   "display_name": "Python 3",
   "language": "python",
   "name": "python3"
  },
  "language_info": {
   "codemirror_mode": {
    "name": "ipython",
    "version": 3
   },
   "file_extension": ".py",
   "mimetype": "text/x-python",
   "name": "python",
   "nbconvert_exporter": "python",
   "pygments_lexer": "ipython3",
   "version": "3.7.6"
  }
 },
 "nbformat": 4,
 "nbformat_minor": 4
}
