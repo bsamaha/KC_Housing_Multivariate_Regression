{
 "cells": [
  {
   "cell_type": "markdown",
   "metadata": {},
   "source": [
    "# Import Libraries & Data for Model"
   ]
  },
  {
   "cell_type": "code",
   "execution_count": 1,
   "metadata": {},
   "outputs": [],
   "source": [
    "import pandas as pd\n",
    "import matplotlib.pyplot as plt\n",
    "import numpy as np\n",
    "import statsmodels.api as sm\n",
    "import math\n",
    "import seaborn as sns\n",
    "from my_func import *\n",
    "import pylab\n",
    "\n",
    "import statsmodels.api as sm\n",
    "from statsmodels.stats import diagnostic as diag\n",
    "from statsmodels.stats.outliers_influence import variance_inflation_factor\n",
    "\n",
    "from sklearn.model_selection import train_test_split,cross_val_score\n",
    "from sklearn.linear_model import LinearRegression\n",
    "from sklearn.metrics import mean_squared_error, r2_score, mean_absolute_error\n",
    "\n",
    "from scipy import stats\n",
    "from scipy.stats import kurtosis, skew\n",
    "\n",
    "%matplotlib inline"
   ]
  },
  {
   "cell_type": "code",
   "execution_count": 2,
   "metadata": {},
   "outputs": [
    {
     "data": {
      "text/plain": [
       "(20110, 71)"
      ]
     },
     "metadata": {},
     "output_type": "display_data"
    },
    {
     "data": {
      "text/plain": [
       "Index(['log_price', 'log_sqft_living', 'zipcode_98002', 'zipcode_98003',\n",
       "       'zipcode_98004', 'zipcode_98005', 'zipcode_98006', 'zipcode_98007',\n",
       "       'zipcode_98008', 'zipcode_98010', 'zipcode_98011', 'zipcode_98014',\n",
       "       'zipcode_98019', 'zipcode_98022', 'zipcode_98023', 'zipcode_98024',\n",
       "       'zipcode_98027', 'zipcode_98028', 'zipcode_98029', 'zipcode_98030',\n",
       "       'zipcode_98031', 'zipcode_98032', 'zipcode_98033', 'zipcode_98034',\n",
       "       'zipcode_98038', 'zipcode_98039', 'zipcode_98040', 'zipcode_98042',\n",
       "       'zipcode_98045', 'zipcode_98052', 'zipcode_98053', 'zipcode_98055',\n",
       "       'zipcode_98056', 'zipcode_98058', 'zipcode_98059', 'zipcode_98065',\n",
       "       'zipcode_98070', 'zipcode_98072', 'zipcode_98074', 'zipcode_98075',\n",
       "       'zipcode_98077', 'zipcode_98092', 'zipcode_98102', 'zipcode_98103',\n",
       "       'zipcode_98105', 'zipcode_98106', 'zipcode_98107', 'zipcode_98108',\n",
       "       'zipcode_98109', 'zipcode_98112', 'zipcode_98115', 'zipcode_98116',\n",
       "       'zipcode_98117', 'zipcode_98118', 'zipcode_98119', 'zipcode_98122',\n",
       "       'zipcode_98125', 'zipcode_98126', 'zipcode_98133', 'zipcode_98136',\n",
       "       'zipcode_98144', 'zipcode_98146', 'zipcode_98148', 'zipcode_98155',\n",
       "       'zipcode_98166', 'zipcode_98168', 'zipcode_98177', 'zipcode_98178',\n",
       "       'zipcode_98188', 'zipcode_98198', 'zipcode_98199'],\n",
       "      dtype='object')"
      ]
     },
     "metadata": {},
     "output_type": "display_data"
    }
   ],
   "source": [
    "df = pd.read_csv('linreg_ready_data.csv')\n",
    "display(df.shape)\n",
    "display(df.columns)"
   ]
  },
  {
   "cell_type": "markdown",
   "metadata": {},
   "source": [
    "# Assumptions of Model"
   ]
  },
  {
   "cell_type": "code",
   "execution_count": null,
   "metadata": {},
   "outputs": [],
   "source": []
  },
  {
   "cell_type": "markdown",
   "metadata": {},
   "source": [
    "# Build The Model"
   ]
  },
  {
   "cell_type": "markdown",
   "metadata": {},
   "source": [
    "***\n",
    "#### Create Test Train Split"
   ]
  },
  {
   "cell_type": "code",
   "execution_count": 14,
   "metadata": {},
   "outputs": [],
   "source": [
    "# define our input variable (X) & output variable\n",
    "X = df.drop(columns=['log_price','zipcode_98023','zipcode_98032'], axis=1)\n",
    "Y = df[['log_price']]\n",
    "\n",
    "# Split X and y into X_\n",
    "X_train, X_test, y_train, y_test = train_test_split(X, Y, test_size=0.20, random_state=1)"
   ]
  },
  {
   "cell_type": "code",
   "execution_count": 19,
   "metadata": {},
   "outputs": [
    {
     "name": "stdout",
     "output_type": "stream",
     "text": [
      "                           GLSAR Regression Results                           \n",
      "==============================================================================\n",
      "Dep. Variable:              log_price   R-squared:                       0.816\n",
      "Model:                          GLSAR   Adj. R-squared:                  0.815\n",
      "Method:                 Least Squares   F-statistic:                     1306.\n",
      "Date:                Wed, 03 Jun 2020   Prob (F-statistic):               0.00\n",
      "Time:                        09:38:37   Log-Likelihood:                 3668.1\n",
      "No. Observations:               20109   AIC:                            -7198.\n",
      "Df Residuals:                   20040   BIC:                            -6652.\n",
      "Df Model:                          68                                         \n",
      "Covariance Type:            nonrobust                                         \n",
      "===================================================================================\n",
      "                      coef    std err          t      P>|t|      [0.025      0.975]\n",
      "-----------------------------------------------------------------------------------\n",
      "const               7.4397      0.031    241.920      0.000       7.379       7.500\n",
      "log_sqft_living     0.6728      0.004    167.712      0.000       0.665       0.681\n",
      "zipcode_98002      -0.0407      0.016     -2.569      0.010      -0.072      -0.010\n",
      "zipcode_98003       0.0498      0.014      3.603      0.000       0.023       0.077\n",
      "zipcode_98004       1.1755      0.015     77.844      0.000       1.146       1.205\n",
      "zipcode_98005       0.8418      0.018     47.002      0.000       0.807       0.877\n",
      "zipcode_98006       0.7639      0.012     63.895      0.000       0.740       0.787\n",
      "zipcode_98007       0.7093      0.019     38.217      0.000       0.673       0.746\n",
      "zipcode_98008       0.6942      0.014     49.937      0.000       0.667       0.721\n",
      "zipcode_98010       0.2670      0.023     11.363      0.000       0.221       0.313\n",
      "zipcode_98011       0.4751      0.016     29.690      0.000       0.444       0.507\n",
      "zipcode_98014       0.3341      0.023     14.781      0.000       0.290       0.378\n",
      "zipcode_98019       0.3264      0.017     19.182      0.000       0.293       0.360\n",
      "zipcode_98022       0.0790      0.016      4.842      0.000       0.047       0.111\n",
      "zipcode_98024       0.4516      0.030     14.971      0.000       0.393       0.511\n",
      "zipcode_98027       0.5943      0.013     47.377      0.000       0.570       0.619\n",
      "zipcode_98028       0.4408      0.014     31.971      0.000       0.414       0.468\n",
      "zipcode_98029       0.6629      0.013     50.301      0.000       0.637       0.689\n",
      "zipcode_98030       0.0505      0.014      3.531      0.000       0.022       0.079\n",
      "zipcode_98031       0.0830      0.014      5.957      0.000       0.056       0.110\n",
      "zipcode_98033       0.8450      0.012     70.381      0.000       0.821       0.869\n",
      "zipcode_98034       0.5477      0.011     49.945      0.000       0.526       0.569\n",
      "zipcode_98038       0.1697      0.011     15.635      0.000       0.148       0.191\n",
      "zipcode_98039       1.3774      0.049     27.872      0.000       1.281       1.474\n",
      "zipcode_98040       1.0360      0.015     67.995      0.000       1.006       1.066\n",
      "zipcode_98042       0.0850      0.011      7.758      0.000       0.063       0.106\n",
      "zipcode_98045       0.3727      0.016     23.309      0.000       0.341       0.404\n",
      "zipcode_98052       0.7004      0.011     65.059      0.000       0.679       0.722\n",
      "zipcode_98053       0.6618      0.013     51.760      0.000       0.637       0.687\n",
      "zipcode_98055       0.1438      0.014     10.238      0.000       0.116       0.171\n",
      "zipcode_98056       0.3458      0.012     28.761      0.000       0.322       0.369\n",
      "zipcode_98058       0.1833      0.012     15.735      0.000       0.160       0.206\n",
      "zipcode_98059       0.3707      0.012     31.709      0.000       0.348       0.394\n",
      "zipcode_98065       0.4356      0.014     31.739      0.000       0.409       0.463\n",
      "zipcode_98070       0.4844      0.027     18.026      0.000       0.432       0.537\n",
      "zipcode_98072       0.5607      0.014     39.518      0.000       0.533       0.589\n",
      "zipcode_98074       0.6564      0.012     54.845      0.000       0.633       0.680\n",
      "zipcode_98075       0.7019      0.013     53.238      0.000       0.676       0.728\n",
      "zipcode_98077       0.5983      0.017     34.794      0.000       0.565       0.632\n",
      "zipcode_98092       0.0489      0.013      3.676      0.000       0.023       0.075\n",
      "zipcode_98102       1.0270      0.022     47.521      0.000       0.985       1.069\n",
      "zipcode_98103       0.8429      0.011     79.858      0.000       0.822       0.864\n",
      "zipcode_98105       0.9876      0.015     63.730      0.000       0.957       1.018\n",
      "zipcode_98106       0.3295      0.013     25.486      0.000       0.304       0.355\n",
      "zipcode_98107       0.8682      0.014     61.628      0.000       0.841       0.896\n",
      "zipcode_98108       0.3354      0.016     20.686      0.000       0.304       0.367\n",
      "zipcode_98109       1.0424      0.021     49.582      0.000       1.001       1.084\n",
      "zipcode_98112       1.0722      0.015     71.310      0.000       1.043       1.102\n",
      "zipcode_98115       0.8292      0.011     78.142      0.000       0.808       0.850\n",
      "zipcode_98116       0.8185      0.013     62.616      0.000       0.793       0.844\n",
      "zipcode_98117       0.8316      0.011     76.875      0.000       0.810       0.853\n",
      "zipcode_98118       0.4618      0.011     41.185      0.000       0.440       0.484\n",
      "zipcode_98119       1.0277      0.017     61.802      0.000       0.995       1.060\n",
      "zipcode_98122       0.8465      0.014     61.489      0.000       0.820       0.874\n",
      "zipcode_98125       0.5681      0.012     47.214      0.000       0.545       0.592\n",
      "zipcode_98126       0.5758      0.013     45.677      0.000       0.551       0.601\n",
      "zipcode_98133       0.4652      0.011     41.445      0.000       0.443       0.487\n",
      "zipcode_98136       0.7348      0.014     51.653      0.000       0.707       0.763\n",
      "zipcode_98144       0.6781      0.013     52.419      0.000       0.653       0.703\n",
      "zipcode_98146       0.2772      0.014     20.142      0.000       0.250       0.304\n",
      "zipcode_98148       0.1435      0.028      5.125      0.000       0.089       0.198\n",
      "zipcode_98155       0.4437      0.012     37.888      0.000       0.421       0.467\n",
      "zipcode_98166       0.3590      0.015     24.444      0.000       0.330       0.388\n",
      "zipcode_98168       0.0503      0.014      3.587      0.000       0.023       0.078\n",
      "zipcode_98177       0.6657      0.015     45.311      0.000       0.637       0.695\n",
      "zipcode_98178       0.1250      0.014      8.721      0.000       0.097       0.153\n",
      "zipcode_98188       0.0850      0.019      4.565      0.000       0.049       0.121\n",
      "zipcode_98198       0.0956      0.014      6.843      0.000       0.068       0.123\n",
      "zipcode_98199       0.9174      0.013     68.474      0.000       0.891       0.944\n",
      "==============================================================================\n",
      "Omnibus:                      842.147   Durbin-Watson:                   1.994\n",
      "Prob(Omnibus):                  0.000   Jarque-Bera (JB):             2751.263\n",
      "Skew:                          -0.057   Prob(JB):                         0.00\n",
      "Kurtosis:                       4.808   Cond. No.                         301.\n",
      "==============================================================================\n",
      "\n",
      "Warnings:\n",
      "[1] Standard Errors assume that the covariance matrix of the errors is correctly specified.\n"
     ]
    }
   ],
   "source": [
    "# define our intput\n",
    "X2 = sm.add_constant(X)\n",
    "\n",
    "# create a OLS model\n",
    "model = sm.GLSAR(Y, X2)\n",
    "\n",
    "# fit the data\n",
    "est = model.fit()\n",
    "\n",
    "# check the data\n",
    "print(est.summary())"
   ]
  },
  {
   "cell_type": "markdown",
   "metadata": {},
   "source": [
    "***\n",
    "#### Exlpore the output\n"
   ]
  },
  {
   "cell_type": "code",
   "execution_count": 17,
   "metadata": {},
   "outputs": [
    {
     "name": "stdout",
     "output_type": "stream",
     "text": [
      "Accuracy: 0.813 (+/- 0.01)\n"
     ]
    }
   ],
   "source": [
    "from my_func import SMWrapper\n",
    "cv_results  = cross_val_score(SMWrapper(sm.GLM),X2,Y, cv=5)\n",
    "print(\"Accuracy: %0.3f (+/- %0.2f)\" % (cv_results.mean(), cv_results.std() * 2))"
   ]
  },
  {
   "cell_type": "code",
   "execution_count": null,
   "metadata": {},
   "outputs": [],
   "source": []
  }
 ],
 "metadata": {
  "kernelspec": {
   "display_name": "Python 3",
   "language": "python",
   "name": "python3"
  },
  "language_info": {
   "codemirror_mode": {
    "name": "ipython",
    "version": 3
   },
   "file_extension": ".py",
   "mimetype": "text/x-python",
   "name": "python",
   "nbconvert_exporter": "python",
   "pygments_lexer": "ipython3",
   "version": "3.7.6"
  }
 },
 "nbformat": 4,
 "nbformat_minor": 4
}
